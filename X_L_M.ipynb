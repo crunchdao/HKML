{
 "cells": [
  {
   "cell_type": "markdown",
   "id": "04e6a154-b745-4699-b776-cf80d3c56fcc",
   "metadata": {},
   "source": [
    "# Code describe the line of reasoning we need to show for all the cases"
   ]
  },
  {
   "cell_type": "code",
   "execution_count": 97,
   "id": "be3e2052-edf4-442d-b92d-940105a540b2",
   "metadata": {},
   "outputs": [],
   "source": [
    "import pandas as pd\n",
    "import matplotlib.pyplot as plt\n",
    "import numpy as np\n",
    "from sklearn import datasets, linear_model, model_selection\n",
    "from sklearn.metrics import mean_squared_error, r2_score"
   ]
  },
  {
   "cell_type": "markdown",
   "id": "9b31ab78-fcc7-4971-b66d-af1d83a7a9b5",
   "metadata": {
    "tags": []
   },
   "source": [
    "# Load data"
   ]
  },
  {
   "cell_type": "code",
   "execution_count": 98,
   "id": "0ccc56a7-1515-4f04-8127-97ff5e563c08",
   "metadata": {},
   "outputs": [],
   "source": [
    "B = pd.read_parquet('./data/B_HKML.parquet')"
   ]
  },
  {
   "cell_type": "code",
   "execution_count": 99,
   "id": "77c1ded1-cba8-414b-a9a9-8a8c6b7aaad6",
   "metadata": {},
   "outputs": [],
   "source": [
    "B = B[B['date'] < '2022-05-01']"
   ]
  },
  {
   "cell_type": "code",
   "execution_count": 100,
   "id": "0fe0fe4d-6fee-4742-bb50-38972ea466b6",
   "metadata": {},
   "outputs": [],
   "source": [
    "X_df = pd.read_parquet('./data/X_HKML.parquet')"
   ]
  },
  {
   "cell_type": "code",
   "execution_count": 101,
   "id": "03a3322d-d48a-4ef9-a6a0-bad5bd9e1ac9",
   "metadata": {},
   "outputs": [],
   "source": [
    "X_df.reset_index(drop=True, inplace=True)"
   ]
  },
  {
   "cell_type": "code",
   "execution_count": 102,
   "id": "d922be9e-8b52-41c2-a420-592f172c23f7",
   "metadata": {},
   "outputs": [],
   "source": [
    "X_df = X_df[X_df['date'] < '2022-05-01']"
   ]
  },
  {
   "cell_type": "code",
   "execution_count": 103,
   "id": "dc27e448-63ee-496e-860b-3b683a22a600",
   "metadata": {},
   "outputs": [],
   "source": [
    "y = pd.read_parquet('./data/Y_HKML.parquet')"
   ]
  },
  {
   "cell_type": "code",
   "execution_count": 104,
   "id": "e33da0f3-398a-4e25-b629-e65199005a25",
   "metadata": {},
   "outputs": [],
   "source": [
    "y = y.iloc[X_df.index]"
   ]
  },
  {
   "cell_type": "code",
   "execution_count": 105,
   "id": "0b898a86-ab47-44bf-8ecc-6496b9d6653b",
   "metadata": {},
   "outputs": [],
   "source": [
    "X = X_df.drop('date', axis=1).to_numpy()"
   ]
  },
  {
   "cell_type": "code",
   "execution_count": 106,
   "id": "9e6344f5-2fbd-4bdc-a1ca-28b6fa6f6185",
   "metadata": {},
   "outputs": [],
   "source": [
    "y = y.to_numpy().ravel()"
   ]
  },
  {
   "cell_type": "markdown",
   "id": "70709e39-bec7-4b30-b904-2364362b8d2c",
   "metadata": {
    "tags": []
   },
   "source": [
    "# Train-test split"
   ]
  },
  {
   "cell_type": "code",
   "execution_count": 107,
   "id": "2f550478-ab7b-4991-b116-f6b3d2ab87c8",
   "metadata": {},
   "outputs": [],
   "source": [
    "moons = X_df.date.unique()"
   ]
  },
  {
   "cell_type": "code",
   "execution_count": 108,
   "id": "3489cd0b-b77c-40f2-a7b4-df98fc7346d8",
   "metadata": {},
   "outputs": [
    {
     "data": {
      "text/plain": [
       "307"
      ]
     },
     "execution_count": 108,
     "metadata": {},
     "output_type": "execute_result"
    }
   ],
   "source": [
    "moons.shape[0]"
   ]
  },
  {
   "cell_type": "code",
   "execution_count": 61,
   "id": "2e8058a7-a1e8-4ea3-be38-fb53888a7dc0",
   "metadata": {},
   "outputs": [
    {
     "data": {
      "text/plain": [
       "array([     0,      1,      2, ..., 232749, 232750, 232751])"
      ]
     },
     "execution_count": 61,
     "metadata": {},
     "output_type": "execute_result"
    }
   ],
   "source": [
    "moon_train = moons[230]\n",
    "idx_train = X_df[X_df.date < moon_train].index.to_numpy()\n",
    "idx_train"
   ]
  },
  {
   "cell_type": "code",
   "execution_count": 62,
   "id": "e0b0dc4d-de72-4628-a8b8-1280a30fd499",
   "metadata": {},
   "outputs": [
    {
     "data": {
      "text/plain": [
       "array([263296, 263297, 263298, ..., 310701, 310702, 310703])"
      ]
     },
     "execution_count": 62,
     "metadata": {},
     "output_type": "execute_result"
    }
   ],
   "source": [
    "moon_purge = moons[260]\n",
    "idx_test = X_df[X_df.date >= moon_purge].index.to_numpy()\n",
    "idx_test"
   ]
  },
  {
   "cell_type": "code",
   "execution_count": 63,
   "id": "48fa155e-c852-452e-b487-89e2ac6a31a1",
   "metadata": {},
   "outputs": [],
   "source": [
    "X_train = X[idx_train]\n",
    "y_train = y[idx_train]"
   ]
  },
  {
   "cell_type": "code",
   "execution_count": 64,
   "id": "c020df93-454a-41ae-9e2d-5e5d784b2860",
   "metadata": {},
   "outputs": [
    {
     "data": {
      "text/plain": [
       "array([263296, 263297, 263298, ..., 310701, 310702, 310703])"
      ]
     },
     "execution_count": 64,
     "metadata": {},
     "output_type": "execute_result"
    }
   ],
   "source": [
    "idx_test"
   ]
  },
  {
   "cell_type": "code",
   "execution_count": 65,
   "id": "2c7e8310-63f4-4678-aa92-4c9f354f7e8a",
   "metadata": {},
   "outputs": [],
   "source": [
    "X_test = X[idx_test]\n",
    "y_test = y[idx_test]"
   ]
  },
  {
   "cell_type": "code",
   "execution_count": 66,
   "id": "e5f7ce4a-4001-4bfa-b770-b72f76068426",
   "metadata": {},
   "outputs": [
    {
     "data": {
      "text/plain": [
       "(47408,)"
      ]
     },
     "execution_count": 66,
     "metadata": {},
     "output_type": "execute_result"
    }
   ],
   "source": [
    "y_test.shape"
   ]
  },
  {
   "cell_type": "markdown",
   "id": "8f3858b4-2797-451d-bde6-22d5bcaeaef8",
   "metadata": {
    "tags": []
   },
   "source": [
    "# Train model and predict"
   ]
  },
  {
   "cell_type": "code",
   "execution_count": 67,
   "id": "57f615fa-40d3-4105-9df4-6bba9633f656",
   "metadata": {},
   "outputs": [],
   "source": [
    "# As this notebook shows a simple linear model, there is no need to introduce validation data, i.e. \n",
    "# the training is deterministic and only one epoch is necessary to perform it.\n",
    "# Nevertheless, this section should train such that the validation loss is minimized."
   ]
  },
  {
   "cell_type": "code",
   "execution_count": 68,
   "id": "b3d566e4-43ad-44ce-b33e-6777ffe40ae9",
   "metadata": {},
   "outputs": [],
   "source": [
    "# Create linear regression object\n",
    "regr = linear_model.LinearRegression()"
   ]
  },
  {
   "cell_type": "code",
   "execution_count": 69,
   "id": "8813c80a-d7d7-420f-8a3f-1fe6bbf6639d",
   "metadata": {},
   "outputs": [
    {
     "data": {
      "text/plain": [
       "LinearRegression()"
      ]
     },
     "execution_count": 69,
     "metadata": {},
     "output_type": "execute_result"
    }
   ],
   "source": [
    "regr.fit(X_train, y_train)"
   ]
  },
  {
   "cell_type": "code",
   "execution_count": 70,
   "id": "4572f213-2a43-42c4-9adb-387442a003d7",
   "metadata": {},
   "outputs": [],
   "source": [
    "y_hat = regr.predict(X_test)"
   ]
  },
  {
   "cell_type": "markdown",
   "id": "fe33e9ff-4d10-46e8-8ba7-467b27a612ee",
   "metadata": {
    "tags": []
   },
   "source": [
    "# Scatter plot to show linear relation between Y and y_hat"
   ]
  },
  {
   "cell_type": "code",
   "execution_count": 71,
   "id": "f99e2574-a73c-4336-89a3-9b2f813e0b1d",
   "metadata": {},
   "outputs": [],
   "source": [
    "from scipy.stats import linregress"
   ]
  },
  {
   "cell_type": "code",
   "execution_count": 72,
   "id": "1493bddd-9d18-4efb-9cd9-65f50d91159d",
   "metadata": {
    "tags": []
   },
   "outputs": [
    {
     "data": {
      "image/png": "[encoded data removed]",
      "text/plain": [
       "<Figure size 432x288 with 1 Axes>"
      ]
     },
     "metadata": {
      "needs_background": "light"
     },
     "output_type": "display_data"
    }
   ],
   "source": [
    "slope, intercept, r_value, p_value, std_err = linregress(y_test, y_hat)\n",
    "plt.scatter(y_test, y_hat)\n",
    "plt.plot(y_test, slope * y_test + intercept,'r')\n",
    "plt.show()"
   ]
  },
  {
   "cell_type": "code",
   "execution_count": 73,
   "id": "646df329-d79d-4c6d-b215-fd0d9fdbb54f",
   "metadata": {},
   "outputs": [],
   "source": [
    "y_hat_df = pd.DataFrame()\n",
    "y_hat_df['date'] = X_df[X_df['date'] >= moon_purge].date\n",
    "y_hat_df['y_hat'] = y_hat\n",
    "y_hat_df['Y'] = y_test"
   ]
  },
  {
   "cell_type": "code",
   "execution_count": 74,
   "id": "9c552192-2e5b-4724-aaef-c05012a343bb",
   "metadata": {},
   "outputs": [
    {
     "data": {
      "text/html": [
       "<div>\n",
       "<style scoped>\n",
       "    .dataframe tbody tr th:only-of-type {\n",
       "        vertical-align: middle;\n",
       "    }\n",
       "\n",
       "    .dataframe tbody tr th {\n",
       "        vertical-align: top;\n",
       "    }\n",
       "\n",
       "    .dataframe thead th {\n",
       "        text-align: right;\n",
       "    }\n",
       "</style>\n",
       "<table border=\"1\" class=\"dataframe\">\n",
       "  <thead>\n",
       "    <tr style=\"text-align: right;\">\n",
       "      <th></th>\n",
       "      <th>date</th>\n",
       "      <th>y_hat</th>\n",
       "      <th>Y</th>\n",
       "    </tr>\n",
       "  </thead>\n",
       "  <tbody>\n",
       "    <tr>\n",
       "      <th>263296</th>\n",
       "      <td>2021-06-09</td>\n",
       "      <td>-0.002599</td>\n",
       "      <td>0.014321</td>\n",
       "    </tr>\n",
       "    <tr>\n",
       "      <th>263297</th>\n",
       "      <td>2021-06-09</td>\n",
       "      <td>0.000244</td>\n",
       "      <td>0.007357</td>\n",
       "    </tr>\n",
       "    <tr>\n",
       "      <th>263298</th>\n",
       "      <td>2021-06-09</td>\n",
       "      <td>-0.001522</td>\n",
       "      <td>0.046698</td>\n",
       "    </tr>\n",
       "    <tr>\n",
       "      <th>263299</th>\n",
       "      <td>2021-06-09</td>\n",
       "      <td>0.000224</td>\n",
       "      <td>0.017977</td>\n",
       "    </tr>\n",
       "    <tr>\n",
       "      <th>263300</th>\n",
       "      <td>2021-06-09</td>\n",
       "      <td>-0.003396</td>\n",
       "      <td>-0.011408</td>\n",
       "    </tr>\n",
       "    <tr>\n",
       "      <th>...</th>\n",
       "      <td>...</td>\n",
       "      <td>...</td>\n",
       "      <td>...</td>\n",
       "    </tr>\n",
       "    <tr>\n",
       "      <th>310699</th>\n",
       "      <td>2022-04-27</td>\n",
       "      <td>0.001564</td>\n",
       "      <td>0.020271</td>\n",
       "    </tr>\n",
       "    <tr>\n",
       "      <th>310700</th>\n",
       "      <td>2022-04-27</td>\n",
       "      <td>0.002171</td>\n",
       "      <td>-0.023498</td>\n",
       "    </tr>\n",
       "    <tr>\n",
       "      <th>310701</th>\n",
       "      <td>2022-04-27</td>\n",
       "      <td>-0.000778</td>\n",
       "      <td>0.007559</td>\n",
       "    </tr>\n",
       "    <tr>\n",
       "      <th>310702</th>\n",
       "      <td>2022-04-27</td>\n",
       "      <td>-0.000361</td>\n",
       "      <td>-0.006418</td>\n",
       "    </tr>\n",
       "    <tr>\n",
       "      <th>310703</th>\n",
       "      <td>2022-04-27</td>\n",
       "      <td>0.001252</td>\n",
       "      <td>0.014513</td>\n",
       "    </tr>\n",
       "  </tbody>\n",
       "</table>\n",
       "<p>47408 rows × 3 columns</p>\n",
       "</div>"
      ],
      "text/plain": [
       "             date     y_hat         Y\n",
       "263296 2021-06-09 -0.002599  0.014321\n",
       "263297 2021-06-09  0.000244  0.007357\n",
       "263298 2021-06-09 -0.001522  0.046698\n",
       "263299 2021-06-09  0.000224  0.017977\n",
       "263300 2021-06-09 -0.003396 -0.011408\n",
       "...           ...       ...       ...\n",
       "310699 2022-04-27  0.001564  0.020271\n",
       "310700 2022-04-27  0.002171 -0.023498\n",
       "310701 2022-04-27 -0.000778  0.007559\n",
       "310702 2022-04-27 -0.000361 -0.006418\n",
       "310703 2022-04-27  0.001252  0.014513\n",
       "\n",
       "[47408 rows x 3 columns]"
      ]
     },
     "execution_count": 74,
     "metadata": {},
     "output_type": "execute_result"
    }
   ],
   "source": [
    "y_hat_df"
   ]
  },
  {
   "cell_type": "markdown",
   "id": "809cca28-ef94-4a11-b5ba-7ec1451d5022",
   "metadata": {
    "tags": []
   },
   "source": [
    "# Spearman"
   ]
  },
  {
   "cell_type": "code",
   "execution_count": 75,
   "id": "e0508f44-a287-46e6-aa39-92350319ddff",
   "metadata": {},
   "outputs": [],
   "source": [
    "def spear(x):\n",
    "    return x.corr(method='spearman').iloc[0, 1]"
   ]
  },
  {
   "cell_type": "code",
   "execution_count": 76,
   "id": "27b6497f-2958-4b37-b4e6-fdac26b315fb",
   "metadata": {},
   "outputs": [
    {
     "name": "stderr",
     "output_type": "stream",
     "text": [
      "/tmp/ipykernel_15990/710519440.py:2: FutureWarning: The default value of numeric_only in DataFrame.corr is deprecated. In a future version, it will default to False. Select only valid columns or specify the value of numeric_only to silence this warning.\n",
      "  return x.corr(method='spearman').iloc[0, 1]\n"
     ]
    }
   ],
   "source": [
    "spearman = y_hat_df.groupby(\"date\").apply(lambda x: spear(x))"
   ]
  },
  {
   "cell_type": "code",
   "execution_count": 77,
   "id": "453e3f2b-3fd9-4db0-ba50-879ecc3ac083",
   "metadata": {},
   "outputs": [
    {
     "data": {
      "text/plain": [
       "0.002715163962991602"
      ]
     },
     "execution_count": 77,
     "metadata": {},
     "output_type": "execute_result"
    }
   ],
   "source": [
    "spearman.mean()"
   ]
  },
  {
   "cell_type": "code",
   "execution_count": 78,
   "id": "331a4511-aa60-4cd5-b066-cf444c9831d0",
   "metadata": {},
   "outputs": [
    {
     "data": {
      "image/png": "[encoded data removed]",
      "text/plain": [
       "<Figure size 432x288 with 1 Axes>"
      ]
     },
     "metadata": {
      "needs_background": "light"
     },
     "output_type": "display_data"
    }
   ],
   "source": [
    "spearman.plot()\n",
    "plt.axhline(y=spearman.mean(), color='r', linestyle='-')\n",
    "plt.show()"
   ]
  },
  {
   "cell_type": "code",
   "execution_count": 79,
   "id": "42047339-f003-4ced-bfcc-64355912a1b1",
   "metadata": {},
   "outputs": [
    {
     "data": {
      "text/plain": [
       "<matplotlib.lines.Line2D at 0x7fad5c155f10>"
      ]
     },
     "execution_count": 79,
     "metadata": {},
     "output_type": "execute_result"
    },
    {
     "data": {
      "image/png": "[encoded data removed]",
      "text/plain": [
       "<Figure size 432x288 with 1 Axes>"
      ]
     },
     "metadata": {
      "needs_background": "light"
     },
     "output_type": "display_data"
    }
   ],
   "source": [
    "spearman.hist(bins=30)\n",
    "plt.axvline(x=spearman.mean(), color='r', linestyle='-')"
   ]
  },
  {
   "cell_type": "markdown",
   "id": "c85b7dbe-1d0b-43bf-8391-c0c1124dda6c",
   "metadata": {},
   "source": [
    "# MSE"
   ]
  },
  {
   "cell_type": "code",
   "execution_count": 80,
   "id": "2bd36648-3109-4bfe-b50f-a31571bc5dfb",
   "metadata": {},
   "outputs": [],
   "source": [
    "mse = y_hat_df.groupby('date').apply(lambda x: mean_squared_error(x.y_hat, x.Y))"
   ]
  },
  {
   "cell_type": "code",
   "execution_count": 81,
   "id": "96804420-818f-4e4e-8644-2b3d083d9449",
   "metadata": {},
   "outputs": [
    {
     "data": {
      "image/png": "[encoded data removed]",
      "text/plain": [
       "<Figure size 432x288 with 1 Axes>"
      ]
     },
     "metadata": {
      "needs_background": "light"
     },
     "output_type": "display_data"
    }
   ],
   "source": [
    "mse.plot()\n",
    "plt.axhline(y=mse.mean(), color='r', linestyle='-')\n",
    "plt.show()"
   ]
  },
  {
   "cell_type": "code",
   "execution_count": 82,
   "id": "a6f15537-3767-43f4-8aab-8f827340832c",
   "metadata": {},
   "outputs": [
    {
     "data": {
      "text/plain": [
       "<matplotlib.lines.Line2D at 0x7fad0b729760>"
      ]
     },
     "execution_count": 82,
     "metadata": {},
     "output_type": "execute_result"
    },
    {
     "data": {
      "image/png": "[encoded data removed]",
      "text/plain": [
       "<Figure size 432x288 with 1 Axes>"
      ]
     },
     "metadata": {
      "needs_background": "light"
     },
     "output_type": "display_data"
    }
   ],
   "source": [
    "mse.hist(bins=30)\n",
    "plt.axvline(x=mse.mean(), color='r', linestyle='-')"
   ]
  },
  {
   "cell_type": "markdown",
   "id": "4a4c19fc-7397-4f21-948f-b7643040882a",
   "metadata": {},
   "source": [
    "# Orthogonalize output and show same results."
   ]
  },
  {
   "cell_type": "code",
   "execution_count": 83,
   "id": "b3ea32da-42a1-4e74-8dd6-5b9e74584ad2",
   "metadata": {},
   "outputs": [],
   "source": [
    "B = B.iloc[idx_test, :]"
   ]
  },
  {
   "cell_type": "code",
   "execution_count": 84,
   "id": "485c1453-969a-42ae-bdac-4f30a43c6557",
   "metadata": {},
   "outputs": [],
   "source": [
    "y_hat_date = y_hat_df[['date', 'y_hat']] "
   ]
  },
  {
   "cell_type": "code",
   "execution_count": 85,
   "id": "c7b36bf9-c32b-4f45-a6dd-f927a7d0976b",
   "metadata": {},
   "outputs": [],
   "source": [
    "import sys\n",
    "sys.path.insert(1, \"../feature-engineering/src\")\n",
    "from class_ import Data"
   ]
  },
  {
   "cell_type": "code",
   "execution_count": 86,
   "id": "eb6bda90-882d-4a2f-8e9c-382b24f12d0e",
   "metadata": {},
   "outputs": [],
   "source": [
    "data = Data(f_matrix=y_hat_date, b_matrix=B)"
   ]
  },
  {
   "cell_type": "code",
   "execution_count": 87,
   "id": "ff8e9024-3cca-4ca2-bf79-9b6ec18597cf",
   "metadata": {},
   "outputs": [
    {
     "data": {
      "application/vnd.jupyter.widget-view+json": {
       "model_id": "18374a437ecf48fbbb665f352ac99056",
       "version_major": 2,
       "version_minor": 0
      },
      "text/plain": [
       "  0%|          | 0/47 [00:00<?, ?it/s]"
      ]
     },
     "metadata": {},
     "output_type": "display_data"
    },
    {
     "data": {
      "text/plain": [
       "0"
      ]
     },
     "execution_count": 87,
     "metadata": {},
     "output_type": "execute_result"
    }
   ],
   "source": [
    "data.orthogonalize()"
   ]
  },
  {
   "cell_type": "code",
   "execution_count": 88,
   "id": "37010d81-0b03-45bd-9c84-22b7e78ebdf7",
   "metadata": {},
   "outputs": [
    {
     "data": {
      "text/html": [
       "<div>\n",
       "<style scoped>\n",
       "    .dataframe tbody tr th:only-of-type {\n",
       "        vertical-align: middle;\n",
       "    }\n",
       "\n",
       "    .dataframe tbody tr th {\n",
       "        vertical-align: top;\n",
       "    }\n",
       "\n",
       "    .dataframe thead th {\n",
       "        text-align: right;\n",
       "    }\n",
       "</style>\n",
       "<table border=\"1\" class=\"dataframe\">\n",
       "  <thead>\n",
       "    <tr style=\"text-align: right;\">\n",
       "      <th></th>\n",
       "      <th>date</th>\n",
       "      <th>y_hat</th>\n",
       "    </tr>\n",
       "  </thead>\n",
       "  <tbody>\n",
       "    <tr>\n",
       "      <th>263296</th>\n",
       "      <td>2021-06-09</td>\n",
       "      <td>-0.002556</td>\n",
       "    </tr>\n",
       "    <tr>\n",
       "      <th>263297</th>\n",
       "      <td>2021-06-09</td>\n",
       "      <td>0.000287</td>\n",
       "    </tr>\n",
       "    <tr>\n",
       "      <th>263298</th>\n",
       "      <td>2021-06-09</td>\n",
       "      <td>-0.001480</td>\n",
       "    </tr>\n",
       "    <tr>\n",
       "      <th>263299</th>\n",
       "      <td>2021-06-09</td>\n",
       "      <td>0.000266</td>\n",
       "    </tr>\n",
       "    <tr>\n",
       "      <th>263300</th>\n",
       "      <td>2021-06-09</td>\n",
       "      <td>-0.003354</td>\n",
       "    </tr>\n",
       "    <tr>\n",
       "      <th>...</th>\n",
       "      <td>...</td>\n",
       "      <td>...</td>\n",
       "    </tr>\n",
       "    <tr>\n",
       "      <th>310699</th>\n",
       "      <td>2022-04-27</td>\n",
       "      <td>0.001606</td>\n",
       "    </tr>\n",
       "    <tr>\n",
       "      <th>310700</th>\n",
       "      <td>2022-04-27</td>\n",
       "      <td>0.002213</td>\n",
       "    </tr>\n",
       "    <tr>\n",
       "      <th>310701</th>\n",
       "      <td>2022-04-27</td>\n",
       "      <td>-0.000736</td>\n",
       "    </tr>\n",
       "    <tr>\n",
       "      <th>310702</th>\n",
       "      <td>2022-04-27</td>\n",
       "      <td>-0.000319</td>\n",
       "    </tr>\n",
       "    <tr>\n",
       "      <th>310703</th>\n",
       "      <td>2022-04-27</td>\n",
       "      <td>0.001294</td>\n",
       "    </tr>\n",
       "  </tbody>\n",
       "</table>\n",
       "<p>47408 rows × 2 columns</p>\n",
       "</div>"
      ],
      "text/plain": [
       "             date     y_hat\n",
       "263296 2021-06-09 -0.002556\n",
       "263297 2021-06-09  0.000287\n",
       "263298 2021-06-09 -0.001480\n",
       "263299 2021-06-09  0.000266\n",
       "263300 2021-06-09 -0.003354\n",
       "...           ...       ...\n",
       "310699 2022-04-27  0.001606\n",
       "310700 2022-04-27  0.002213\n",
       "310701 2022-04-27 -0.000736\n",
       "310702 2022-04-27 -0.000319\n",
       "310703 2022-04-27  0.001294\n",
       "\n",
       "[47408 rows x 2 columns]"
      ]
     },
     "execution_count": 88,
     "metadata": {},
     "output_type": "execute_result"
    }
   ],
   "source": [
    "data.f_matrix"
   ]
  },
  {
   "cell_type": "code",
   "execution_count": 89,
   "id": "921ed32d-0e45-4a26-ac59-4baff8d96daf",
   "metadata": {},
   "outputs": [],
   "source": [
    "y_hat_df.y_hat = data.f_matrix.y_hat"
   ]
  },
  {
   "cell_type": "code",
   "execution_count": 90,
   "id": "3811d708-3e47-4f25-ac08-2095637024a4",
   "metadata": {},
   "outputs": [
    {
     "data": {
      "text/html": [
       "<div>\n",
       "<style scoped>\n",
       "    .dataframe tbody tr th:only-of-type {\n",
       "        vertical-align: middle;\n",
       "    }\n",
       "\n",
       "    .dataframe tbody tr th {\n",
       "        vertical-align: top;\n",
       "    }\n",
       "\n",
       "    .dataframe thead th {\n",
       "        text-align: right;\n",
       "    }\n",
       "</style>\n",
       "<table border=\"1\" class=\"dataframe\">\n",
       "  <thead>\n",
       "    <tr style=\"text-align: right;\">\n",
       "      <th></th>\n",
       "      <th>date</th>\n",
       "      <th>y_hat</th>\n",
       "      <th>Y</th>\n",
       "    </tr>\n",
       "  </thead>\n",
       "  <tbody>\n",
       "    <tr>\n",
       "      <th>263296</th>\n",
       "      <td>2021-06-09</td>\n",
       "      <td>-0.002556</td>\n",
       "      <td>0.014321</td>\n",
       "    </tr>\n",
       "    <tr>\n",
       "      <th>263297</th>\n",
       "      <td>2021-06-09</td>\n",
       "      <td>0.000287</td>\n",
       "      <td>0.007357</td>\n",
       "    </tr>\n",
       "    <tr>\n",
       "      <th>263298</th>\n",
       "      <td>2021-06-09</td>\n",
       "      <td>-0.001480</td>\n",
       "      <td>0.046698</td>\n",
       "    </tr>\n",
       "    <tr>\n",
       "      <th>263299</th>\n",
       "      <td>2021-06-09</td>\n",
       "      <td>0.000266</td>\n",
       "      <td>0.017977</td>\n",
       "    </tr>\n",
       "    <tr>\n",
       "      <th>263300</th>\n",
       "      <td>2021-06-09</td>\n",
       "      <td>-0.003354</td>\n",
       "      <td>-0.011408</td>\n",
       "    </tr>\n",
       "    <tr>\n",
       "      <th>...</th>\n",
       "      <td>...</td>\n",
       "      <td>...</td>\n",
       "      <td>...</td>\n",
       "    </tr>\n",
       "    <tr>\n",
       "      <th>310699</th>\n",
       "      <td>2022-04-27</td>\n",
       "      <td>0.001606</td>\n",
       "      <td>0.020271</td>\n",
       "    </tr>\n",
       "    <tr>\n",
       "      <th>310700</th>\n",
       "      <td>2022-04-27</td>\n",
       "      <td>0.002213</td>\n",
       "      <td>-0.023498</td>\n",
       "    </tr>\n",
       "    <tr>\n",
       "      <th>310701</th>\n",
       "      <td>2022-04-27</td>\n",
       "      <td>-0.000736</td>\n",
       "      <td>0.007559</td>\n",
       "    </tr>\n",
       "    <tr>\n",
       "      <th>310702</th>\n",
       "      <td>2022-04-27</td>\n",
       "      <td>-0.000319</td>\n",
       "      <td>-0.006418</td>\n",
       "    </tr>\n",
       "    <tr>\n",
       "      <th>310703</th>\n",
       "      <td>2022-04-27</td>\n",
       "      <td>0.001294</td>\n",
       "      <td>0.014513</td>\n",
       "    </tr>\n",
       "  </tbody>\n",
       "</table>\n",
       "<p>47408 rows × 3 columns</p>\n",
       "</div>"
      ],
      "text/plain": [
       "             date     y_hat         Y\n",
       "263296 2021-06-09 -0.002556  0.014321\n",
       "263297 2021-06-09  0.000287  0.007357\n",
       "263298 2021-06-09 -0.001480  0.046698\n",
       "263299 2021-06-09  0.000266  0.017977\n",
       "263300 2021-06-09 -0.003354 -0.011408\n",
       "...           ...       ...       ...\n",
       "310699 2022-04-27  0.001606  0.020271\n",
       "310700 2022-04-27  0.002213 -0.023498\n",
       "310701 2022-04-27 -0.000736  0.007559\n",
       "310702 2022-04-27 -0.000319 -0.006418\n",
       "310703 2022-04-27  0.001294  0.014513\n",
       "\n",
       "[47408 rows x 3 columns]"
      ]
     },
     "execution_count": 90,
     "metadata": {},
     "output_type": "execute_result"
    }
   ],
   "source": [
    "y_hat_df"
   ]
  },
  {
   "cell_type": "code",
   "execution_count": 91,
   "id": "39ec5e17-4d3d-42d1-a347-b04141d09508",
   "metadata": {},
   "outputs": [
    {
     "data": {
      "image/png": "[encoded data removed]",
      "text/plain": [
       "<Figure size 432x288 with 1 Axes>"
      ]
     },
     "metadata": {
      "needs_background": "light"
     },
     "output_type": "display_data"
    }
   ],
   "source": [
    "slope, intercept, r_value, p_value, std_err = linregress(y_hat_df.Y,y_hat_df.y_hat)\n",
    "plt.scatter(y_hat_df.Y, y_hat_df.y_hat)\n",
    "plt.plot(y_hat_df.Y, slope * y_hat_df.Y + intercept,'r')\n",
    "plt.show()"
   ]
  },
  {
   "cell_type": "code",
   "execution_count": 92,
   "id": "4f4edf2e-150d-493b-a2e8-de8064fa4064",
   "metadata": {},
   "outputs": [
    {
     "data": {
      "text/plain": [
       "0.002715163962991602"
      ]
     },
     "execution_count": 92,
     "metadata": {},
     "output_type": "execute_result"
    }
   ],
   "source": [
    "spearman.mean()"
   ]
  },
  {
   "cell_type": "code",
   "execution_count": 93,
   "id": "bc99c607-03f0-49ec-943f-bd1f8c8110d8",
   "metadata": {},
   "outputs": [
    {
     "name": "stderr",
     "output_type": "stream",
     "text": [
      "/tmp/ipykernel_15990/710519440.py:2: FutureWarning: The default value of numeric_only in DataFrame.corr is deprecated. In a future version, it will default to False. Select only valid columns or specify the value of numeric_only to silence this warning.\n",
      "  return x.corr(method='spearman').iloc[0, 1]\n"
     ]
    },
    {
     "data": {
      "image/png": "[encoded data removed]",
      "text/plain": [
       "<Figure size 432x288 with 1 Axes>"
      ]
     },
     "metadata": {
      "needs_background": "light"
     },
     "output_type": "display_data"
    }
   ],
   "source": [
    "spearman = y_hat_df.groupby(\"date\").apply(lambda x: spear(x))\n",
    "spearman.plot()\n",
    "plt.axhline(y=spearman.mean(), color='r', linestyle='-')\n",
    "plt.show()"
   ]
  },
  {
   "cell_type": "code",
   "execution_count": 94,
   "id": "eab418c6-6646-4b90-99ad-9cc836748d3a",
   "metadata": {},
   "outputs": [
    {
     "data": {
      "text/plain": [
       "<matplotlib.lines.Line2D at 0x7fad08acecd0>"
      ]
     },
     "execution_count": 94,
     "metadata": {},
     "output_type": "execute_result"
    },
    {
     "data": {
      "image/png": "[encoded data removed]",
      "text/plain": [
       "<Figure size 432x288 with 1 Axes>"
      ]
     },
     "metadata": {
      "needs_background": "light"
     },
     "output_type": "display_data"
    }
   ],
   "source": [
    "spearman.hist(bins=30)\n",
    "plt.axvline(x=spearman.mean(), color='r', linestyle='-')"
   ]
  },
  {
   "cell_type": "code",
   "execution_count": 95,
   "id": "e7545c48-c5c0-4788-a5d8-4f40ac483067",
   "metadata": {},
   "outputs": [
    {
     "data": {
      "image/png": "[encoded data removed]",
      "text/plain": [
       "<Figure size 432x288 with 1 Axes>"
      ]
     },
     "metadata": {
      "needs_background": "light"
     },
     "output_type": "display_data"
    }
   ],
   "source": [
    "mse = y_hat_df.groupby('date').apply(lambda x: mean_squared_error(x.y_hat, x.Y))\n",
    "mse.plot()\n",
    "plt.axhline(y=mse.mean(), color='r', linestyle='-')\n",
    "plt.show()"
   ]
  },
  {
   "cell_type": "code",
   "execution_count": 96,
   "id": "3427dd71-78f0-4453-b072-faa91fb12f58",
   "metadata": {},
   "outputs": [
    {
     "data": {
      "text/plain": [
       "<matplotlib.lines.Line2D at 0x7facd7c8d5b0>"
      ]
     },
     "execution_count": 96,
     "metadata": {},
     "output_type": "execute_result"
    },
    {
     "data": {
      "image/png": "[encoded data removed]",
      "text/plain": [
       "<Figure size 432x288 with 1 Axes>"
      ]
     },
     "metadata": {
      "needs_background": "light"
     },
     "output_type": "display_data"
    }
   ],
   "source": [
    "mse.hist(bins=30)\n",
    "plt.axvline(x=mse.mean(), color='r', linestyle='-')"
   ]
  }
 ],
 "metadata": {
  "kernelspec": {
   "display_name": "Python 3 (ipykernel)",
   "language": "python",
   "name": "python3"
  },
  "language_info": {
   "codemirror_mode": {
    "name": "ipython",
    "version": 3
   },
   "file_extension": ".py",
   "mimetype": "text/x-python",
   "name": "python",
   "nbconvert_exporter": "python",
   "pygments_lexer": "ipython3",
   "version": "3.9.6"
  },
  "vscode": {
   "interpreter": {
    "hash": "089b01a02bffe9aaebf7c1d1c15dfcabf0b6eb8680835f8b4303bc7c7964f23e"
   }
  }
 },
 "nbformat": 4,
 "nbformat_minor": 5
}
