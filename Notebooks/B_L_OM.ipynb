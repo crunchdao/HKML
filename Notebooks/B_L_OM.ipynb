{
 "cells": [
  {
   "cell_type": "code",
   "execution_count": 1,
   "metadata": {},
   "outputs": [],
   "source": [
    "import numpy as np\n",
    "import pandas as pd\n",
    "from sklearn.metrics.pairwise import pairwise_kernels\n",
    "import matplotlib.pyplot as plt\n",
    "from tqdm import tqdm"
   ]
  },
  {
   "attachments": {},
   "cell_type": "markdown",
   "metadata": {},
   "source": [
    "# Model"
   ]
  },
  {
   "cell_type": "code",
   "execution_count": 2,
   "metadata": {},
   "outputs": [],
   "source": [
    "B = pd.read_parquet('../data/B_HKML.parquet')\n",
    "all_epochs = B.date.unique()\n",
    "batch_size = 25\n",
    "epochs = all_epochs[:batch_size]\n",
    "X_df = pd.read_parquet('../data/B_HKML.parquet')\n",
    "X_train = X_df[X_df['date'].isin(epochs)].drop('date', axis=1).to_numpy()"
   ]
  },
  {
   "cell_type": "code",
   "execution_count": 3,
   "metadata": {},
   "outputs": [],
   "source": [
    "i = B.shape[1]-1\n",
    "j = 0\n",
    "for epoch in epochs:\n",
    "    B_np = B[B['date'] == epoch].drop('date', axis=1).to_numpy().T\n",
    "    j += B_np.shape[1]\n",
    "\n",
    "Batch_B = np.zeros((i, j))\n",
    "\n",
    "j = 0\n",
    "for epoch in epochs:\n",
    "    B_np = B[B['date'] == epoch].drop('date', axis=1).to_numpy().T\n",
    "    dj = B_np.shape[1]\n",
    "    Batch_B[:, j:j+dj] = B_np\n",
    "    \n",
    "    j += dj\n",
    "B_train = Batch_B"
   ]
  },
  {
   "attachments": {},
   "cell_type": "markdown",
   "metadata": {},
   "source": [
    "# Gaussianize Target"
   ]
  },
  {
   "cell_type": "code",
   "execution_count": 4,
   "metadata": {},
   "outputs": [],
   "source": [
    "import sys\n",
    "\n",
    "sys.path.insert(1, \"../../../Feature engg/feature-engineering/src\")\n",
    "from class_ import Data\n",
    "\n",
    "y_df = pd.read_parquet('../data/Y_HKML.parquet')"
   ]
  },
  {
   "cell_type": "code",
   "execution_count": 5,
   "metadata": {},
   "outputs": [
    {
     "data": {
      "application/vnd.jupyter.widget-view+json": {
       "model_id": "954a7f75bcb249b880db7a12d665e660",
       "version_major": 2,
       "version_minor": 0
      },
      "text/plain": [
       "  0%|          | 0/1 [00:00<?, ?it/s]"
      ]
     },
     "metadata": {},
     "output_type": "display_data"
    },
    {
     "data": {
      "application/vnd.jupyter.widget-view+json": {
       "model_id": "4b358d9ab2e74e88b44c2a4841c93462",
       "version_major": 2,
       "version_minor": 0
      },
      "text/plain": [
       "  0%|          | 0/1 [00:00<?, ?it/s]"
      ]
     },
     "metadata": {},
     "output_type": "display_data"
    }
   ],
   "source": [
    "y_date = pd.concat([X_df['date'], y_df], axis=1)\n",
    "data = Data(f_matrix=y_date, b_matrix=B)\n",
    "data.gaussianize()\n",
    "data.standardize()\n",
    "y_date = data.f_matrix\n",
    "y_df = y_date.iloc[:, 1]\n",
    "y_train = y_df.iloc[:len(X_train)].to_numpy().ravel()"
   ]
  },
  {
   "attachments": {},
   "cell_type": "markdown",
   "metadata": {},
   "source": [
    "# compute coefficients"
   ]
  },
  {
   "cell_type": "code",
   "execution_count": 6,
   "metadata": {},
   "outputs": [],
   "source": [
    "metric = \"linear\""
   ]
  },
  {
   "cell_type": "code",
   "execution_count": 7,
   "metadata": {},
   "outputs": [],
   "source": [
    "# Values of C and D to be fine tuned to have good mse out of sample and good orthogonality out of sample?\n",
    "C = 3.0\n",
    "D = 100.0\n",
    "\n",
    "K = pairwise_kernels(X_train, metric = metric )\n",
    "BBK = B_train.T @ B_train @ K\n",
    "M = K + C*np.identity(K.shape[0]) + D * BBK\n",
    "dual_coef = np.linalg.solve(M, y_train)"
   ]
  },
  {
   "attachments": {},
   "cell_type": "markdown",
   "metadata": {},
   "source": [
    "# Estimate"
   ]
  },
  {
   "cell_type": "code",
   "execution_count": 8,
   "metadata": {},
   "outputs": [],
   "source": [
    "future_moons = 50\n",
    "y_hat_df = pd.DataFrame()\n",
    "y_hat_df['date'] = X_df[X_df['date'].isin(all_epochs[batch_size:batch_size+future_moons])].date\n",
    "y_hat_df['y_hat'] =  np.nan\n",
    "y_hat_df['y_test'] =  np.nan"
   ]
  },
  {
   "cell_type": "code",
   "execution_count": 9,
   "metadata": {},
   "outputs": [
    {
     "name": "stderr",
     "output_type": "stream",
     "text": [
      "100%|██████████| 5/5 [00:06<00:00,  1.39s/it]\n"
     ]
    }
   ],
   "source": [
    "for moon in tqdm(range(future_moons)):\n",
    "    epochs = all_epochs[0:batch_size+moon+1]\n",
    "\n",
    "    j = 0\n",
    "    for epoch in epochs:\n",
    "        B_np = B[B['date'] == epoch].drop('date', axis=1).to_numpy().T\n",
    "        j += B_np.shape[1]\n",
    "\n",
    "    Batch_B = np.zeros((i, j))\n",
    "\n",
    "    j = 0\n",
    "    for epoch in epochs:\n",
    "        B_np = B[B['date'] == epoch].drop('date', axis=1).to_numpy().T\n",
    "        dj = B_np.shape[1]\n",
    "        Batch_B[:, j:j+dj] = B_np\n",
    "\n",
    "        j += dj\n",
    "    B_test = Batch_B\n",
    "\n",
    "    X_test = X_df[X_df['date'].isin(epochs)].drop('date', axis=1).to_numpy()\n",
    "\n",
    "    y_test = y_df.iloc[:len(X_test)].to_numpy().ravel()\n",
    "    \n",
    "    K_hat = pairwise_kernels(X_test, X_train, metric= metric)\n",
    "    \n",
    "    y_hat = K_hat @ dual_coef\n",
    "    \n",
    "    exp_vec = (B_test @ y_hat)\n",
    "    exp = np.dot(exp_vec, exp_vec)\n",
    "    \n",
    "    # print('Factor Exposure')\n",
    "    # print(exp)\n",
    "    # leastsquare = np.dot(y_test - y_hat, y_test - y_hat)\n",
    "    # print('Least Square Error')\n",
    "    # print(leastsquare)\n",
    "    # ridge = K_hat @ dual_coef\n",
    "    # print('Regularization Loss')\n",
    "    # print(np.dot(ridge, ridge))\n",
    "    \n",
    "    y_hat_df.loc[y_hat_df['date'] == epochs[-1], 'y_hat'] = y_hat[-dj:]\n",
    "    y_hat_df.loc[y_hat_df['date'] == epochs[-1], 'y_test'] = y_test[-dj:]\n"
   ]
  },
  {
   "cell_type": "code",
   "execution_count": null,
   "metadata": {},
   "outputs": [],
   "source": [
    "def spear(x):\n",
    "    spear = x.corr(numeric_only=True, method='spearman')\n",
    "    spear = spear.iloc[0, 1]\n",
    "    return spear"
   ]
  },
  {
   "cell_type": "code",
   "execution_count": null,
   "metadata": {},
   "outputs": [],
   "source": [
    "spearman_history = y_hat_df.groupby('date').apply(lambda x: spear(x))"
   ]
  },
  {
   "cell_type": "code",
   "execution_count": null,
   "metadata": {},
   "outputs": [
    {
     "data": {
      "image/png": "[encoded data removed]",
      "text/plain": [
       "<Figure size 640x480 with 1 Axes>"
      ]
     },
     "metadata": {},
     "output_type": "display_data"
    }
   ],
   "source": [
    "spearman_history.plot(grid='on')\n",
    "plt.axhline(y=spearman_history.mean(), color='r', linestyle='-')\n",
    "plt.title(f\"Spearman $(\\mu$={round(spearman_history.mean(), 6)}, $\\sigma$ = {round(spearman_history.std(), 6)})\")\n",
    "plt.show()"
   ]
  },
  {
   "cell_type": "code",
   "execution_count": null,
   "metadata": {},
   "outputs": [],
   "source": [
    "def pear(x):\n",
    "    pear = x.corr(numeric_only=True)\n",
    "    pear = pear.iloc[0, 1]\n",
    "    return pear"
   ]
  },
  {
   "cell_type": "code",
   "execution_count": null,
   "metadata": {},
   "outputs": [],
   "source": [
    "pearson_history = y_hat_df.groupby('date').apply(lambda x: pear(x))"
   ]
  },
  {
   "cell_type": "code",
   "execution_count": null,
   "metadata": {},
   "outputs": [],
   "source": [
    "pearson_history.plot(grid='on')\n",
    "plt.axhline(y=pearson_history.mean(), color='r', linestyle='-')\n",
    "plt.title(f\"Pearson $(\\mu$={round(pearson_history.mean(), 6)}, $\\sigma$ = {round(pearson_history.std(), 6)})\")\n",
    "plt.show()"
   ]
  },
  {
   "cell_type": "code",
   "execution_count": null,
   "metadata": {},
   "outputs": [],
   "source": [
    "mse_history = y_hat_df.groupby('date').apply(lambda x: mean_squared_error(x.iloc[:, 1], x.iloc[:, 2]))\n",
    "mse_history.plot(grid='on')\n",
    "plt.axhline(y=mse_history.mean(), color='r', linestyle='-')\n",
    "plt.title(f\"MSE $(\\mu$={round(mse_history.mean(), 6)}, $\\sigma$ = {round(mse_history.std(), 6)})\")\n",
    "plt.show()"
   ]
  },
  {
   "cell_type": "markdown",
   "metadata": {},
   "source": [
    "# Orthogonalize predictions"
   ]
  },
  {
   "cell_type": "code",
   "execution_count": null,
   "metadata": {},
   "outputs": [],
   "source": [
    "y_hat_date = y_hat_df[['date', 'y_hat']]\n",
    "b_matrix = B[B['date'].isin(all_epochs[batch_size:batch_size+future_moons])]\n",
    "data = Data(f_matrix=y_hat_date, b_matrix=b_matrix)\n",
    "data.orthogonalize()\n",
    "y_hat_date = data.f_matrix\n",
    "y_hat_df['y_hat'] = y_hat_date['y_hat']\n",
    "orth_spearman_history = y_hat_df.groupby('date').apply(lambda x: spear(x))"
   ]
  },
  {
   "cell_type": "code",
   "execution_count": null,
   "metadata": {},
   "outputs": [],
   "source": [
    "orth_spearman_history.plot(grid='on')\n",
    "plt.axhline(y=orth_spearman_history.mean(), color='r', linestyle='-')\n",
    "plt.title(f\"Spearman $(\\mu$={round(orth_spearman_history.mean(), 6)}, $\\sigma$ = {round(orth_spearman_history.std(), 6)})\")\n",
    "plt.show()"
   ]
  },
  {
   "cell_type": "code",
   "execution_count": null,
   "metadata": {},
   "outputs": [],
   "source": [
    "orth_pearson_history = y_hat_df.groupby('date').apply(lambda x: pear(x))"
   ]
  },
  {
   "cell_type": "code",
   "execution_count": null,
   "metadata": {},
   "outputs": [],
   "source": [
    "orth_pearson_history.plot(grid='on')\n",
    "plt.axhline(y=orth_pearson_history.mean(), color='r', linestyle='-')\n",
    "plt.title(f\"Pearson $(\\mu$={round(orth_pearson_history.mean(), 6)}, $\\sigma$ = {round(orth_pearson_history.std(), 6)})\")\n",
    "plt.show()"
   ]
  },
  {
   "cell_type": "code",
   "execution_count": null,
   "metadata": {},
   "outputs": [],
   "source": [
    "orth_mse_history = y_hat_df.groupby('date').apply(lambda x: mean_squared_error(x.iloc[:, 1], x.iloc[:, 2]))\n",
    "orth_mse_history.plot(grid='on')\n",
    "plt.axhline(y=orth_mse_history.mean(), color='r', linestyle='-')\n",
    "plt.title(f\"MSE $(\\mu$={round(orth_mse_history.mean(), 6)}, $\\sigma$ = {round(orth_mse_history.std(), 6)})\")\n",
    "plt.show()"
   ]
  },
  {
   "cell_type": "code",
   "execution_count": null,
   "metadata": {},
   "outputs": [],
   "source": []
  }
 ],
 "metadata": {
  "kernelspec": {
   "display_name": "Python 3",
   "language": "python",
   "name": "python3"
  },
  "language_info": {
   "codemirror_mode": {
    "name": "ipython",
    "version": 3
   },
   "file_extension": ".py",
   "mimetype": "text/x-python",
   "name": "python",
   "nbconvert_exporter": "python",
   "pygments_lexer": "ipython3",
   "version": "3.9.12"
  },
  "orig_nbformat": 4,
  "vscode": {
   "interpreter": {
    "hash": "133758f7398fd0467a71a5c0a2157b985c7b024a8db95d3dabb6bab8c277f921"
   }
  }
 },
 "nbformat": 4,
 "nbformat_minor": 2
}
