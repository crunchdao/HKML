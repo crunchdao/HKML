{
 "cells": [
  {
   "cell_type": "markdown",
   "id": "04e6a154-b745-4699-b776-cf80d3c56fcc",
   "metadata": {},
   "source": [
    "# Code describe the line of reasoning we need to show for all the cases"
   ]
  },
  {
   "cell_type": "code",
   "execution_count": 1,
   "id": "be3e2052-edf4-442d-b92d-940105a540b2",
   "metadata": {},
   "outputs": [],
   "source": [
    "import pandas as pd\n",
    "import matplotlib.pyplot as plt\n",
    "import numpy as np\n",
    "from sklearn import datasets, linear_model, model_selection\n",
    "from sklearn.metrics import mean_squared_error, r2_score\n",
    "from tqdm import tqdm"
   ]
  },
  {
   "cell_type": "markdown",
   "id": "9b31ab78-fcc7-4971-b66d-af1d83a7a9b5",
   "metadata": {
    "tags": []
   },
   "source": [
    "# Load data"
   ]
  },
  {
   "cell_type": "code",
   "execution_count": 2,
   "id": "0ccc56a7-1515-4f04-8127-97ff5e563c08",
   "metadata": {},
   "outputs": [],
   "source": [
    "B = pd.read_parquet('./data/B_HKML.parquet')"
   ]
  },
  {
   "cell_type": "code",
   "execution_count": 3,
   "id": "77c1ded1-cba8-414b-a9a9-8a8c6b7aaad6",
   "metadata": {},
   "outputs": [],
   "source": [
    "B = B[B['date'] < '2022-05-01']"
   ]
  },
  {
   "cell_type": "code",
   "execution_count": 4,
   "id": "0fe0fe4d-6fee-4742-bb50-38972ea466b6",
   "metadata": {},
   "outputs": [],
   "source": [
    "X_df = pd.read_parquet('./data/X_HKML.parquet')"
   ]
  },
  {
   "cell_type": "code",
   "execution_count": 5,
   "id": "d922be9e-8b52-41c2-a420-592f172c23f7",
   "metadata": {},
   "outputs": [],
   "source": [
    "X_df = X_df[X_df['date'] < '2022-05-01']"
   ]
  },
  {
   "cell_type": "code",
   "execution_count": 6,
   "id": "dc27e448-63ee-496e-860b-3b683a22a600",
   "metadata": {},
   "outputs": [],
   "source": [
    "y_df = pd.read_parquet('./data/Y_HKML.parquet')"
   ]
  },
  {
   "cell_type": "code",
   "execution_count": 7,
   "id": "e33da0f3-398a-4e25-b629-e65199005a25",
   "metadata": {},
   "outputs": [],
   "source": [
    "y_df = y_df.iloc[X_df.index]"
   ]
  },
  {
   "cell_type": "code",
   "execution_count": 8,
   "id": "8ffe6582",
   "metadata": {},
   "outputs": [
    {
     "data": {
      "text/plain": [
       "((310704, 1), (310704, 161))"
      ]
     },
     "execution_count": 8,
     "metadata": {},
     "output_type": "execute_result"
    }
   ],
   "source": [
    "y_df.shape, X_df.shape"
   ]
  },
  {
   "cell_type": "code",
   "execution_count": 9,
   "id": "20f350d9-4bdb-4008-8e06-d206f3620365",
   "metadata": {},
   "outputs": [],
   "source": [
    "# Omega"
   ]
  },
  {
   "cell_type": "code",
   "execution_count": 10,
   "id": "c0124e75-dff4-404b-832b-6b8e5a63031c",
   "metadata": {},
   "outputs": [],
   "source": [
    "def omega(x_df):\n",
    "    x = x_df.to_numpy()\n",
    "    omega = np.dot(x, np.linalg.pinv(x))\n",
    "    return pd.DataFrame(omega)"
   ]
  },
  {
   "cell_type": "code",
   "execution_count": 11,
   "id": "b34f87e4-ddee-4f76-84c6-e420f4e61a01",
   "metadata": {},
   "outputs": [],
   "source": [
    "Omega = B.groupby('date').apply(lambda x: omega(x))"
   ]
  },
  {
   "cell_type": "code",
   "execution_count": null,
   "id": "98d51876",
   "metadata": {},
   "outputs": [
    {
     "data": {
      "text/html": [
       "<div>\n",
       "<style scoped>\n",
       "    .dataframe tbody tr th:only-of-type {\n",
       "        vertical-align: middle;\n",
       "    }\n",
       "\n",
       "    .dataframe tbody tr th {\n",
       "        vertical-align: top;\n",
       "    }\n",
       "\n",
       "    .dataframe thead th {\n",
       "        text-align: right;\n",
       "    }\n",
       "</style>\n",
       "<table border=\"1\" class=\"dataframe\">\n",
       "  <thead>\n",
       "    <tr style=\"text-align: right;\">\n",
       "      <th></th>\n",
       "      <th></th>\n",
       "      <th>0</th>\n",
       "      <th>1</th>\n",
       "      <th>2</th>\n",
       "      <th>3</th>\n",
       "      <th>4</th>\n",
       "      <th>5</th>\n",
       "      <th>6</th>\n",
       "      <th>7</th>\n",
       "      <th>8</th>\n",
       "      <th>9</th>\n",
       "      <th>...</th>\n",
       "      <th>1046</th>\n",
       "      <th>1047</th>\n",
       "      <th>1048</th>\n",
       "      <th>1049</th>\n",
       "      <th>1050</th>\n",
       "      <th>1051</th>\n",
       "      <th>1052</th>\n",
       "      <th>1053</th>\n",
       "      <th>1054</th>\n",
       "      <th>1055</th>\n",
       "    </tr>\n",
       "    <tr>\n",
       "      <th>date</th>\n",
       "      <th></th>\n",
       "      <th></th>\n",
       "      <th></th>\n",
       "      <th></th>\n",
       "      <th></th>\n",
       "      <th></th>\n",
       "      <th></th>\n",
       "      <th></th>\n",
       "      <th></th>\n",
       "      <th></th>\n",
       "      <th></th>\n",
       "      <th></th>\n",
       "      <th></th>\n",
       "      <th></th>\n",
       "      <th></th>\n",
       "      <th></th>\n",
       "      <th></th>\n",
       "      <th></th>\n",
       "      <th></th>\n",
       "      <th></th>\n",
       "      <th></th>\n",
       "      <th></th>\n",
       "    </tr>\n",
       "  </thead>\n",
       "  <tbody>\n",
       "    <tr>\n",
       "      <th rowspan=\"5\" valign=\"top\">2016-02-17</th>\n",
       "      <th>0</th>\n",
       "      <td>0.035652</td>\n",
       "      <td>-0.008186</td>\n",
       "      <td>0.002808</td>\n",
       "      <td>0.034472</td>\n",
       "      <td>-0.003447</td>\n",
       "      <td>-0.002116</td>\n",
       "      <td>-0.002028</td>\n",
       "      <td>0.000333</td>\n",
       "      <td>0.002445</td>\n",
       "      <td>0.006977</td>\n",
       "      <td>...</td>\n",
       "      <td>NaN</td>\n",
       "      <td>NaN</td>\n",
       "      <td>NaN</td>\n",
       "      <td>NaN</td>\n",
       "      <td>NaN</td>\n",
       "      <td>NaN</td>\n",
       "      <td>NaN</td>\n",
       "      <td>NaN</td>\n",
       "      <td>NaN</td>\n",
       "      <td>NaN</td>\n",
       "    </tr>\n",
       "    <tr>\n",
       "      <th>1</th>\n",
       "      <td>-0.008186</td>\n",
       "      <td>0.073452</td>\n",
       "      <td>-0.003718</td>\n",
       "      <td>0.006383</td>\n",
       "      <td>0.003093</td>\n",
       "      <td>-0.000760</td>\n",
       "      <td>0.008767</td>\n",
       "      <td>-0.005741</td>\n",
       "      <td>0.000815</td>\n",
       "      <td>-0.003704</td>\n",
       "      <td>...</td>\n",
       "      <td>NaN</td>\n",
       "      <td>NaN</td>\n",
       "      <td>NaN</td>\n",
       "      <td>NaN</td>\n",
       "      <td>NaN</td>\n",
       "      <td>NaN</td>\n",
       "      <td>NaN</td>\n",
       "      <td>NaN</td>\n",
       "      <td>NaN</td>\n",
       "      <td>NaN</td>\n",
       "    </tr>\n",
       "    <tr>\n",
       "      <th>2</th>\n",
       "      <td>0.002808</td>\n",
       "      <td>-0.003718</td>\n",
       "      <td>0.027828</td>\n",
       "      <td>-0.002306</td>\n",
       "      <td>-0.003708</td>\n",
       "      <td>0.000979</td>\n",
       "      <td>-0.002075</td>\n",
       "      <td>0.001389</td>\n",
       "      <td>-0.000115</td>\n",
       "      <td>0.003217</td>\n",
       "      <td>...</td>\n",
       "      <td>NaN</td>\n",
       "      <td>NaN</td>\n",
       "      <td>NaN</td>\n",
       "      <td>NaN</td>\n",
       "      <td>NaN</td>\n",
       "      <td>NaN</td>\n",
       "      <td>NaN</td>\n",
       "      <td>NaN</td>\n",
       "      <td>NaN</td>\n",
       "      <td>NaN</td>\n",
       "    </tr>\n",
       "    <tr>\n",
       "      <th>3</th>\n",
       "      <td>0.034472</td>\n",
       "      <td>0.006383</td>\n",
       "      <td>-0.002306</td>\n",
       "      <td>0.131603</td>\n",
       "      <td>0.004925</td>\n",
       "      <td>-0.001694</td>\n",
       "      <td>0.005558</td>\n",
       "      <td>-0.000655</td>\n",
       "      <td>-0.000462</td>\n",
       "      <td>-0.004296</td>\n",
       "      <td>...</td>\n",
       "      <td>NaN</td>\n",
       "      <td>NaN</td>\n",
       "      <td>NaN</td>\n",
       "      <td>NaN</td>\n",
       "      <td>NaN</td>\n",
       "      <td>NaN</td>\n",
       "      <td>NaN</td>\n",
       "      <td>NaN</td>\n",
       "      <td>NaN</td>\n",
       "      <td>NaN</td>\n",
       "    </tr>\n",
       "    <tr>\n",
       "      <th>4</th>\n",
       "      <td>-0.003447</td>\n",
       "      <td>0.003093</td>\n",
       "      <td>-0.003708</td>\n",
       "      <td>0.004925</td>\n",
       "      <td>0.075393</td>\n",
       "      <td>0.002022</td>\n",
       "      <td>0.000058</td>\n",
       "      <td>-0.000694</td>\n",
       "      <td>-0.000023</td>\n",
       "      <td>-0.004744</td>\n",
       "      <td>...</td>\n",
       "      <td>NaN</td>\n",
       "      <td>NaN</td>\n",
       "      <td>NaN</td>\n",
       "      <td>NaN</td>\n",
       "      <td>NaN</td>\n",
       "      <td>NaN</td>\n",
       "      <td>NaN</td>\n",
       "      <td>NaN</td>\n",
       "      <td>NaN</td>\n",
       "      <td>NaN</td>\n",
       "    </tr>\n",
       "    <tr>\n",
       "      <th>...</th>\n",
       "      <th>...</th>\n",
       "      <td>...</td>\n",
       "      <td>...</td>\n",
       "      <td>...</td>\n",
       "      <td>...</td>\n",
       "      <td>...</td>\n",
       "      <td>...</td>\n",
       "      <td>...</td>\n",
       "      <td>...</td>\n",
       "      <td>...</td>\n",
       "      <td>...</td>\n",
       "      <td>...</td>\n",
       "      <td>...</td>\n",
       "      <td>...</td>\n",
       "      <td>...</td>\n",
       "      <td>...</td>\n",
       "      <td>...</td>\n",
       "      <td>...</td>\n",
       "      <td>...</td>\n",
       "      <td>...</td>\n",
       "      <td>...</td>\n",
       "      <td>...</td>\n",
       "    </tr>\n",
       "    <tr>\n",
       "      <th rowspan=\"5\" valign=\"top\">2022-04-27</th>\n",
       "      <th>1002</th>\n",
       "      <td>-0.005145</td>\n",
       "      <td>0.001136</td>\n",
       "      <td>-0.003702</td>\n",
       "      <td>0.002203</td>\n",
       "      <td>0.006458</td>\n",
       "      <td>-0.004588</td>\n",
       "      <td>0.001013</td>\n",
       "      <td>0.001780</td>\n",
       "      <td>-0.006804</td>\n",
       "      <td>-0.004492</td>\n",
       "      <td>...</td>\n",
       "      <td>NaN</td>\n",
       "      <td>NaN</td>\n",
       "      <td>NaN</td>\n",
       "      <td>NaN</td>\n",
       "      <td>NaN</td>\n",
       "      <td>NaN</td>\n",
       "      <td>NaN</td>\n",
       "      <td>NaN</td>\n",
       "      <td>NaN</td>\n",
       "      <td>NaN</td>\n",
       "    </tr>\n",
       "    <tr>\n",
       "      <th>1003</th>\n",
       "      <td>-0.001783</td>\n",
       "      <td>-0.001400</td>\n",
       "      <td>0.004313</td>\n",
       "      <td>0.006323</td>\n",
       "      <td>0.003846</td>\n",
       "      <td>-0.001863</td>\n",
       "      <td>0.001859</td>\n",
       "      <td>0.000758</td>\n",
       "      <td>-0.003977</td>\n",
       "      <td>-0.001676</td>\n",
       "      <td>...</td>\n",
       "      <td>NaN</td>\n",
       "      <td>NaN</td>\n",
       "      <td>NaN</td>\n",
       "      <td>NaN</td>\n",
       "      <td>NaN</td>\n",
       "      <td>NaN</td>\n",
       "      <td>NaN</td>\n",
       "      <td>NaN</td>\n",
       "      <td>NaN</td>\n",
       "      <td>NaN</td>\n",
       "    </tr>\n",
       "    <tr>\n",
       "      <th>1004</th>\n",
       "      <td>-0.001983</td>\n",
       "      <td>0.000496</td>\n",
       "      <td>0.001544</td>\n",
       "      <td>0.000060</td>\n",
       "      <td>-0.001133</td>\n",
       "      <td>-0.001795</td>\n",
       "      <td>0.002309</td>\n",
       "      <td>0.000843</td>\n",
       "      <td>-0.003545</td>\n",
       "      <td>0.003269</td>\n",
       "      <td>...</td>\n",
       "      <td>NaN</td>\n",
       "      <td>NaN</td>\n",
       "      <td>NaN</td>\n",
       "      <td>NaN</td>\n",
       "      <td>NaN</td>\n",
       "      <td>NaN</td>\n",
       "      <td>NaN</td>\n",
       "      <td>NaN</td>\n",
       "      <td>NaN</td>\n",
       "      <td>NaN</td>\n",
       "    </tr>\n",
       "    <tr>\n",
       "      <th>1005</th>\n",
       "      <td>-0.000149</td>\n",
       "      <td>-0.000496</td>\n",
       "      <td>0.002503</td>\n",
       "      <td>0.003109</td>\n",
       "      <td>0.003598</td>\n",
       "      <td>0.005260</td>\n",
       "      <td>0.000216</td>\n",
       "      <td>-0.000505</td>\n",
       "      <td>-0.000676</td>\n",
       "      <td>0.006861</td>\n",
       "      <td>...</td>\n",
       "      <td>NaN</td>\n",
       "      <td>NaN</td>\n",
       "      <td>NaN</td>\n",
       "      <td>NaN</td>\n",
       "      <td>NaN</td>\n",
       "      <td>NaN</td>\n",
       "      <td>NaN</td>\n",
       "      <td>NaN</td>\n",
       "      <td>NaN</td>\n",
       "      <td>NaN</td>\n",
       "    </tr>\n",
       "    <tr>\n",
       "      <th>1006</th>\n",
       "      <td>0.002515</td>\n",
       "      <td>0.003200</td>\n",
       "      <td>0.002322</td>\n",
       "      <td>-0.016419</td>\n",
       "      <td>0.000115</td>\n",
       "      <td>0.004432</td>\n",
       "      <td>-0.002432</td>\n",
       "      <td>0.001180</td>\n",
       "      <td>0.002632</td>\n",
       "      <td>0.005789</td>\n",
       "      <td>...</td>\n",
       "      <td>NaN</td>\n",
       "      <td>NaN</td>\n",
       "      <td>NaN</td>\n",
       "      <td>NaN</td>\n",
       "      <td>NaN</td>\n",
       "      <td>NaN</td>\n",
       "      <td>NaN</td>\n",
       "      <td>NaN</td>\n",
       "      <td>NaN</td>\n",
       "      <td>NaN</td>\n",
       "    </tr>\n",
       "  </tbody>\n",
       "</table>\n",
       "<p>310704 rows × 1056 columns</p>\n",
       "</div>"
      ],
      "text/plain": [
       "                     0         1         2         3         4         5     \\\n",
       "date                                                                          \n",
       "2016-02-17 0     0.035652 -0.008186  0.002808  0.034472 -0.003447 -0.002116   \n",
       "           1    -0.008186  0.073452 -0.003718  0.006383  0.003093 -0.000760   \n",
       "           2     0.002808 -0.003718  0.027828 -0.002306 -0.003708  0.000979   \n",
       "           3     0.034472  0.006383 -0.002306  0.131603  0.004925 -0.001694   \n",
       "           4    -0.003447  0.003093 -0.003708  0.004925  0.075393  0.002022   \n",
       "...                   ...       ...       ...       ...       ...       ...   \n",
       "2022-04-27 1002 -0.005145  0.001136 -0.003702  0.002203  0.006458 -0.004588   \n",
       "           1003 -0.001783 -0.001400  0.004313  0.006323  0.003846 -0.001863   \n",
       "           1004 -0.001983  0.000496  0.001544  0.000060 -0.001133 -0.001795   \n",
       "           1005 -0.000149 -0.000496  0.002503  0.003109  0.003598  0.005260   \n",
       "           1006  0.002515  0.003200  0.002322 -0.016419  0.000115  0.004432   \n",
       "\n",
       "                     6         7         8         9     ...  1046  1047  \\\n",
       "date                                                     ...               \n",
       "2016-02-17 0    -0.002028  0.000333  0.002445  0.006977  ...   NaN   NaN   \n",
       "           1     0.008767 -0.005741  0.000815 -0.003704  ...   NaN   NaN   \n",
       "           2    -0.002075  0.001389 -0.000115  0.003217  ...   NaN   NaN   \n",
       "           3     0.005558 -0.000655 -0.000462 -0.004296  ...   NaN   NaN   \n",
       "           4     0.000058 -0.000694 -0.000023 -0.004744  ...   NaN   NaN   \n",
       "...                   ...       ...       ...       ...  ...   ...   ...   \n",
       "2022-04-27 1002  0.001013  0.001780 -0.006804 -0.004492  ...   NaN   NaN   \n",
       "           1003  0.001859  0.000758 -0.003977 -0.001676  ...   NaN   NaN   \n",
       "           1004  0.002309  0.000843 -0.003545  0.003269  ...   NaN   NaN   \n",
       "           1005  0.000216 -0.000505 -0.000676  0.006861  ...   NaN   NaN   \n",
       "           1006 -0.002432  0.001180  0.002632  0.005789  ...   NaN   NaN   \n",
       "\n",
       "                 1048  1049  1050  1051  1052  1053  1054  1055  \n",
       "date                                                             \n",
       "2016-02-17 0      NaN   NaN   NaN   NaN   NaN   NaN   NaN   NaN  \n",
       "           1      NaN   NaN   NaN   NaN   NaN   NaN   NaN   NaN  \n",
       "           2      NaN   NaN   NaN   NaN   NaN   NaN   NaN   NaN  \n",
       "           3      NaN   NaN   NaN   NaN   NaN   NaN   NaN   NaN  \n",
       "           4      NaN   NaN   NaN   NaN   NaN   NaN   NaN   NaN  \n",
       "...               ...   ...   ...   ...   ...   ...   ...   ...  \n",
       "2022-04-27 1002   NaN   NaN   NaN   NaN   NaN   NaN   NaN   NaN  \n",
       "           1003   NaN   NaN   NaN   NaN   NaN   NaN   NaN   NaN  \n",
       "           1004   NaN   NaN   NaN   NaN   NaN   NaN   NaN   NaN  \n",
       "           1005   NaN   NaN   NaN   NaN   NaN   NaN   NaN   NaN  \n",
       "           1006   NaN   NaN   NaN   NaN   NaN   NaN   NaN   NaN  \n",
       "\n",
       "[310704 rows x 1056 columns]"
      ]
     },
     "execution_count": 11,
     "metadata": {},
     "output_type": "execute_result"
    }
   ],
   "source": [
    "del Omega"
   ]
  },
  {
   "cell_type": "code",
   "execution_count": 12,
   "id": "274e853d-d3b3-4481-9cfd-b3b7b25daf67",
   "metadata": {},
   "outputs": [],
   "source": [
    "Omega.reset_index(level=1, drop=True).reset_index(inplace=True)"
   ]
  },
  {
   "cell_type": "markdown",
   "id": "017f8414-bb63-41ca-b957-b9c6656a630e",
   "metadata": {},
   "source": [
    "# Gaussianize Target"
   ]
  },
  {
   "cell_type": "code",
   "execution_count": 9,
   "id": "40d37f1d-03db-4f41-8794-5c14a3656a48",
   "metadata": {},
   "outputs": [],
   "source": [
    "import sys\n",
    "\n",
    "sys.path.insert(1, \"../../Feature engg/feature-engineering/src\")\n",
    "from class_ import Data"
   ]
  },
  {
   "cell_type": "code",
   "execution_count": 10,
   "id": "fdd34b03-8d28-4e20-94a7-621e7c59533f",
   "metadata": {},
   "outputs": [],
   "source": [
    "y_date = pd.concat([X_df['date'], y_df], axis=1)"
   ]
  },
  {
   "cell_type": "code",
   "execution_count": 11,
   "id": "d8588be3-a081-494b-9216-fb9f7bfc749e",
   "metadata": {},
   "outputs": [],
   "source": [
    "data = Data(f_matrix=y_date, b_matrix=B)"
   ]
  },
  {
   "cell_type": "code",
   "execution_count": 12,
   "id": "b2297440-6fdd-4df9-9287-139508119df6",
   "metadata": {},
   "outputs": [
    {
     "data": {
      "application/vnd.jupyter.widget-view+json": {
       "model_id": "a7d51a0d0d9a4aa9a47b29fd128bc653",
       "version_major": 2,
       "version_minor": 0
      },
      "text/plain": [
       "  0%|          | 0/1 [00:00<?, ?it/s]"
      ]
     },
     "metadata": {},
     "output_type": "display_data"
    },
    {
     "data": {
      "text/plain": [
       "0"
      ]
     },
     "execution_count": 12,
     "metadata": {},
     "output_type": "execute_result"
    }
   ],
   "source": [
    "data.gaussianize()"
   ]
  },
  {
   "cell_type": "code",
   "execution_count": 13,
   "id": "d9f920e1-9bf7-4c27-8622-17309894baea",
   "metadata": {},
   "outputs": [
    {
     "data": {
      "application/vnd.jupyter.widget-view+json": {
       "model_id": "a5db8dd9994e443080b313f472d2c694",
       "version_major": 2,
       "version_minor": 0
      },
      "text/plain": [
       "  0%|          | 0/1 [00:00<?, ?it/s]"
      ]
     },
     "metadata": {},
     "output_type": "display_data"
    },
    {
     "data": {
      "text/plain": [
       "0"
      ]
     },
     "execution_count": 13,
     "metadata": {},
     "output_type": "execute_result"
    }
   ],
   "source": [
    "data.standardize()"
   ]
  },
  {
   "cell_type": "code",
   "execution_count": 14,
   "id": "aa963c36-6569-49a3-a456-54a16fffa70f",
   "metadata": {},
   "outputs": [],
   "source": [
    "y_date = data.f_matrix"
   ]
  },
  {
   "cell_type": "code",
   "execution_count": 15,
   "id": "4e99f384-98af-41dd-b91a-5cbf0588f90e",
   "metadata": {},
   "outputs": [],
   "source": [
    "y_df = y_date['target_w']"
   ]
  },
  {
   "cell_type": "code",
   "execution_count": 16,
   "id": "170baf60-d116-4a40-a6ee-d252e9d4408d",
   "metadata": {},
   "outputs": [
    {
     "data": {
      "text/plain": [
       "<AxesSubplot: >"
      ]
     },
     "execution_count": 16,
     "metadata": {},
     "output_type": "execute_result"
    },
    {
     "data": {
      "image/png": "[encoded data removed]",
      "text/plain": [
       "<Figure size 640x480 with 1 Axes>"
      ]
     },
     "metadata": {},
     "output_type": "display_data"
    }
   ],
   "source": [
    "y_df.hist(bins=1000)"
   ]
  },
  {
   "cell_type": "code",
   "execution_count": 17,
   "id": "5606918a-37e0-4261-a8c0-799fa6dbcbf7",
   "metadata": {},
   "outputs": [],
   "source": [
    "# Kernel Ridge Regression test"
   ]
  },
  {
   "cell_type": "code",
   "execution_count": 40,
   "id": "2bb331ae-883e-4be2-aa26-b0611b58232d",
   "metadata": {},
   "outputs": [],
   "source": [
    "from sklearn.kernel_ridge import KernelRidge"
   ]
  },
  {
   "cell_type": "code",
   "execution_count": 41,
   "id": "f9e6f9c8-d8fe-4d9f-97fa-9b8bfe40ed43",
   "metadata": {},
   "outputs": [],
   "source": [
    "krr = KernelRidge(alpha=1.0)"
   ]
  },
  {
   "cell_type": "code",
   "execution_count": 43,
   "id": "76f8142c",
   "metadata": {},
   "outputs": [
    {
     "data": {
      "text/plain": [
       "'linear'"
      ]
     },
     "execution_count": 43,
     "metadata": {},
     "output_type": "execute_result"
    }
   ],
   "source": [
    "krr.kernel"
   ]
  },
  {
   "cell_type": "code",
   "execution_count": 20,
   "id": "b67b0e91-abe5-44ac-9592-385090b34431",
   "metadata": {},
   "outputs": [],
   "source": [
    "moons = X_df.date.unique()"
   ]
  },
  {
   "cell_type": "code",
   "execution_count": 21,
   "id": "14f97eef-d78e-42bd-864d-89f3d7f6ea12",
   "metadata": {},
   "outputs": [
    {
     "data": {
      "text/plain": [
       "60.0"
      ]
     },
     "execution_count": 21,
     "metadata": {},
     "output_type": "execute_result"
    }
   ],
   "source": [
    "300/5"
   ]
  },
  {
   "cell_type": "code",
   "execution_count": 22,
   "id": "2802931b-9fd2-44bf-9bf1-e5b59fffd3df",
   "metadata": {},
   "outputs": [],
   "source": [
    "batches = 7"
   ]
  },
  {
   "cell_type": "code",
   "execution_count": 23,
   "id": "fde339c6-d7c8-4676-afcf-bc846959ec1f",
   "metadata": {},
   "outputs": [
    {
     "name": "stdout",
     "output_type": "stream",
     "text": [
      "In Sample\n",
      "[[1.         0.21816376]\n",
      " [0.21816376 1.        ]]\n",
      "In Sample\n",
      "[[1.         0.23717042]\n",
      " [0.23717042 1.        ]]\n",
      "In Sample\n",
      "[[1.         0.21617125]\n",
      " [0.21617125 1.        ]]\n",
      "In Sample\n",
      "[[1.         0.24401615]\n",
      " [0.24401615 1.        ]]\n",
      "In Sample\n",
      "[[1.         0.21146556]\n",
      " [0.21146556 1.        ]]\n",
      "In Sample\n",
      "[[1.         0.20871327]\n",
      " [0.20871327 1.        ]]\n",
      "In Sample\n",
      "[[1.         0.19900934]\n",
      " [0.19900934 1.        ]]\n"
     ]
    }
   ],
   "source": [
    "for i in range(batches):\n",
    "    X = X_df[X_df['date'].isin(moons[(i*5):5*(i+1)])].drop('date', axis=1)\n",
    "    y = y_df.iloc[X.index]\n",
    "    krr.fit(X, y)\n",
    "    print('In Sample')\n",
    "    print(np.corrcoef(krr.predict(X), y))\n",
    "    #for j in range(10):\n",
    "    #    X = X_df[X_df['date'] == moons[(i+1)*35+1+j]].drop('date', axis=1)\n",
    "    #    y = y_df.iloc[X.index]\n",
    "    #    y_hat = krr.predict(X)\n",
    "    #    print('Out of Sample')\n",
    "    #    print(np.corrcoef(y_hat, y))"
   ]
  },
  {
   "cell_type": "code",
   "execution_count": 28,
   "id": "30fdedc1",
   "metadata": {},
   "outputs": [],
   "source": [
    "from sklearn.gaussian_process.kernels import RBF\n",
    "from sklearn.gaussian_process import GaussianProcessRegressor\n",
    "from sklearn.gaussian_process.kernels import ExpSineSquared, WhiteKernel\n",
    "from sklearn.kernel_ridge import KernelRidge\n",
    "\n",
    "kernel = 1.0 * ExpSineSquared(1.0, 5.0, periodicity_bounds=(1e-2, 1e1)) * RBF(\n",
    "    length_scale=15, length_scale_bounds=\"fixed\"\n",
    ") + WhiteKernel(1e-1)\n",
    "gaussian_process = GaussianProcessRegressor()"
   ]
  },
  {
   "cell_type": "code",
   "execution_count": 29,
   "id": "a2df3ee2-98c0-4f93-b214-dedb55e6e2ca",
   "metadata": {},
   "outputs": [
    {
     "name": "stderr",
     "output_type": "stream",
     "text": [
      "/Users/utkarshpratiush/Cr_D/Feature engg/c_dao_env/lib/python3.9/site-packages/sklearn/gaussian_process/kernels.py:1537: RuntimeWarning: underflow encountered in exp\n",
      "  K = np.exp(-0.5 * dists)\n"
     ]
    },
    {
     "name": "stdout",
     "output_type": "stream",
     "text": [
      "In Sample\n"
     ]
    },
    {
     "name": "stderr",
     "output_type": "stream",
     "text": [
      "/Users/utkarshpratiush/Cr_D/Feature engg/c_dao_env/lib/python3.9/site-packages/sklearn/gaussian_process/kernels.py:1545: RuntimeWarning: underflow encountered in exp\n",
      "  K = np.exp(-0.5 * dists)\n"
     ]
    },
    {
     "name": "stdout",
     "output_type": "stream",
     "text": [
      "[[1. 1.]\n",
      " [1. 1.]]\n"
     ]
    },
    {
     "name": "stderr",
     "output_type": "stream",
     "text": [
      "/Users/utkarshpratiush/Cr_D/Feature engg/c_dao_env/lib/python3.9/site-packages/sklearn/gaussian_process/kernels.py:1537: RuntimeWarning: underflow encountered in exp\n",
      "  K = np.exp(-0.5 * dists)\n"
     ]
    },
    {
     "name": "stdout",
     "output_type": "stream",
     "text": [
      "In Sample\n"
     ]
    },
    {
     "name": "stderr",
     "output_type": "stream",
     "text": [
      "/Users/utkarshpratiush/Cr_D/Feature engg/c_dao_env/lib/python3.9/site-packages/sklearn/gaussian_process/kernels.py:1545: RuntimeWarning: underflow encountered in exp\n",
      "  K = np.exp(-0.5 * dists)\n"
     ]
    },
    {
     "name": "stdout",
     "output_type": "stream",
     "text": [
      "[[1.         0.99989365]\n",
      " [0.99989365 1.        ]]\n"
     ]
    },
    {
     "name": "stderr",
     "output_type": "stream",
     "text": [
      "/Users/utkarshpratiush/Cr_D/Feature engg/c_dao_env/lib/python3.9/site-packages/sklearn/gaussian_process/kernels.py:1537: RuntimeWarning: underflow encountered in exp\n",
      "  K = np.exp(-0.5 * dists)\n"
     ]
    },
    {
     "name": "stdout",
     "output_type": "stream",
     "text": [
      "In Sample\n"
     ]
    },
    {
     "name": "stderr",
     "output_type": "stream",
     "text": [
      "/Users/utkarshpratiush/Cr_D/Feature engg/c_dao_env/lib/python3.9/site-packages/sklearn/gaussian_process/kernels.py:1545: RuntimeWarning: underflow encountered in exp\n",
      "  K = np.exp(-0.5 * dists)\n"
     ]
    },
    {
     "name": "stdout",
     "output_type": "stream",
     "text": [
      "[[1.         0.99995638]\n",
      " [0.99995638 1.        ]]\n"
     ]
    },
    {
     "name": "stderr",
     "output_type": "stream",
     "text": [
      "/Users/utkarshpratiush/Cr_D/Feature engg/c_dao_env/lib/python3.9/site-packages/sklearn/gaussian_process/kernels.py:1537: RuntimeWarning: underflow encountered in exp\n",
      "  K = np.exp(-0.5 * dists)\n"
     ]
    },
    {
     "name": "stdout",
     "output_type": "stream",
     "text": [
      "In Sample\n"
     ]
    },
    {
     "name": "stderr",
     "output_type": "stream",
     "text": [
      "/Users/utkarshpratiush/Cr_D/Feature engg/c_dao_env/lib/python3.9/site-packages/sklearn/gaussian_process/kernels.py:1545: RuntimeWarning: underflow encountered in exp\n",
      "  K = np.exp(-0.5 * dists)\n"
     ]
    },
    {
     "name": "stdout",
     "output_type": "stream",
     "text": [
      "[[1.         0.99995075]\n",
      " [0.99995075 1.        ]]\n",
      "In Sample\n",
      "[[1.         0.99996443]\n",
      " [0.99996443 1.        ]]\n"
     ]
    },
    {
     "name": "stderr",
     "output_type": "stream",
     "text": [
      "/Users/utkarshpratiush/Cr_D/Feature engg/c_dao_env/lib/python3.9/site-packages/sklearn/gaussian_process/kernels.py:1537: RuntimeWarning: underflow encountered in exp\n",
      "  K = np.exp(-0.5 * dists)\n"
     ]
    },
    {
     "name": "stdout",
     "output_type": "stream",
     "text": [
      "In Sample\n"
     ]
    },
    {
     "name": "stderr",
     "output_type": "stream",
     "text": [
      "/Users/utkarshpratiush/Cr_D/Feature engg/c_dao_env/lib/python3.9/site-packages/sklearn/gaussian_process/kernels.py:1545: RuntimeWarning: underflow encountered in exp\n",
      "  K = np.exp(-0.5 * dists)\n",
      "/Users/utkarshpratiush/Cr_D/Feature engg/c_dao_env/lib/python3.9/site-packages/sklearn/gaussian_process/_gpr.py:406: RuntimeWarning: underflow encountered in matmul\n",
      "  y_mean = K_trans @ self.alpha_\n"
     ]
    },
    {
     "name": "stdout",
     "output_type": "stream",
     "text": [
      "[[1.         0.99997915]\n",
      " [0.99997915 1.        ]]\n",
      "In Sample\n",
      "[[1.         0.99997215]\n",
      " [0.99997215 1.        ]]\n"
     ]
    }
   ],
   "source": [
    "for i in range(batches):\n",
    "    X = X_df[X_df['date'] == moons[i]].drop('date', axis=1)\n",
    "    y = y_df.iloc[X.index]\n",
    "    gaussian_process.fit(X, y)\n",
    "    print('In Sample')\n",
    "    print(np.corrcoef(gaussian_process.predict(X), y))\n",
    "    #for j in range(10):\n",
    "    #    X = X_df[X_df['date'] == moons[(i+1)*35+1+j]].drop('date', axis=1)\n",
    "    #    y = y_df.iloc[X.index]\n",
    "    #    y_hat = krr.predict(X)\n",
    "    #    print('Out of Sample')\n",
    "    #    print(np.corrcoef(y_hat, y))"
   ]
  },
  {
   "cell_type": "code",
   "execution_count": 31,
   "id": "f0a7f813-3f76-4e9b-987c-6fe909c48f22",
   "metadata": {},
   "outputs": [
    {
     "data": {
      "text/plain": [
       "1**2 * RBF(length_scale=1)"
      ]
     },
     "execution_count": 31,
     "metadata": {},
     "output_type": "execute_result"
    }
   ],
   "source": [
    "gaussian_process.kernel_"
   ]
  },
  {
   "cell_type": "code",
   "execution_count": 32,
   "id": "6092b97e-db11-44a0-be58-b838224b4459",
   "metadata": {},
   "outputs": [
    {
     "name": "stderr",
     "output_type": "stream",
     "text": [
      "/Users/utkarshpratiush/Cr_D/Feature engg/c_dao_env/lib/python3.9/site-packages/sklearn/gaussian_process/kernels.py:1537: RuntimeWarning: underflow encountered in exp\n",
      "  K = np.exp(-0.5 * dists)\n",
      "/Users/utkarshpratiush/Cr_D/Feature engg/c_dao_env/lib/python3.9/site-packages/sklearn/gaussian_process/kernels.py:1552: RuntimeWarning: underflow encountered in multiply\n",
      "  K_gradient = (K * squareform(dists))[:, :, np.newaxis]\n",
      "/Users/utkarshpratiush/Cr_D/Feature engg/c_dao_env/lib/python3.9/site-packages/sklearn/gaussian_process/kernels.py:942: RuntimeWarning: underflow encountered in multiply\n",
      "  return K1 * K2, np.dstack(\n",
      "/Users/utkarshpratiush/Cr_D/Feature engg/c_dao_env/lib/python3.9/site-packages/sklearn/gaussian_process/kernels.py:943: RuntimeWarning: underflow encountered in multiply\n",
      "  (K1_gradient * K2[:, :, np.newaxis], K2_gradient * K1[:, :, np.newaxis])\n",
      "/Users/utkarshpratiush/Cr_D/Feature engg/c_dao_env/lib/python3.9/site-packages/sklearn/gaussian_process/kernels.py:946: RuntimeWarning: underflow encountered in multiply\n",
      "  return self.k1(X, Y) * self.k2(X, Y)\n"
     ]
    },
    {
     "name": "stdout",
     "output_type": "stream",
     "text": [
      "In Sample\n"
     ]
    },
    {
     "name": "stderr",
     "output_type": "stream",
     "text": [
      "/Users/utkarshpratiush/Cr_D/Feature engg/c_dao_env/lib/python3.9/site-packages/sklearn/gaussian_process/kernels.py:1545: RuntimeWarning: underflow encountered in exp\n",
      "  K = np.exp(-0.5 * dists)\n",
      "/Users/utkarshpratiush/Cr_D/Feature engg/c_dao_env/lib/python3.9/site-packages/sklearn/gaussian_process/kernels.py:946: RuntimeWarning: underflow encountered in multiply\n",
      "  return self.k1(X, Y) * self.k2(X, Y)\n"
     ]
    },
    {
     "name": "stdout",
     "output_type": "stream",
     "text": [
      "[[1. 1.]\n",
      " [1. 1.]]\n"
     ]
    },
    {
     "name": "stderr",
     "output_type": "stream",
     "text": [
      "/Users/utkarshpratiush/Cr_D/Feature engg/c_dao_env/lib/python3.9/site-packages/sklearn/gaussian_process/kernels.py:1537: RuntimeWarning: underflow encountered in exp\n",
      "  K = np.exp(-0.5 * dists)\n",
      "/Users/utkarshpratiush/Cr_D/Feature engg/c_dao_env/lib/python3.9/site-packages/sklearn/gaussian_process/kernels.py:1552: RuntimeWarning: underflow encountered in multiply\n",
      "  K_gradient = (K * squareform(dists))[:, :, np.newaxis]\n",
      "/Users/utkarshpratiush/Cr_D/Feature engg/c_dao_env/lib/python3.9/site-packages/sklearn/gaussian_process/kernels.py:942: RuntimeWarning: underflow encountered in multiply\n",
      "  return K1 * K2, np.dstack(\n",
      "/Users/utkarshpratiush/Cr_D/Feature engg/c_dao_env/lib/python3.9/site-packages/sklearn/gaussian_process/kernels.py:943: RuntimeWarning: underflow encountered in multiply\n",
      "  (K1_gradient * K2[:, :, np.newaxis], K2_gradient * K1[:, :, np.newaxis])\n",
      "/Users/utkarshpratiush/Cr_D/Feature engg/c_dao_env/lib/python3.9/site-packages/sklearn/gaussian_process/kernels.py:430: ConvergenceWarning: The optimal value found for dimension 0 of parameter k1__constant_value is close to the specified upper bound 100000.0. Increasing the bound and calling fit again may find a better value.\n",
      "  warnings.warn(\n",
      "/Users/utkarshpratiush/Cr_D/Feature engg/c_dao_env/lib/python3.9/site-packages/sklearn/gaussian_process/kernels.py:946: RuntimeWarning: underflow encountered in multiply\n",
      "  return self.k1(X, Y) * self.k2(X, Y)\n"
     ]
    },
    {
     "name": "stdout",
     "output_type": "stream",
     "text": [
      "In Sample\n"
     ]
    },
    {
     "name": "stderr",
     "output_type": "stream",
     "text": [
      "/Users/utkarshpratiush/Cr_D/Feature engg/c_dao_env/lib/python3.9/site-packages/sklearn/gaussian_process/kernels.py:946: RuntimeWarning: underflow encountered in multiply\n",
      "  return self.k1(X, Y) * self.k2(X, Y)\n"
     ]
    },
    {
     "name": "stdout",
     "output_type": "stream",
     "text": [
      "[[1.         0.99989114]\n",
      " [0.99989114 1.        ]]\n"
     ]
    },
    {
     "name": "stderr",
     "output_type": "stream",
     "text": [
      "/Users/utkarshpratiush/Cr_D/Feature engg/c_dao_env/lib/python3.9/site-packages/sklearn/gaussian_process/kernels.py:1537: RuntimeWarning: underflow encountered in exp\n",
      "  K = np.exp(-0.5 * dists)\n",
      "/Users/utkarshpratiush/Cr_D/Feature engg/c_dao_env/lib/python3.9/site-packages/sklearn/gaussian_process/kernels.py:1552: RuntimeWarning: underflow encountered in multiply\n",
      "  K_gradient = (K * squareform(dists))[:, :, np.newaxis]\n",
      "/Users/utkarshpratiush/Cr_D/Feature engg/c_dao_env/lib/python3.9/site-packages/sklearn/gaussian_process/kernels.py:942: RuntimeWarning: underflow encountered in multiply\n",
      "  return K1 * K2, np.dstack(\n",
      "/Users/utkarshpratiush/Cr_D/Feature engg/c_dao_env/lib/python3.9/site-packages/sklearn/gaussian_process/kernels.py:943: RuntimeWarning: underflow encountered in multiply\n",
      "  (K1_gradient * K2[:, :, np.newaxis], K2_gradient * K1[:, :, np.newaxis])\n",
      "/Users/utkarshpratiush/Cr_D/Feature engg/c_dao_env/lib/python3.9/site-packages/sklearn/gaussian_process/kernels.py:430: ConvergenceWarning: The optimal value found for dimension 0 of parameter k1__constant_value is close to the specified upper bound 100000.0. Increasing the bound and calling fit again may find a better value.\n",
      "  warnings.warn(\n",
      "/Users/utkarshpratiush/Cr_D/Feature engg/c_dao_env/lib/python3.9/site-packages/sklearn/gaussian_process/kernels.py:946: RuntimeWarning: underflow encountered in multiply\n",
      "  return self.k1(X, Y) * self.k2(X, Y)\n"
     ]
    },
    {
     "name": "stdout",
     "output_type": "stream",
     "text": [
      "In Sample\n"
     ]
    },
    {
     "name": "stderr",
     "output_type": "stream",
     "text": [
      "/Users/utkarshpratiush/Cr_D/Feature engg/c_dao_env/lib/python3.9/site-packages/sklearn/gaussian_process/kernels.py:1545: RuntimeWarning: underflow encountered in exp\n",
      "  K = np.exp(-0.5 * dists)\n",
      "/Users/utkarshpratiush/Cr_D/Feature engg/c_dao_env/lib/python3.9/site-packages/sklearn/gaussian_process/kernels.py:946: RuntimeWarning: underflow encountered in multiply\n",
      "  return self.k1(X, Y) * self.k2(X, Y)\n"
     ]
    },
    {
     "name": "stdout",
     "output_type": "stream",
     "text": [
      "[[1.         0.99994468]\n",
      " [0.99994468 1.        ]]\n"
     ]
    },
    {
     "name": "stderr",
     "output_type": "stream",
     "text": [
      "/Users/utkarshpratiush/Cr_D/Feature engg/c_dao_env/lib/python3.9/site-packages/sklearn/gaussian_process/kernels.py:1537: RuntimeWarning: underflow encountered in exp\n",
      "  K = np.exp(-0.5 * dists)\n",
      "/Users/utkarshpratiush/Cr_D/Feature engg/c_dao_env/lib/python3.9/site-packages/sklearn/gaussian_process/kernels.py:1552: RuntimeWarning: underflow encountered in multiply\n",
      "  K_gradient = (K * squareform(dists))[:, :, np.newaxis]\n",
      "/Users/utkarshpratiush/Cr_D/Feature engg/c_dao_env/lib/python3.9/site-packages/sklearn/gaussian_process/kernels.py:942: RuntimeWarning: underflow encountered in multiply\n",
      "  return K1 * K2, np.dstack(\n",
      "/Users/utkarshpratiush/Cr_D/Feature engg/c_dao_env/lib/python3.9/site-packages/sklearn/gaussian_process/kernels.py:943: RuntimeWarning: underflow encountered in multiply\n",
      "  (K1_gradient * K2[:, :, np.newaxis], K2_gradient * K1[:, :, np.newaxis])\n",
      "/Users/utkarshpratiush/Cr_D/Feature engg/c_dao_env/lib/python3.9/site-packages/sklearn/gaussian_process/kernels.py:430: ConvergenceWarning: The optimal value found for dimension 0 of parameter k1__constant_value is close to the specified upper bound 100000.0. Increasing the bound and calling fit again may find a better value.\n",
      "  warnings.warn(\n",
      "/Users/utkarshpratiush/Cr_D/Feature engg/c_dao_env/lib/python3.9/site-packages/sklearn/gaussian_process/kernels.py:946: RuntimeWarning: underflow encountered in multiply\n",
      "  return self.k1(X, Y) * self.k2(X, Y)\n"
     ]
    },
    {
     "name": "stdout",
     "output_type": "stream",
     "text": [
      "In Sample\n"
     ]
    },
    {
     "name": "stderr",
     "output_type": "stream",
     "text": [
      "/Users/utkarshpratiush/Cr_D/Feature engg/c_dao_env/lib/python3.9/site-packages/sklearn/gaussian_process/kernels.py:1545: RuntimeWarning: underflow encountered in exp\n",
      "  K = np.exp(-0.5 * dists)\n",
      "/Users/utkarshpratiush/Cr_D/Feature engg/c_dao_env/lib/python3.9/site-packages/sklearn/gaussian_process/kernels.py:946: RuntimeWarning: underflow encountered in multiply\n",
      "  return self.k1(X, Y) * self.k2(X, Y)\n"
     ]
    },
    {
     "name": "stdout",
     "output_type": "stream",
     "text": [
      "[[1.         0.99995074]\n",
      " [0.99995074 1.        ]]\n"
     ]
    },
    {
     "name": "stderr",
     "output_type": "stream",
     "text": [
      "/Users/utkarshpratiush/Cr_D/Feature engg/c_dao_env/lib/python3.9/site-packages/sklearn/gaussian_process/kernels.py:1552: RuntimeWarning: underflow encountered in multiply\n",
      "  K_gradient = (K * squareform(dists))[:, :, np.newaxis]\n",
      "/Users/utkarshpratiush/Cr_D/Feature engg/c_dao_env/lib/python3.9/site-packages/sklearn/gaussian_process/kernels.py:942: RuntimeWarning: underflow encountered in multiply\n",
      "  return K1 * K2, np.dstack(\n",
      "/Users/utkarshpratiush/Cr_D/Feature engg/c_dao_env/lib/python3.9/site-packages/sklearn/gaussian_process/kernels.py:943: RuntimeWarning: underflow encountered in multiply\n",
      "  (K1_gradient * K2[:, :, np.newaxis], K2_gradient * K1[:, :, np.newaxis])\n",
      "/Users/utkarshpratiush/Cr_D/Feature engg/c_dao_env/lib/python3.9/site-packages/sklearn/gaussian_process/kernels.py:430: ConvergenceWarning: The optimal value found for dimension 0 of parameter k1__constant_value is close to the specified upper bound 100000.0. Increasing the bound and calling fit again may find a better value.\n",
      "  warnings.warn(\n"
     ]
    },
    {
     "name": "stdout",
     "output_type": "stream",
     "text": [
      "In Sample\n",
      "[[1.         0.99996323]\n",
      " [0.99996323 1.        ]]\n"
     ]
    },
    {
     "name": "stderr",
     "output_type": "stream",
     "text": [
      "/Users/utkarshpratiush/Cr_D/Feature engg/c_dao_env/lib/python3.9/site-packages/sklearn/gaussian_process/kernels.py:1537: RuntimeWarning: underflow encountered in exp\n",
      "  K = np.exp(-0.5 * dists)\n",
      "/Users/utkarshpratiush/Cr_D/Feature engg/c_dao_env/lib/python3.9/site-packages/sklearn/gaussian_process/kernels.py:1552: RuntimeWarning: underflow encountered in multiply\n",
      "  K_gradient = (K * squareform(dists))[:, :, np.newaxis]\n",
      "/Users/utkarshpratiush/Cr_D/Feature engg/c_dao_env/lib/python3.9/site-packages/sklearn/gaussian_process/kernels.py:942: RuntimeWarning: underflow encountered in multiply\n",
      "  return K1 * K2, np.dstack(\n",
      "/Users/utkarshpratiush/Cr_D/Feature engg/c_dao_env/lib/python3.9/site-packages/sklearn/gaussian_process/kernels.py:943: RuntimeWarning: underflow encountered in multiply\n",
      "  (K1_gradient * K2[:, :, np.newaxis], K2_gradient * K1[:, :, np.newaxis])\n",
      "/Users/utkarshpratiush/Cr_D/Feature engg/c_dao_env/lib/python3.9/site-packages/sklearn/gaussian_process/kernels.py:946: RuntimeWarning: underflow encountered in multiply\n",
      "  return self.k1(X, Y) * self.k2(X, Y)\n"
     ]
    },
    {
     "name": "stdout",
     "output_type": "stream",
     "text": [
      "In Sample\n"
     ]
    },
    {
     "name": "stderr",
     "output_type": "stream",
     "text": [
      "/Users/utkarshpratiush/Cr_D/Feature engg/c_dao_env/lib/python3.9/site-packages/sklearn/gaussian_process/kernels.py:1545: RuntimeWarning: underflow encountered in exp\n",
      "  K = np.exp(-0.5 * dists)\n",
      "/Users/utkarshpratiush/Cr_D/Feature engg/c_dao_env/lib/python3.9/site-packages/sklearn/gaussian_process/kernels.py:946: RuntimeWarning: underflow encountered in multiply\n",
      "  return self.k1(X, Y) * self.k2(X, Y)\n",
      "/Users/utkarshpratiush/Cr_D/Feature engg/c_dao_env/lib/python3.9/site-packages/sklearn/gaussian_process/_gpr.py:406: RuntimeWarning: underflow encountered in matmul\n",
      "  y_mean = K_trans @ self.alpha_\n"
     ]
    },
    {
     "name": "stdout",
     "output_type": "stream",
     "text": [
      "[[1.         0.99997915]\n",
      " [0.99997915 1.        ]]\n"
     ]
    },
    {
     "name": "stderr",
     "output_type": "stream",
     "text": [
      "/Users/utkarshpratiush/Cr_D/Feature engg/c_dao_env/lib/python3.9/site-packages/sklearn/gaussian_process/kernels.py:1552: RuntimeWarning: underflow encountered in multiply\n",
      "  K_gradient = (K * squareform(dists))[:, :, np.newaxis]\n",
      "/Users/utkarshpratiush/Cr_D/Feature engg/c_dao_env/lib/python3.9/site-packages/sklearn/gaussian_process/kernels.py:942: RuntimeWarning: underflow encountered in multiply\n",
      "  return K1 * K2, np.dstack(\n",
      "/Users/utkarshpratiush/Cr_D/Feature engg/c_dao_env/lib/python3.9/site-packages/sklearn/gaussian_process/kernels.py:943: RuntimeWarning: underflow encountered in multiply\n",
      "  (K1_gradient * K2[:, :, np.newaxis], K2_gradient * K1[:, :, np.newaxis])\n",
      "/Users/utkarshpratiush/Cr_D/Feature engg/c_dao_env/lib/python3.9/site-packages/sklearn/gaussian_process/kernels.py:946: RuntimeWarning: underflow encountered in multiply\n",
      "  return self.k1(X, Y) * self.k2(X, Y)\n"
     ]
    },
    {
     "name": "stdout",
     "output_type": "stream",
     "text": [
      "In Sample\n"
     ]
    },
    {
     "name": "stderr",
     "output_type": "stream",
     "text": [
      "/Users/utkarshpratiush/Cr_D/Feature engg/c_dao_env/lib/python3.9/site-packages/sklearn/gaussian_process/kernels.py:946: RuntimeWarning: underflow encountered in multiply\n",
      "  return self.k1(X, Y) * self.k2(X, Y)\n"
     ]
    },
    {
     "name": "stdout",
     "output_type": "stream",
     "text": [
      "[[1.         0.99997215]\n",
      " [0.99997215 1.        ]]\n"
     ]
    }
   ],
   "source": [
    "gaussian_process = GaussianProcessRegressor(kernel = 1**2 * RBF(length_scale=1))\n",
    "for i in range(batches):\n",
    "    X = X_df[X_df['date'].isin(moons[(i*5):5*(i+1)])].drop('date', axis=1)\n",
    "    y = y_df.iloc[X.index]\n",
    "    gaussian_process.fit(X, y)\n",
    "    print('In Sample')\n",
    "    print(np.corrcoef(gaussian_process.predict(X), y))\n",
    "    #for j in range(10):\n",
    "    #    X = X_df[X_df['date'] == moons[(i+1)*35+1+j]].drop('date', axis=1)\n",
    "    #    y = y_df.iloc[X.index]\n",
    "    #    y_hat = krr.predict(X)\n",
    "    #    print('Out of Sample')\n",
    "    #    print(np.corrcoef(y_hat, y))"
   ]
  },
  {
   "cell_type": "code",
   "execution_count": 33,
   "id": "76ddb98e-5e28-4eda-8dc2-433de3d94d5a",
   "metadata": {},
   "outputs": [
    {
     "name": "stderr",
     "output_type": "stream",
     "text": [
      "/Users/utkarshpratiush/Cr_D/Feature engg/c_dao_env/lib/python3.9/site-packages/sklearn/gaussian_process/kernels.py:942: RuntimeWarning: underflow encountered in multiply\n",
      "  return K1 * K2, np.dstack(\n",
      "/Users/utkarshpratiush/Cr_D/Feature engg/c_dao_env/lib/python3.9/site-packages/sklearn/gaussian_process/kernels.py:943: RuntimeWarning: underflow encountered in multiply\n",
      "  (K1_gradient * K2[:, :, np.newaxis], K2_gradient * K1[:, :, np.newaxis])\n",
      "/Users/utkarshpratiush/Cr_D/Feature engg/c_dao_env/lib/python3.9/site-packages/sklearn/gaussian_process/kernels.py:946: RuntimeWarning: underflow encountered in multiply\n",
      "  return self.k1(X, Y) * self.k2(X, Y)\n",
      "/Users/utkarshpratiush/Cr_D/Feature engg/c_dao_env/lib/python3.9/site-packages/sklearn/gaussian_process/kernels.py:946: RuntimeWarning: underflow encountered in multiply\n",
      "  return self.k1(X, Y) * self.k2(X, Y)\n"
     ]
    },
    {
     "name": "stdout",
     "output_type": "stream",
     "text": [
      "In Sample\n",
      "[[1. 1.]\n",
      " [1. 1.]]\n",
      "In Sample\n",
      "[[1. 1.]\n",
      " [1. 1.]]\n"
     ]
    },
    {
     "name": "stderr",
     "output_type": "stream",
     "text": [
      "/Users/utkarshpratiush/Cr_D/Feature engg/c_dao_env/lib/python3.9/site-packages/sklearn/gaussian_process/kernels.py:1537: RuntimeWarning: underflow encountered in exp\n",
      "  K = np.exp(-0.5 * dists)\n",
      "/Users/utkarshpratiush/Cr_D/Feature engg/c_dao_env/lib/python3.9/site-packages/sklearn/gaussian_process/kernels.py:1552: RuntimeWarning: underflow encountered in multiply\n",
      "  K_gradient = (K * squareform(dists))[:, :, np.newaxis]\n",
      "/Users/utkarshpratiush/Cr_D/Feature engg/c_dao_env/lib/python3.9/site-packages/sklearn/gaussian_process/kernels.py:942: RuntimeWarning: underflow encountered in multiply\n",
      "  return K1 * K2, np.dstack(\n",
      "/Users/utkarshpratiush/Cr_D/Feature engg/c_dao_env/lib/python3.9/site-packages/sklearn/gaussian_process/kernels.py:943: RuntimeWarning: underflow encountered in multiply\n",
      "  (K1_gradient * K2[:, :, np.newaxis], K2_gradient * K1[:, :, np.newaxis])\n",
      "/Users/utkarshpratiush/Cr_D/Feature engg/c_dao_env/lib/python3.9/site-packages/sklearn/gaussian_process/kernels.py:946: RuntimeWarning: underflow encountered in multiply\n",
      "  return self.k1(X, Y) * self.k2(X, Y)\n",
      "/Users/utkarshpratiush/Cr_D/Feature engg/c_dao_env/lib/python3.9/site-packages/sklearn/gaussian_process/kernels.py:1545: RuntimeWarning: underflow encountered in exp\n",
      "  K = np.exp(-0.5 * dists)\n",
      "/Users/utkarshpratiush/Cr_D/Feature engg/c_dao_env/lib/python3.9/site-packages/sklearn/gaussian_process/kernels.py:946: RuntimeWarning: underflow encountered in multiply\n",
      "  return self.k1(X, Y) * self.k2(X, Y)\n"
     ]
    },
    {
     "name": "stdout",
     "output_type": "stream",
     "text": [
      "In Sample\n",
      "[[1. 1.]\n",
      " [1. 1.]]\n"
     ]
    },
    {
     "name": "stderr",
     "output_type": "stream",
     "text": [
      "/Users/utkarshpratiush/Cr_D/Feature engg/c_dao_env/lib/python3.9/site-packages/sklearn/gaussian_process/kernels.py:1537: RuntimeWarning: underflow encountered in exp\n",
      "  K = np.exp(-0.5 * dists)\n",
      "/Users/utkarshpratiush/Cr_D/Feature engg/c_dao_env/lib/python3.9/site-packages/sklearn/gaussian_process/kernels.py:1552: RuntimeWarning: underflow encountered in multiply\n",
      "  K_gradient = (K * squareform(dists))[:, :, np.newaxis]\n",
      "/Users/utkarshpratiush/Cr_D/Feature engg/c_dao_env/lib/python3.9/site-packages/sklearn/gaussian_process/kernels.py:942: RuntimeWarning: underflow encountered in multiply\n",
      "  return K1 * K2, np.dstack(\n",
      "/Users/utkarshpratiush/Cr_D/Feature engg/c_dao_env/lib/python3.9/site-packages/sklearn/gaussian_process/kernels.py:943: RuntimeWarning: underflow encountered in multiply\n",
      "  (K1_gradient * K2[:, :, np.newaxis], K2_gradient * K1[:, :, np.newaxis])\n",
      "/Users/utkarshpratiush/Cr_D/Feature engg/c_dao_env/lib/python3.9/site-packages/sklearn/gaussian_process/kernels.py:946: RuntimeWarning: underflow encountered in multiply\n",
      "  return self.k1(X, Y) * self.k2(X, Y)\n",
      "/Users/utkarshpratiush/Cr_D/Feature engg/c_dao_env/lib/python3.9/site-packages/sklearn/gaussian_process/kernels.py:1545: RuntimeWarning: underflow encountered in exp\n",
      "  K = np.exp(-0.5 * dists)\n",
      "/Users/utkarshpratiush/Cr_D/Feature engg/c_dao_env/lib/python3.9/site-packages/sklearn/gaussian_process/kernels.py:946: RuntimeWarning: underflow encountered in multiply\n",
      "  return self.k1(X, Y) * self.k2(X, Y)\n"
     ]
    },
    {
     "name": "stdout",
     "output_type": "stream",
     "text": [
      "In Sample\n",
      "[[1. 1.]\n",
      " [1. 1.]]\n"
     ]
    },
    {
     "name": "stderr",
     "output_type": "stream",
     "text": [
      "/Users/utkarshpratiush/Cr_D/Feature engg/c_dao_env/lib/python3.9/site-packages/sklearn/gaussian_process/kernels.py:942: RuntimeWarning: underflow encountered in multiply\n",
      "  return K1 * K2, np.dstack(\n",
      "/Users/utkarshpratiush/Cr_D/Feature engg/c_dao_env/lib/python3.9/site-packages/sklearn/gaussian_process/kernels.py:943: RuntimeWarning: underflow encountered in multiply\n",
      "  (K1_gradient * K2[:, :, np.newaxis], K2_gradient * K1[:, :, np.newaxis])\n",
      "/Users/utkarshpratiush/Cr_D/Feature engg/c_dao_env/lib/python3.9/site-packages/sklearn/gaussian_process/kernels.py:946: RuntimeWarning: underflow encountered in multiply\n",
      "  return self.k1(X, Y) * self.k2(X, Y)\n",
      "/Users/utkarshpratiush/Cr_D/Feature engg/c_dao_env/lib/python3.9/site-packages/sklearn/gaussian_process/kernels.py:946: RuntimeWarning: underflow encountered in multiply\n",
      "  return self.k1(X, Y) * self.k2(X, Y)\n"
     ]
    },
    {
     "name": "stdout",
     "output_type": "stream",
     "text": [
      "In Sample\n",
      "[[1. 1.]\n",
      " [1. 1.]]\n"
     ]
    },
    {
     "name": "stderr",
     "output_type": "stream",
     "text": [
      "/Users/utkarshpratiush/Cr_D/Feature engg/c_dao_env/lib/python3.9/site-packages/sklearn/gaussian_process/kernels.py:942: RuntimeWarning: underflow encountered in multiply\n",
      "  return K1 * K2, np.dstack(\n",
      "/Users/utkarshpratiush/Cr_D/Feature engg/c_dao_env/lib/python3.9/site-packages/sklearn/gaussian_process/kernels.py:943: RuntimeWarning: underflow encountered in multiply\n",
      "  (K1_gradient * K2[:, :, np.newaxis], K2_gradient * K1[:, :, np.newaxis])\n"
     ]
    },
    {
     "name": "stdout",
     "output_type": "stream",
     "text": [
      "In Sample\n",
      "[[1. 1.]\n",
      " [1. 1.]]\n",
      "In Sample\n",
      "[[1. 1.]\n",
      " [1. 1.]]\n"
     ]
    }
   ],
   "source": [
    "for i in range(batches):\n",
    "    X = X_df[X_df['date'] == moons[i]].drop('date', axis=1)\n",
    "    y = y_df.iloc[X.index]\n",
    "    gaussian_process.fit(X, y)\n",
    "    print('In Sample')\n",
    "    print(np.corrcoef(gaussian_process.predict(X), y))\n",
    "    #for j in range(10):\n",
    "    #    X = X_df[X_df['date'] == moons[(i+1)*35+1+j]].drop('date', axis=1)\n",
    "    #    y = y_df.iloc[X.index]\n",
    "    #    y_hat = krr.predict(X)\n",
    "    #    print('Out of Sample')\n",
    "    #    print(np.corrcoef(y_hat, y))"
   ]
  },
  {
   "cell_type": "code",
   "execution_count": 39,
   "id": "6a5c5bf0-89ef-46b6-aeb1-84186d2d4118",
   "metadata": {},
   "outputs": [
    {
     "data": {
      "text/plain": [
       "array([-5.28917054e-01,  5.05016626e-01, -4.11538505e-01, -2.03392853e+00,\n",
       "        3.40026229e-01, -1.04849344e-01, -2.58273724e-02,  1.01271709e-02,\n",
       "        1.16311412e+00,  7.26245504e-01, -3.19008282e-01, -5.18540012e-01,\n",
       "        5.46243665e-01,  6.95814849e-01, -1.86177338e+00, -5.57710391e-01,\n",
       "        1.27931129e+00,  3.44903298e-01, -6.38501956e-02,  1.95227646e+00,\n",
       "        3.63336957e-01,  6.81933350e-01,  6.45931687e-01, -3.37025724e-01,\n",
       "       -1.20608680e-01,  9.28011623e-02, -3.30665357e-01,  1.90531665e-01,\n",
       "       -1.66490613e-01,  1.34104295e-01,  5.57510855e-01,  1.49303550e+00,\n",
       "        5.02525933e-01,  2.26567588e-01,  1.28922270e-01,  4.21824548e-01,\n",
       "       -6.41615335e-01, -1.61326098e-01,  4.26867570e-01, -9.42800342e-02,\n",
       "        9.44209999e-01,  1.03859327e-02, -1.38797185e+00, -5.17566943e-01,\n",
       "       -5.40669908e-01, -2.13015599e-01,  1.51669092e-01, -5.93061259e-01,\n",
       "       -1.33859253e-01,  6.17898640e-02, -1.23492111e+00,  1.56865032e-01,\n",
       "        2.40587820e-02,  1.45334617e-01, -3.05034970e-01, -4.41695693e-01,\n",
       "       -1.58632472e+00,  8.86016231e-01,  3.60535047e-01,  2.69244392e-01,\n",
       "       -1.13081802e-01,  8.28806427e-01,  4.51907299e-01,  3.88517497e-01,\n",
       "       -6.01969442e-01,  1.23546136e+00,  7.31174764e-01, -2.39313653e+00,\n",
       "        6.04357336e-01, -2.12984849e-01,  1.17468936e+00, -2.70005545e-01,\n",
       "       -2.91559113e-01, -2.34299698e-01,  4.95111802e-01, -4.57030502e-01,\n",
       "       -4.04901387e-01, -6.30941914e-02,  1.65760963e+00, -3.84956689e-01,\n",
       "       -6.24868014e-01, -2.99723827e-01, -5.26748975e+00,  7.75199864e-02,\n",
       "       -8.02874486e-02, -7.77975581e-01,  3.28348833e-01, -7.48863938e-02,\n",
       "       -5.93856727e-03, -8.08569987e-01, -1.89134339e-01,  7.63224767e-01,\n",
       "        1.07927815e+00, -1.73399651e-01, -4.92264795e-01,  1.29861399e-02,\n",
       "       -5.58692966e-01,  1.53593827e-01,  2.21206444e+00,  5.91558644e-02,\n",
       "       -1.23287129e-01,  7.06396484e-01, -1.08002619e+00,  4.82946385e-01,\n",
       "       -3.27986700e-01,  3.51224074e-01,  2.67920160e+00,  1.09093796e+00,\n",
       "        7.21256911e-03,  7.07628782e-02,  1.75202409e-01, -2.35746860e+00,\n",
       "       -4.32144801e-01, -1.88919435e-01,  6.31476200e-01, -3.61811199e-01,\n",
       "        4.02553247e-01,  1.23534942e-01, -8.37545953e-01,  3.37252873e-01,\n",
       "       -4.90473840e-01, -5.85786383e-01,  7.24564277e-01,  1.07296902e-01,\n",
       "       -4.08265333e-01,  1.93536653e-01, -1.19685539e+00, -8.08277309e-01,\n",
       "        3.01282349e-01, -2.74198662e-01,  1.45102219e+00, -9.70503386e-01,\n",
       "       -1.59402064e-01, -3.93211683e-02, -3.75418531e-01,  4.94401187e+00,\n",
       "       -1.22408128e+00, -4.02629316e-01,  5.25626597e-01, -5.22478669e-02,\n",
       "        5.12878454e-01, -3.29053665e-01, -1.05111811e-01, -2.65164890e-01,\n",
       "       -1.66899069e+00,  2.97717342e-01, -7.35691466e-01,  2.87838841e-02,\n",
       "        9.67483039e-01, -3.08226633e-01, -1.82030515e-01, -3.44410168e-01,\n",
       "        8.22804397e-01, -1.69760805e+00, -2.90359998e-02, -1.01426829e-01,\n",
       "       -5.90567371e-01, -3.20421167e-01, -1.99513154e-01, -5.30865019e-01,\n",
       "        1.71911772e+00,  1.89734127e-01,  2.59225404e-01,  2.35984409e-01,\n",
       "        3.85346898e-02,  4.39861583e-01, -8.11434015e-01, -1.44370975e-01,\n",
       "        2.20174219e-01,  4.08944521e-02, -5.99838893e-01,  5.79178952e-01,\n",
       "       -3.37719829e-01,  3.51364508e-02,  1.96392452e+00,  1.10888666e-01,\n",
       "       -2.10395181e-01, -3.51939415e-01, -3.68506049e-01, -9.28724498e-02,\n",
       "        6.93066323e-01,  6.69766216e-01, -1.23492662e+00,  9.73609070e-02,\n",
       "       -3.19001416e-01,  9.99703857e-02, -7.87868615e-01,  1.42839623e+00,\n",
       "       -4.93406417e-01, -6.08255638e-01, -1.81456589e+00,  2.32246952e-01,\n",
       "       -1.59277353e-01,  1.58337684e+00, -5.92377615e-01, -2.54312484e-01,\n",
       "       -2.25142751e+00,  3.36285760e-01, -9.60145621e-01, -6.00786846e-01,\n",
       "        5.88886311e-01, -7.80666746e-01,  5.94675444e-01, -1.72914531e-01,\n",
       "        1.91923170e-01, -4.11128245e-01,  1.24526572e-01,  4.81041031e-01,\n",
       "       -2.92567888e+00, -7.47595738e-01,  3.59713805e-01,  1.56203717e-02,\n",
       "        5.11312356e+00, -4.07391967e-02, -4.35514446e-01,  4.10243626e-01,\n",
       "       -3.53376096e-01,  2.05440681e-01,  2.59432705e-02,  2.03168776e-01,\n",
       "       -5.97062735e-01, -2.69063383e-01, -4.20542461e-01,  9.42224651e-01,\n",
       "        1.58800358e+00,  5.95852906e-01, -5.67572262e-01, -4.80355132e-01,\n",
       "        4.05408797e-01, -1.87880080e+00,  9.81009715e-01, -2.99690036e-02,\n",
       "        7.46637300e-01, -3.17991380e-01, -8.09363215e-01, -4.22778690e-01,\n",
       "        4.61235543e-02,  3.70760685e-01,  1.20078306e+00,  4.72426566e-01,\n",
       "       -5.78210502e-01,  7.61575172e-02,  6.38561687e-01, -6.47811587e-02,\n",
       "        4.25121616e-01, -3.95820582e-01,  5.28098529e-01,  6.22599489e-01,\n",
       "        1.11938135e+00,  3.25522410e-01,  5.64331391e-01,  3.47780460e-01,\n",
       "        3.50726871e-01, -5.31242493e-02, -5.92064975e-01,  3.89805510e-01,\n",
       "        8.68043037e-01, -6.82649819e-01,  4.81171832e-01, -8.78771559e-01,\n",
       "       -7.91331989e-02, -6.29182989e-01, -2.56849620e-01, -2.16888392e-01,\n",
       "        5.16277406e-01,  6.56414682e-01,  2.57965281e-02,  2.45337501e-01,\n",
       "       -9.64770914e-01,  1.27100643e-01,  2.98674953e-01,  3.57633211e-01,\n",
       "        2.26802501e-01, -7.00083794e-01,  1.18345895e-01,  1.85320103e-01,\n",
       "        4.56956906e-02, -7.36324705e-01,  3.56523422e-01,  3.38426364e-01,\n",
       "       -2.88783732e-01,  4.24867649e-01,  5.09989955e-01, -6.40600908e-01,\n",
       "       -6.85946923e-01,  4.33764123e-01,  6.53496358e-02,  1.03668695e+00,\n",
       "        2.14745446e-01, -3.86377335e+00,  9.84894148e-01, -1.39426608e-01,\n",
       "        2.40729851e-01, -2.88494033e+00, -1.62525049e+00, -7.29296658e-02,\n",
       "        2.06654560e-01, -4.05736804e-01,  7.31948241e-01, -8.11609098e-01,\n",
       "        1.03657787e+00,  1.81548952e-01, -8.38788950e-01, -1.54788102e-01,\n",
       "        2.17719718e-01,  1.68974566e-01, -5.44900170e-01, -1.94754942e-01,\n",
       "        6.59043906e-01, -3.33662013e-01,  4.73737248e-01,  1.40434652e-01,\n",
       "       -4.47096378e-01, -2.29270930e-01,  1.66091162e+00,  1.39953287e-01,\n",
       "        1.85114827e-01,  7.63957257e-01,  7.15890151e-01,  1.55076731e+00,\n",
       "       -9.05009746e-01,  7.53520181e-02, -9.34346827e-02, -1.54154420e+00,\n",
       "        3.03355197e-01, -5.99093981e-01,  4.62098898e-01, -1.07267086e-01,\n",
       "       -5.04801162e-01,  1.24626715e+00,  1.17926455e+00, -2.14660064e+00,\n",
       "        9.51272776e-02, -3.44211444e-01, -1.83823713e-01,  3.10389999e-01,\n",
       "        4.39224678e-01, -2.14773554e-01, -3.94968625e-01, -7.31428211e-01,\n",
       "        5.75260927e-01, -6.62024414e-01, -4.80357094e-01,  1.48897743e+00,\n",
       "       -1.17937242e+00, -1.38076246e+00, -4.18611819e-01, -3.83048662e-01,\n",
       "       -1.50844622e+00,  1.28748932e-01, -2.27921386e-01, -1.31132110e+00,\n",
       "        7.79643727e-01,  4.00248364e-01,  3.68421241e-01,  2.15628674e+00,\n",
       "        5.00706383e-02,  5.13374380e-01,  1.79757455e-01, -2.62164270e-01,\n",
       "        3.82825039e+00, -1.11923125e+00,  4.33537495e-03,  1.64420335e-01,\n",
       "       -1.00442493e-01,  7.17993681e-01,  1.05846288e+00,  6.07125143e-01,\n",
       "       -2.82222265e-01,  9.07314291e-01,  3.85712231e-01, -1.18800457e+00,\n",
       "       -1.41672020e+00, -5.17253873e-01,  8.40505170e-02,  1.96567317e-01,\n",
       "        1.96960326e-01, -6.01838070e-01,  2.79988140e-01, -3.33303621e-01,\n",
       "       -9.00204460e-01,  6.18024520e-01, -5.00033472e-01,  8.06835491e-01,\n",
       "       -3.60935892e-01, -3.99575283e-01,  7.28857953e-01,  5.97605575e-01,\n",
       "       -5.69691583e-01, -4.62069858e-01, -4.94542162e-01, -4.24279748e-01,\n",
       "       -1.08423141e-02, -2.82573606e-01,  3.07930112e-01, -9.55000277e-02,\n",
       "       -1.49777959e-01, -4.61715190e-01,  1.02949099e+00,  4.85643374e-01,\n",
       "       -1.67631776e-01,  7.21372376e-01,  3.15071747e-02,  4.56649577e-02,\n",
       "       -1.17574050e+00, -2.07633700e-02, -2.16239400e-01, -1.33711755e+00,\n",
       "       -6.83816275e-01, -5.11131927e-01,  1.18663040e-01,  3.24332495e-01,\n",
       "        5.25006145e-01, -1.97397706e+00, -8.04675807e-01,  8.94958254e-01,\n",
       "        3.07365366e-01,  4.55723501e-01, -2.03996293e-01,  3.95622298e-01,\n",
       "        1.57529103e-01,  1.96480826e-01, -6.59453619e-02,  1.14315525e+00,\n",
       "       -3.19759827e-01, -4.59979777e-01, -3.28294441e-01,  9.95479744e-01,\n",
       "       -2.37594988e+00, -4.45391250e-01, -7.28854942e-01,  4.51841040e-01,\n",
       "       -1.04143170e-01, -2.26718515e+00, -1.24767362e-01,  2.52462813e-01,\n",
       "       -1.81137346e-01, -1.14675190e+00, -1.77558213e+00, -1.49898930e+00,\n",
       "       -1.05304619e+00,  4.53436195e-01, -6.90972941e-01, -6.93168813e-01,\n",
       "       -1.17102393e+00, -1.98798525e+00, -3.54743736e-02, -1.25661333e+00,\n",
       "       -8.18832014e-01,  2.83802544e-01,  1.11393169e+00,  2.14471843e-01,\n",
       "        1.67728976e+00, -5.79730618e-01, -1.08174679e+00,  2.30008588e-01,\n",
       "       -2.30080341e-02, -9.48702333e-02,  8.47822650e-02,  5.31940992e-01,\n",
       "       -2.48283815e+00, -7.26557284e-01,  2.58835604e-01,  5.06348017e-01,\n",
       "        1.35934464e-01, -1.23147324e-01,  4.78558431e-01, -7.77514256e-01,\n",
       "        5.26805328e-01, -1.48756678e+00, -3.20531995e-01,  5.20996866e-02,\n",
       "        7.87384688e-01,  1.09736573e+00, -5.36786624e-02, -4.48034079e-01,\n",
       "        4.23054888e-02, -2.98844642e-01, -4.00168357e-01, -1.91017363e+00,\n",
       "        8.93681140e-02,  3.80665810e-01, -4.49300814e-01,  5.87173060e-01,\n",
       "       -3.47476085e-01,  9.14345647e-01, -7.42856856e-01, -2.24965335e-01,\n",
       "       -1.36006993e+00,  4.39599803e-01, -2.44126852e-01,  1.95167402e-01,\n",
       "        1.03305632e+00,  2.62210089e-01, -5.90435495e-01, -1.24195567e+00,\n",
       "       -3.80521996e-01, -2.63865733e-01, -6.46715858e-02,  4.55375860e-01,\n",
       "       -3.40000557e-01, -2.13483003e-01, -4.76912216e-01, -4.05846992e-01,\n",
       "       -8.32096801e-01, -3.12289822e-01, -7.53989149e-03, -1.38992918e+00,\n",
       "       -8.04875371e-01,  2.68408908e-01, -1.31124317e-01,  8.56502034e-02,\n",
       "       -6.97026796e+00, -3.35531760e-01, -5.80693818e-01,  4.71431616e-01,\n",
       "       -1.40410013e+00,  4.31701913e-01,  1.48256710e-01, -5.23595702e-01,\n",
       "        1.72717041e+00,  1.24721720e-01,  7.07319054e-01,  5.63740102e-01,\n",
       "       -1.18587740e-01, -2.77710129e-01, -1.94212742e+00, -4.92339204e-01,\n",
       "        1.03261627e-01,  1.21208268e-01, -1.78594984e+00, -4.64412173e-02,\n",
       "        5.09618195e-01, -1.94504928e-01, -6.37761791e-01, -7.37899601e-01,\n",
       "        1.03572336e+00,  1.01001525e+00,  2.23883322e-02,  3.71583489e-01,\n",
       "        2.14958313e-01,  8.29345225e-01,  1.88536782e-03, -2.24293657e+00,\n",
       "       -2.79410624e-01, -2.92482827e+00,  1.83126737e-01,  7.62953931e-01,\n",
       "       -1.12535337e+00, -4.09607549e-01,  1.41449750e+00, -2.43559068e-01,\n",
       "        6.87803801e-01, -1.35499912e-01, -8.56005858e-01, -8.22249749e-02,\n",
       "        1.31152688e+00, -4.88938584e-01, -8.20588216e-01,  5.20509708e-01,\n",
       "       -3.29680526e-01,  5.15845125e-01,  2.24306057e-01,  2.02794251e-01,\n",
       "        3.40703252e-01, -1.96732902e-02,  4.90043915e-02,  5.71056181e-01,\n",
       "       -1.10315866e+00, -3.57004880e-01, -2.90581805e-01,  3.22401886e-01,\n",
       "        9.53713794e-02,  1.72495763e-01,  7.58490738e-01,  8.01050649e-01,\n",
       "       -3.94087934e-01, -8.77513695e-01, -4.35462466e-01,  1.06245754e+00,\n",
       "        6.59609945e-02, -2.63218812e-01,  2.96374676e-01, -2.38501840e-01,\n",
       "        7.00848104e-01, -6.37119902e-01,  2.01185598e-02,  4.22537216e-01,\n",
       "        1.16866939e-01, -1.99256428e-01, -2.49668684e+00,  7.77032026e-01,\n",
       "       -5.73876175e-01, -3.64925062e-01,  6.79945732e-01,  5.52403362e-01,\n",
       "       -1.06263834e-01, -1.98412408e+00,  5.77682619e-01, -2.53790082e-01,\n",
       "        6.04443033e-01,  4.12059191e-01, -1.24648798e+00,  1.69731212e+00,\n",
       "       -1.00789660e-01, -2.56310835e-01,  2.37269975e-01,  8.90418836e-04,\n",
       "       -1.11021182e+00, -4.22899035e-01,  3.60754841e-01,  2.36711839e-02,\n",
       "       -4.08201878e-01,  6.52633004e-01, -4.33968839e-01,  2.80960709e-01,\n",
       "       -8.95959566e-02,  3.85230856e+00, -2.27430409e-01,  1.76611374e-01,\n",
       "       -7.92873081e-01,  9.58904117e-01,  1.22043581e-01, -9.88634557e-01,\n",
       "        5.31853229e-02, -1.54250734e+00, -3.43210480e-01, -8.21953597e-01,\n",
       "        8.81406889e-02,  1.08444503e+00,  4.41890751e-01,  4.64368592e-01,\n",
       "        1.44694663e+00,  9.12715408e-01,  4.67691687e-01, -3.31784663e-02,\n",
       "        4.50154362e-01, -3.02791896e-01, -2.27970180e-01, -3.19842963e-01,\n",
       "        6.78606455e-01, -1.39107528e+00, -6.38172499e-01,  6.92012526e-01,\n",
       "       -4.31152139e-01,  9.63072091e-01, -2.37006354e-01, -5.64034862e-02,\n",
       "        9.86357928e-02,  3.42905690e-02, -9.67771117e-02,  1.39748141e-01,\n",
       "       -1.71230339e+00,  1.06911698e+00,  2.71095804e-01,  3.17187211e-01,\n",
       "       -2.55263857e-01, -9.42276888e-01,  7.14928377e-02, -4.83003123e-01,\n",
       "        2.96138781e-01, -6.08128954e-01,  3.58523017e-01,  4.50384008e-01,\n",
       "        4.28602493e-01, -6.72871070e-01, -7.47762996e-01,  3.31894773e-01,\n",
       "        5.97871353e-01, -2.18076927e-01,  4.87798948e-01,  5.12984012e-01,\n",
       "       -5.76110241e-01, -1.11127105e+00, -3.83715795e-01,  3.23062472e-01,\n",
       "       -2.80707500e+00,  3.43520287e-01, -1.07106592e+00,  4.02042845e-01,\n",
       "       -4.82253136e-01, -3.93976557e-01, -1.40805333e+00,  4.94284713e-01,\n",
       "       -4.37016890e-01, -5.56573663e-01, -3.68346266e-01, -2.56903695e-01,\n",
       "       -3.02327158e-01, -1.20416223e-01, -1.03111555e+00,  6.41260827e-01,\n",
       "        5.86510459e-01,  2.23292159e-01, -4.27172261e-01,  4.76168245e-02,\n",
       "       -5.90501005e-01,  1.16321479e+00,  2.53418046e-01, -1.31108105e-01,\n",
       "        1.60988016e-01,  2.58215874e-01,  7.15212362e-01, -8.49528273e-01,\n",
       "        3.83517314e-01,  5.48762000e-01, -3.23813020e-02, -5.82509431e-01,\n",
       "        3.39367390e-01,  1.71226001e+00, -5.07167687e-01, -1.12783841e+00,\n",
       "        5.21037505e-01,  3.50038398e-02,  2.07348354e-01,  2.46362219e-01,\n",
       "       -7.48491287e-01, -3.89883173e-01,  4.59835879e+00, -1.37598250e-01,\n",
       "        2.40962174e-02, -1.89762948e-01,  6.89015420e-01, -6.38054822e-02,\n",
       "       -2.70319438e+00, -6.27681010e-01, -3.65419318e-01,  3.91374768e-01,\n",
       "        6.75436462e-01, -1.57738998e+00, -3.36597433e+00,  9.69377496e-02,\n",
       "        2.06760520e-01, -1.09636879e+00, -5.53691980e-01, -3.76905421e-02,\n",
       "        7.93980003e-01,  1.16736491e-02,  1.07617325e+00, -1.13860231e+00,\n",
       "       -1.78870378e+00,  1.14825365e+00, -4.07213891e-01,  9.14307521e-02,\n",
       "       -5.50259603e-01,  2.76722032e-01,  3.16221223e-01,  4.60728017e-01,\n",
       "        1.44680866e+00,  6.98067150e-02, -5.58960525e-01,  1.29860218e-01,\n",
       "        5.55275530e-01,  4.05386501e-01,  1.45886958e-01,  1.71883669e-01,\n",
       "       -1.59514691e-01,  2.99114680e-01,  3.29438403e-01,  2.65359562e-01,\n",
       "        5.73377264e-01,  8.23629500e-01,  1.16522764e-01,  4.53890920e-01,\n",
       "       -7.71454212e-01, -2.11154350e-01,  1.31507811e+00, -7.11573378e-01,\n",
       "       -1.26179243e-01,  2.42502000e-01,  1.83843722e-01,  7.79428437e-02,\n",
       "       -9.26119348e-01, -2.26387893e+00,  2.54190144e-01,  3.00430215e-02,\n",
       "       -1.18765349e+00, -3.69413506e-02, -1.93456530e-02, -4.49666444e-01,\n",
       "        1.00681115e-01,  4.93907382e-01, -5.84992019e-01,  2.63896931e-01,\n",
       "        4.16800429e-01,  4.74769385e-02, -4.83061641e-02,  1.84552886e+00,\n",
       "       -2.27423104e+00, -8.59369569e-02,  4.16406011e-02,  4.15281286e-01,\n",
       "        8.16853816e-02,  3.61578191e-02, -3.07222519e+00, -3.89968909e-01,\n",
       "        4.20425850e-01,  3.35357078e+00, -2.04722050e-01, -6.38571116e-02,\n",
       "        1.05000384e-01,  5.39064521e-01,  1.09558311e-01,  1.51897725e-01,\n",
       "        9.79970641e-01,  5.43751814e-01, -5.15018336e-01,  5.38926226e-01,\n",
       "        5.45521580e-02,  1.03894385e+00,  1.00706618e-01, -4.39682361e-01,\n",
       "       -1.19636312e+00, -1.81178920e+00, -5.19419347e-01,  4.82534627e-01,\n",
       "        1.18649687e+00,  1.40725478e-01, -5.99213891e-03,  4.39504226e-01,\n",
       "        3.65344816e-01,  1.37342698e-01, -1.91854412e-01, -1.16304182e+00,\n",
       "       -6.57271580e-01,  1.80027830e-01,  8.52391410e-01,  2.23176347e-01,\n",
       "       -1.39348481e-01, -3.13418257e-02,  3.64013059e-01, -2.66509101e-01,\n",
       "        7.69968992e-01,  3.39896982e-01, -1.14049876e-01,  4.49892475e-02,\n",
       "       -6.94295357e-01,  2.77025133e-01, -1.30358284e+00, -2.04645737e-01,\n",
       "       -5.27114978e-02,  3.19175461e-01, -8.95597085e-01, -1.39145385e-01,\n",
       "        1.12797836e+00,  2.05191936e-01, -9.33138952e-01, -2.32193853e-01,\n",
       "       -1.10887119e+00, -6.84968842e-01,  1.62212533e+00, -4.35538377e+00,\n",
       "       -3.24550628e-01, -1.61916480e-01,  1.06406382e+00,  3.02585893e-01,\n",
       "       -1.53575775e+00, -3.91420015e-01,  1.28342494e+00, -1.67161311e+00,\n",
       "       -2.96819634e-01, -4.83236799e-01, -1.46522769e-01, -5.08612126e-01,\n",
       "        3.43860822e-01, -2.95779736e-01,  2.79137145e-01,  1.87752978e+00,\n",
       "        7.84580675e-01,  1.10169091e+00,  6.76636923e-02,  6.53215372e-01,\n",
       "        1.91289882e-01,  2.47926138e-01, -6.63936124e-02, -3.48047642e+00,\n",
       "        6.49728819e-01, -6.14918068e-01, -3.04001873e-01, -9.83276451e-01,\n",
       "        1.76682187e-01, -1.84491201e-01, -1.42027432e+00,  7.67011354e-01,\n",
       "       -1.47770507e-01,  3.66557444e-01, -6.45276138e-01, -6.58866105e-01,\n",
       "       -6.17689525e-01, -1.44704855e-01, -7.85206704e-01, -3.13228567e-01,\n",
       "       -9.98336961e-01,  2.67082081e-01,  6.05834378e-01,  7.34140250e-01,\n",
       "        1.32468909e+00, -8.01370968e-01, -1.38722819e-01,  5.67469706e-01,\n",
       "       -4.36176566e-01, -4.84800798e+00,  2.14043960e-01,  2.69398882e-01,\n",
       "       -1.53588340e+00,  4.19985043e-02,  7.61598477e-01,  2.88940805e-04,\n",
       "       -2.16648718e-01, -7.09162094e-01,  2.00487693e+00, -3.28433498e-01,\n",
       "        5.22565028e-01,  1.19779982e-01, -5.33455627e-01,  1.53521041e+00,\n",
       "       -2.74112637e+00,  4.57831218e-01, -8.80565936e-01, -3.62185063e+00,\n",
       "        4.35037927e-01, -8.11011294e-01,  1.85171761e-01, -1.18609780e+00,\n",
       "        6.59533391e-01, -8.49544791e-02,  3.64271615e-01,  8.23583456e-01,\n",
       "       -7.02541897e-01, -2.85230210e+00, -9.36170340e-01,  6.84254903e-01,\n",
       "       -5.48262186e-01,  5.86915533e-02,  2.20262927e-01, -3.95207107e-01,\n",
       "       -4.95732040e-01, -3.69170252e-01,  3.98474346e-01, -4.21441525e-01,\n",
       "        6.92309479e-01, -6.24810625e-01,  9.71264077e-01,  9.84771104e-02,\n",
       "        3.89811299e-01, -5.94448937e-01,  1.06630288e-01, -4.79770933e-01,\n",
       "        1.55667507e-02, -6.75017150e-01, -5.50793902e-01,  9.38622830e-02,\n",
       "        5.49069763e-01, -6.64684236e-02, -2.29912083e-01,  1.29068656e+00,\n",
       "        6.18194124e-01, -1.86240841e-01,  3.63524505e-01, -9.82477009e-01,\n",
       "        4.02626239e-02,  5.51159411e-01, -1.30881433e-01,  6.95144594e-01,\n",
       "       -4.19782078e-01, -1.53720927e+00, -1.78534863e-01, -5.99783276e-01,\n",
       "       -1.12031604e+00, -8.71457600e-02, -8.98568729e-02, -6.52056626e-01,\n",
       "       -3.23878882e+00, -5.51096600e-01,  2.12703667e-01, -6.17384171e-01])"
      ]
     },
     "execution_count": 39,
     "metadata": {},
     "output_type": "execute_result"
    }
   ],
   "source": [
    "gaussian_process.predict(X)"
   ]
  },
  {
   "cell_type": "code",
   "execution_count": 38,
   "id": "50c1a1cd",
   "metadata": {},
   "outputs": [
    {
     "data": {
      "text/plain": [
       "5933   -0.528917\n",
       "5934    0.505017\n",
       "5935   -0.411539\n",
       "5936   -2.033929\n",
       "5937    0.340026\n",
       "          ...   \n",
       "6904   -0.652057\n",
       "6905   -3.238789\n",
       "6906   -0.551097\n",
       "6907    0.212704\n",
       "6908   -0.617384\n",
       "Name: target_w, Length: 976, dtype: float64"
      ]
     },
     "execution_count": 38,
     "metadata": {},
     "output_type": "execute_result"
    }
   ],
   "source": [
    "y"
   ]
  },
  {
   "cell_type": "markdown",
   "id": "20c36297",
   "metadata": {},
   "source": [
    "# targets not orthogonal"
   ]
  },
  {
   "cell_type": "code",
   "execution_count": null,
   "id": "4cea9f6c",
   "metadata": {},
   "outputs": [],
   "source": []
  },
  {
   "cell_type": "code",
   "execution_count": null,
   "id": "f69264cc",
   "metadata": {},
   "outputs": [],
   "source": []
  },
  {
   "cell_type": "markdown",
   "id": "70709e39-bec7-4b30-b904-2364362b8d2c",
   "metadata": {
    "tags": []
   },
   "source": [
    "# Train-test split"
   ]
  },
  {
   "cell_type": "code",
   "execution_count": 26,
   "id": "5176c052",
   "metadata": {},
   "outputs": [],
   "source": [
    "moons = X_df.date.unique()"
   ]
  },
  {
   "cell_type": "code",
   "execution_count": 1269,
   "id": "033138d1",
   "metadata": {},
   "outputs": [],
   "source": [
    "moon_train = moons[:230] \n",
    "moon_test = moons[260:]"
   ]
  },
  {
   "cell_type": "markdown",
   "id": "38bbd469",
   "metadata": {},
   "source": [
    "# Define loss function"
   ]
  },
  {
   "cell_type": "code",
   "execution_count": 1247,
   "id": "190e82a5",
   "metadata": {},
   "outputs": [],
   "source": [
    "import torch\n",
    "import numpy as np\n",
    "import pandas as pd\n",
    "import torch.nn as nn\n",
    "from tqdm import tqdm"
   ]
  },
  {
   "cell_type": "code",
   "execution_count": 1248,
   "id": "5e1d8455",
   "metadata": {},
   "outputs": [],
   "source": [
    "error_lis_mse = []\n",
    "error_lis_orth = []\n",
    "error_lis_combined = []\n",
    "loss_mse = nn.MSELoss()"
   ]
  },
  {
   "cell_type": "code",
   "execution_count": 1249,
   "id": "78e06099",
   "metadata": {},
   "outputs": [],
   "source": [
    "def custom_loss2(y_pred, y_true, b_moon):\n",
    "    Omega = torch.eye(len(y_true)) - torch.mm(b_moon, torch.pinverse(b_moon))\n",
    "    z_hat = torch.mm(Omega, y_pred)\n",
    "    \n",
    "    error = torch.linalg.norm(z_hat - y_true)/len(y_true)    \n",
    "    return error"
   ]
  },
  {
   "cell_type": "code",
   "execution_count": 1250,
   "id": "82e55605",
   "metadata": {},
   "outputs": [],
   "source": [
    "def custom_loss3(y_pred, y_true, omega_moon):\n",
    "    error1 = loss_mse(y_pred, y_true) /len(y_true)    \n",
    "    error2 = loss_mse(torch.zeros(b_moon.shape[1], 1), torch.mm(omega_moon, y_pred))/len(y_true)/torch.linalg.norm(y_pred)\n",
    "    error = error1 + error2 \n",
    "    error_lis_mse.append(error1.item())\n",
    "    error_lis_orth.append(error2.item())\n",
    "    error_lis_combined.append(error.item())    \n",
    "    return error"
   ]
  },
  {
   "cell_type": "markdown",
   "id": "8f3858b4-2797-451d-bde6-22d5bcaeaef8",
   "metadata": {
    "tags": []
   },
   "source": [
    "# Train model and predict"
   ]
  },
  {
   "cell_type": "code",
   "execution_count": 1251,
   "id": "57f615fa-40d3-4105-9df4-6bba9633f656",
   "metadata": {},
   "outputs": [],
   "source": [
    "# As this notebook shows a simple linear model, there is no need to introduce validation data, i.e. \n",
    "# the training is deterministic and only one epoch is necessary to perform it.\n",
    "# Nevertheless, this section should train such that the validation loss is minimized."
   ]
  },
  {
   "cell_type": "code",
   "execution_count": 1254,
   "id": "1571a985",
   "metadata": {},
   "outputs": [],
   "source": [
    "class RegressionModel(torch.nn.Module):\n",
    "    def __init__(self, input_size, hidden_size, output_size):\n",
    "        super(RegressionModel, self).__init__()\n",
    "        self.layers = torch.nn.Sequential(\n",
    "            # torch.nn.Linear(input_size, hidden_size),\n",
    "            # torch.nn.Dropout(p=0.3),\n",
    "            # torch.nn.ReLU(),\n",
    "            torch.nn.Linear(input_size, output_size)\n",
    "        )\n",
    "\n",
    "    def forward(self, x):\n",
    "        return self.layers(x)"
   ]
  },
  {
   "cell_type": "code",
   "execution_count": 1255,
   "id": "64efbd0f",
   "metadata": {},
   "outputs": [],
   "source": [
    "# Create an instance of the model\n",
    "model = RegressionModel(input_size=160, hidden_size=2, output_size=1)\n",
    "\n",
    "# Define the optimizer\n",
    "optimizer = torch.optim.Adam(model.parameters())\n",
    "\n",
    "# train model for x epochs using custom loss function\n",
    "num_epochs = 10"
   ]
  },
  {
   "cell_type": "code",
   "execution_count": 1256,
   "id": "c9fc2162",
   "metadata": {},
   "outputs": [
    {
     "name": "stderr",
     "output_type": "stream",
     "text": [
      "  0%|          | 0/10 [00:00<?, ?it/s]"
     ]
    },
    {
     "name": "stdout",
     "output_type": "stream",
     "text": [
      "Epoch 1\n"
     ]
    },
    {
     "name": "stderr",
     "output_type": "stream",
     "text": [
      " 10%|█         | 1/10 [00:00<00:08,  1.01it/s]"
     ]
    },
    {
     "name": "stdout",
     "output_type": "stream",
     "text": [
      "Epoch [1/10], Loss: 0.0019578745\n",
      "Epoch 2\n"
     ]
    },
    {
     "name": "stderr",
     "output_type": "stream",
     "text": [
      " 20%|██        | 2/10 [00:02<00:08,  1.05s/it]"
     ]
    },
    {
     "name": "stdout",
     "output_type": "stream",
     "text": [
      "Epoch [2/10], Loss: 0.0019582552\n",
      "Epoch 3\n"
     ]
    },
    {
     "name": "stderr",
     "output_type": "stream",
     "text": [
      " 30%|███       | 3/10 [00:03<00:07,  1.05s/it]"
     ]
    },
    {
     "name": "stdout",
     "output_type": "stream",
     "text": [
      "Epoch [3/10], Loss: 0.0019583516\n",
      "Epoch 4\n"
     ]
    },
    {
     "name": "stderr",
     "output_type": "stream",
     "text": [
      " 40%|████      | 4/10 [00:04<00:06,  1.04s/it]"
     ]
    },
    {
     "name": "stdout",
     "output_type": "stream",
     "text": [
      "Epoch [4/10], Loss: 0.0019583998\n",
      "Epoch 5\n"
     ]
    },
    {
     "name": "stderr",
     "output_type": "stream",
     "text": [
      " 50%|█████     | 5/10 [00:05<00:05,  1.04s/it]"
     ]
    },
    {
     "name": "stdout",
     "output_type": "stream",
     "text": [
      "Epoch [5/10], Loss: 0.0019584310\n",
      "Epoch 6\n"
     ]
    },
    {
     "name": "stderr",
     "output_type": "stream",
     "text": [
      " 60%|██████    | 6/10 [00:06<00:04,  1.04s/it]"
     ]
    },
    {
     "name": "stdout",
     "output_type": "stream",
     "text": [
      "Epoch [6/10], Loss: 0.0019584531\n",
      "Epoch 7\n"
     ]
    },
    {
     "name": "stderr",
     "output_type": "stream",
     "text": [
      " 70%|███████   | 7/10 [00:07<00:03,  1.03s/it]"
     ]
    },
    {
     "name": "stdout",
     "output_type": "stream",
     "text": [
      "Epoch [7/10], Loss: 0.0019584671\n",
      "Epoch 8\n"
     ]
    },
    {
     "name": "stderr",
     "output_type": "stream",
     "text": [
      " 80%|████████  | 8/10 [00:08<00:02,  1.03s/it]"
     ]
    },
    {
     "name": "stdout",
     "output_type": "stream",
     "text": [
      "Epoch [8/10], Loss: 0.0019584906\n",
      "Epoch 9\n"
     ]
    },
    {
     "name": "stderr",
     "output_type": "stream",
     "text": [
      " 90%|█████████ | 9/10 [00:09<00:01,  1.03s/it]"
     ]
    },
    {
     "name": "stdout",
     "output_type": "stream",
     "text": [
      "Epoch [9/10], Loss: 0.0019585034\n",
      "Epoch 10\n"
     ]
    },
    {
     "name": "stderr",
     "output_type": "stream",
     "text": [
      "100%|██████████| 10/10 [00:10<00:00,  1.03s/it]"
     ]
    },
    {
     "name": "stdout",
     "output_type": "stream",
     "text": [
      "Epoch [10/10], Loss: 0.0019585034\n"
     ]
    },
    {
     "name": "stderr",
     "output_type": "stream",
     "text": [
      "\n"
     ]
    }
   ],
   "source": [
    "for i in tqdm(range(num_epochs)):\n",
    "    print(f\"Epoch {i+1}\")\n",
    "    # create minibatch of data\n",
    "    for moon in moons[:230]:\n",
    "        X_moon = torch.from_numpy(X_df[X_df.date == moon].drop(columns=[\"date\"]).values).to(torch.float32)\n",
    "        y_moon = torch.from_numpy(y_df[X_df.date == moon].values.reshape(-1,1)).to(torch.float32)\n",
    "        omega_moon = torch.from_numpy(B[X_df.date == moon].drop(columns=[\"date\"]).values.T).to(torch.float32)\n",
    "        y_pred = model(X_moon)\n",
    "        loss = custom_loss3(y_pred, y_moon, omega_moon)\n",
    "\n",
    "        # Backward pass and optimization\n",
    "        optimizer.zero_grad()\n",
    "        loss.backward()\n",
    "        optimizer.step()\n",
    "        \n",
    "    # Print the loss every epoch\n",
    "    if (i + 1) % 1 == 0:\n",
    "        print('Epoch [{}/{}], Loss: {:.10f}'.format(i+1, num_epochs, loss.item()))"
   ]
  },
  {
   "cell_type": "code",
   "execution_count": 1257,
   "id": "4dfb503f",
   "metadata": {},
   "outputs": [
    {
     "data": {
      "text/plain": [
       "[<matplotlib.lines.Line2D at 0x7f77630a7bb0>]"
      ]
     },
     "execution_count": 1257,
     "metadata": {},
     "output_type": "execute_result"
    },
    {
     "data": {
      "image/png": "[encoded data removed]",
      "text/plain": [
       "<Figure size 432x288 with 1 Axes>"
      ]
     },
     "metadata": {
      "needs_background": "light"
     },
     "output_type": "display_data"
    }
   ],
   "source": [
    "plt.semilogy(error_lis_mse)"
   ]
  },
  {
   "cell_type": "code",
   "execution_count": 1258,
   "id": "65626707-922b-45e0-8cc5-bc788a2b5b49",
   "metadata": {},
   "outputs": [
    {
     "data": {
      "text/plain": [
       "[<matplotlib.lines.Line2D at 0x7f7762f42e20>]"
      ]
     },
     "execution_count": 1258,
     "metadata": {},
     "output_type": "execute_result"
    },
    {
     "data": {
      "image/png": "[encoded data removed]",
      "text/plain": [
       "<Figure size 432x288 with 1 Axes>"
      ]
     },
     "metadata": {
      "needs_background": "light"
     },
     "output_type": "display_data"
    }
   ],
   "source": [
    "plt.semilogy(error_lis_orth)"
   ]
  },
  {
   "cell_type": "code",
   "execution_count": 1259,
   "id": "bd7b0479",
   "metadata": {},
   "outputs": [],
   "source": [
    "epoch_loss = []\n",
    "epoch_loss_mse = []\n",
    "epoch_loss_orth = []\n",
    "for i in range(num_epochs - 1):\n",
    "    epoch_loss.append(sum(error_lis_combined[230*i:230*(i+1)]))\n",
    "    epoch_loss_mse.append(sum(error_lis_mse[230*i:230*(i+1)]))\n",
    "    epoch_loss_orth.append(sum(error_lis_mse[230*i:230*(i+1)]))"
   ]
  },
  {
   "cell_type": "code",
   "execution_count": 1260,
   "id": "33f5fbf5",
   "metadata": {},
   "outputs": [
    {
     "data": {
      "text/plain": [
       "(0.24426404730184004, 0.2434732907859143, 0.2434732907859143)"
      ]
     },
     "execution_count": 1260,
     "metadata": {},
     "output_type": "execute_result"
    }
   ],
   "source": [
    "epoch_loss[0], epoch_loss_mse[0], epoch_loss_orth[0]"
   ]
  },
  {
   "cell_type": "code",
   "execution_count": 1261,
   "id": "6ce3c7df",
   "metadata": {},
   "outputs": [
    {
     "data": {
      "text/plain": [
       "[<matplotlib.lines.Line2D at 0x7f7762fcc070>]"
      ]
     },
     "execution_count": 1261,
     "metadata": {},
     "output_type": "execute_result"
    },
    {
     "data": {
      "image/png": "[encoded data removed]",
      "text/plain": [
       "<Figure size 432x288 with 1 Axes>"
      ]
     },
     "metadata": {
      "needs_background": "light"
     },
     "output_type": "display_data"
    }
   ],
   "source": [
    "plt.semilogy(epoch_loss)"
   ]
  },
  {
   "cell_type": "code",
   "execution_count": 1262,
   "id": "4572f213-2a43-42c4-9adb-387442a003d7",
   "metadata": {},
   "outputs": [],
   "source": [
    "y_hat =  model(torch.from_numpy(X_df[X_df.date > moons[260]].drop(columns=[\"date\"]).values).to(torch.float32)).detach().numpy()"
   ]
  },
  {
   "cell_type": "code",
   "execution_count": 1263,
   "id": "99dd01e5",
   "metadata": {},
   "outputs": [],
   "source": [
    "y_test = y_df[X_df.date > moons[260]].values.reshape(-1,1)"
   ]
  },
  {
   "cell_type": "code",
   "execution_count": 1264,
   "id": "fbe669a0-176c-4df3-9469-2753203103f1",
   "metadata": {},
   "outputs": [],
   "source": [
    "y_hat = y_hat.ravel()\n",
    "y_test = y_test.ravel()"
   ]
  },
  {
   "cell_type": "code",
   "execution_count": 1265,
   "id": "53f823db",
   "metadata": {},
   "outputs": [
    {
     "data": {
      "text/plain": [
       "((46376,), (46376,))"
      ]
     },
     "execution_count": 1265,
     "metadata": {},
     "output_type": "execute_result"
    }
   ],
   "source": [
    "y_hat.shape, y_test.shape"
   ]
  },
  {
   "cell_type": "code",
   "execution_count": 1266,
   "id": "16298f89-7d4f-4a82-bcfb-7ddd02349aff",
   "metadata": {},
   "outputs": [
    {
     "data": {
      "image/png": "[encoded data removed]",
      "text/plain": [
       "<Figure size 432x288 with 1 Axes>"
      ]
     },
     "metadata": {
      "needs_background": "light"
     },
     "output_type": "display_data"
    }
   ],
   "source": [
    "plt.hist(y_hat, bins=300)\n",
    "plt.show()"
   ]
  },
  {
   "cell_type": "code",
   "execution_count": 1267,
   "id": "a1814599-6022-4bcd-bdb6-ce33a946634b",
   "metadata": {},
   "outputs": [
    {
     "data": {
      "image/png": "[encoded data removed]",
      "text/plain": [
       "<Figure size 432x288 with 1 Axes>"
      ]
     },
     "metadata": {
      "needs_background": "light"
     },
     "output_type": "display_data"
    }
   ],
   "source": [
    "plt.hist(y_test, bins=300)\n",
    "plt.show()"
   ]
  },
  {
   "cell_type": "markdown",
   "id": "fe33e9ff-4d10-46e8-8ba7-467b27a612ee",
   "metadata": {
    "tags": []
   },
   "source": [
    "# Scatter plot to show linear relation between Y and y_hat"
   ]
  },
  {
   "cell_type": "code",
   "execution_count": 1082,
   "id": "f99e2574-a73c-4336-89a3-9b2f813e0b1d",
   "metadata": {},
   "outputs": [],
   "source": [
    "from scipy.stats import linregress"
   ]
  },
  {
   "cell_type": "code",
   "execution_count": 1083,
   "id": "1493bddd-9d18-4efb-9cd9-65f50d91159d",
   "metadata": {
    "tags": []
   },
   "outputs": [
    {
     "data": {
      "image/png": "[encoded data removed]",
      "text/plain": [
       "<Figure size 432x288 with 1 Axes>"
      ]
     },
     "metadata": {
      "needs_background": "light"
     },
     "output_type": "display_data"
    }
   ],
   "source": [
    "slope, intercept, r_value, p_value, std_err = linregress(y_test, y_hat)\n",
    "plt.scatter(y_test, y_hat)\n",
    "plt.plot(y_test, slope * y_test + intercept,'r')\n",
    "plt.show()"
   ]
  },
  {
   "cell_type": "code",
   "execution_count": 1084,
   "id": "646df329-d79d-4c6d-b215-fd0d9fdbb54f",
   "metadata": {},
   "outputs": [],
   "source": [
    "y_hat_df = pd.DataFrame()\n",
    "y_hat_df['date'] = X_df[X_df['date'] > moons[260]].date\n",
    "y_hat_df['y_hat'] = y_hat\n",
    "y_hat_df['Y'] = y_test"
   ]
  },
  {
   "cell_type": "code",
   "execution_count": 1085,
   "id": "9c552192-2e5b-4724-aaef-c05012a343bb",
   "metadata": {},
   "outputs": [
    {
     "data": {
      "text/html": [
       "<div>\n",
       "<style scoped>\n",
       "    .dataframe tbody tr th:only-of-type {\n",
       "        vertical-align: middle;\n",
       "    }\n",
       "\n",
       "    .dataframe tbody tr th {\n",
       "        vertical-align: top;\n",
       "    }\n",
       "\n",
       "    .dataframe thead th {\n",
       "        text-align: right;\n",
       "    }\n",
       "</style>\n",
       "<table border=\"1\" class=\"dataframe\">\n",
       "  <thead>\n",
       "    <tr style=\"text-align: right;\">\n",
       "      <th></th>\n",
       "      <th>date</th>\n",
       "      <th>y_hat</th>\n",
       "      <th>Y</th>\n",
       "    </tr>\n",
       "  </thead>\n",
       "  <tbody>\n",
       "    <tr>\n",
       "      <th>264328</th>\n",
       "      <td>2021-06-16</td>\n",
       "      <td>2.589103</td>\n",
       "      <td>-0.010859</td>\n",
       "    </tr>\n",
       "    <tr>\n",
       "      <th>264329</th>\n",
       "      <td>2021-06-16</td>\n",
       "      <td>0.204929</td>\n",
       "      <td>-0.036569</td>\n",
       "    </tr>\n",
       "    <tr>\n",
       "      <th>264330</th>\n",
       "      <td>2021-06-16</td>\n",
       "      <td>1.296528</td>\n",
       "      <td>-0.005702</td>\n",
       "    </tr>\n",
       "    <tr>\n",
       "      <th>264331</th>\n",
       "      <td>2021-06-16</td>\n",
       "      <td>-0.121545</td>\n",
       "      <td>-0.017353</td>\n",
       "    </tr>\n",
       "    <tr>\n",
       "      <th>264332</th>\n",
       "      <td>2021-06-16</td>\n",
       "      <td>0.953924</td>\n",
       "      <td>-0.021563</td>\n",
       "    </tr>\n",
       "    <tr>\n",
       "      <th>...</th>\n",
       "      <td>...</td>\n",
       "      <td>...</td>\n",
       "      <td>...</td>\n",
       "    </tr>\n",
       "    <tr>\n",
       "      <th>310699</th>\n",
       "      <td>2022-04-27</td>\n",
       "      <td>0.730897</td>\n",
       "      <td>0.020271</td>\n",
       "    </tr>\n",
       "    <tr>\n",
       "      <th>310700</th>\n",
       "      <td>2022-04-27</td>\n",
       "      <td>1.092606</td>\n",
       "      <td>-0.023498</td>\n",
       "    </tr>\n",
       "    <tr>\n",
       "      <th>310701</th>\n",
       "      <td>2022-04-27</td>\n",
       "      <td>2.235324</td>\n",
       "      <td>0.007559</td>\n",
       "    </tr>\n",
       "    <tr>\n",
       "      <th>310702</th>\n",
       "      <td>2022-04-27</td>\n",
       "      <td>0.064444</td>\n",
       "      <td>-0.006418</td>\n",
       "    </tr>\n",
       "    <tr>\n",
       "      <th>310703</th>\n",
       "      <td>2022-04-27</td>\n",
       "      <td>-0.294153</td>\n",
       "      <td>0.014513</td>\n",
       "    </tr>\n",
       "  </tbody>\n",
       "</table>\n",
       "<p>46376 rows × 3 columns</p>\n",
       "</div>"
      ],
      "text/plain": [
       "             date     y_hat         Y\n",
       "264328 2021-06-16  2.589103 -0.010859\n",
       "264329 2021-06-16  0.204929 -0.036569\n",
       "264330 2021-06-16  1.296528 -0.005702\n",
       "264331 2021-06-16 -0.121545 -0.017353\n",
       "264332 2021-06-16  0.953924 -0.021563\n",
       "...           ...       ...       ...\n",
       "310699 2022-04-27  0.730897  0.020271\n",
       "310700 2022-04-27  1.092606 -0.023498\n",
       "310701 2022-04-27  2.235324  0.007559\n",
       "310702 2022-04-27  0.064444 -0.006418\n",
       "310703 2022-04-27 -0.294153  0.014513\n",
       "\n",
       "[46376 rows x 3 columns]"
      ]
     },
     "execution_count": 1085,
     "metadata": {},
     "output_type": "execute_result"
    }
   ],
   "source": [
    "y_hat_df # custom_fitenss"
   ]
  },
  {
   "cell_type": "code",
   "execution_count": 1086,
   "id": "53391264",
   "metadata": {},
   "outputs": [
    {
     "data": {
      "text/html": [
       "<div>\n",
       "<style scoped>\n",
       "    .dataframe tbody tr th:only-of-type {\n",
       "        vertical-align: middle;\n",
       "    }\n",
       "\n",
       "    .dataframe tbody tr th {\n",
       "        vertical-align: top;\n",
       "    }\n",
       "\n",
       "    .dataframe thead th {\n",
       "        text-align: right;\n",
       "    }\n",
       "</style>\n",
       "<table border=\"1\" class=\"dataframe\">\n",
       "  <thead>\n",
       "    <tr style=\"text-align: right;\">\n",
       "      <th></th>\n",
       "      <th>date</th>\n",
       "      <th>y_hat</th>\n",
       "      <th>Y</th>\n",
       "    </tr>\n",
       "  </thead>\n",
       "  <tbody>\n",
       "    <tr>\n",
       "      <th>264328</th>\n",
       "      <td>2021-06-16</td>\n",
       "      <td>2.589103</td>\n",
       "      <td>-0.010859</td>\n",
       "    </tr>\n",
       "    <tr>\n",
       "      <th>264329</th>\n",
       "      <td>2021-06-16</td>\n",
       "      <td>0.204929</td>\n",
       "      <td>-0.036569</td>\n",
       "    </tr>\n",
       "    <tr>\n",
       "      <th>264330</th>\n",
       "      <td>2021-06-16</td>\n",
       "      <td>1.296528</td>\n",
       "      <td>-0.005702</td>\n",
       "    </tr>\n",
       "    <tr>\n",
       "      <th>264331</th>\n",
       "      <td>2021-06-16</td>\n",
       "      <td>-0.121545</td>\n",
       "      <td>-0.017353</td>\n",
       "    </tr>\n",
       "    <tr>\n",
       "      <th>264332</th>\n",
       "      <td>2021-06-16</td>\n",
       "      <td>0.953924</td>\n",
       "      <td>-0.021563</td>\n",
       "    </tr>\n",
       "    <tr>\n",
       "      <th>...</th>\n",
       "      <td>...</td>\n",
       "      <td>...</td>\n",
       "      <td>...</td>\n",
       "    </tr>\n",
       "    <tr>\n",
       "      <th>310699</th>\n",
       "      <td>2022-04-27</td>\n",
       "      <td>0.730897</td>\n",
       "      <td>0.020271</td>\n",
       "    </tr>\n",
       "    <tr>\n",
       "      <th>310700</th>\n",
       "      <td>2022-04-27</td>\n",
       "      <td>1.092606</td>\n",
       "      <td>-0.023498</td>\n",
       "    </tr>\n",
       "    <tr>\n",
       "      <th>310701</th>\n",
       "      <td>2022-04-27</td>\n",
       "      <td>2.235324</td>\n",
       "      <td>0.007559</td>\n",
       "    </tr>\n",
       "    <tr>\n",
       "      <th>310702</th>\n",
       "      <td>2022-04-27</td>\n",
       "      <td>0.064444</td>\n",
       "      <td>-0.006418</td>\n",
       "    </tr>\n",
       "    <tr>\n",
       "      <th>310703</th>\n",
       "      <td>2022-04-27</td>\n",
       "      <td>-0.294153</td>\n",
       "      <td>0.014513</td>\n",
       "    </tr>\n",
       "  </tbody>\n",
       "</table>\n",
       "<p>46376 rows × 3 columns</p>\n",
       "</div>"
      ],
      "text/plain": [
       "             date     y_hat         Y\n",
       "264328 2021-06-16  2.589103 -0.010859\n",
       "264329 2021-06-16  0.204929 -0.036569\n",
       "264330 2021-06-16  1.296528 -0.005702\n",
       "264331 2021-06-16 -0.121545 -0.017353\n",
       "264332 2021-06-16  0.953924 -0.021563\n",
       "...           ...       ...       ...\n",
       "310699 2022-04-27  0.730897  0.020271\n",
       "310700 2022-04-27  1.092606 -0.023498\n",
       "310701 2022-04-27  2.235324  0.007559\n",
       "310702 2022-04-27  0.064444 -0.006418\n",
       "310703 2022-04-27 -0.294153  0.014513\n",
       "\n",
       "[46376 rows x 3 columns]"
      ]
     },
     "execution_count": 1086,
     "metadata": {},
     "output_type": "execute_result"
    }
   ],
   "source": [
    "y_hat_df # mse_fitness"
   ]
  },
  {
   "cell_type": "markdown",
   "id": "809cca28-ef94-4a11-b5ba-7ec1451d5022",
   "metadata": {
    "tags": []
   },
   "source": [
    "# Spearman"
   ]
  },
  {
   "cell_type": "code",
   "execution_count": 1074,
   "id": "e0508f44-a287-46e6-aa39-92350319ddff",
   "metadata": {},
   "outputs": [],
   "source": [
    "def spear(x):\n",
    "    return x.corr(method='spearman').iloc[0, 1]"
   ]
  },
  {
   "cell_type": "code",
   "execution_count": 1075,
   "id": "27b6497f-2958-4b37-b4e6-fdac26b315fb",
   "metadata": {},
   "outputs": [
    {
     "name": "stderr",
     "output_type": "stream",
     "text": [
      "/tmp/ipykernel_15475/710519440.py:2: FutureWarning: The default value of numeric_only in DataFrame.corr is deprecated. In a future version, it will default to False. Select only valid columns or specify the value of numeric_only to silence this warning.\n",
      "  return x.corr(method='spearman').iloc[0, 1]\n"
     ]
    }
   ],
   "source": [
    "spearman = y_hat_df.groupby(\"date\").apply(lambda x: spear(x))"
   ]
  },
  {
   "cell_type": "code",
   "execution_count": 1076,
   "id": "453e3f2b-3fd9-4db0-ba50-879ecc3ac083",
   "metadata": {},
   "outputs": [
    {
     "data": {
      "text/plain": [
       "(-0.0007639404460393972, (46,))"
      ]
     },
     "execution_count": 1076,
     "metadata": {},
     "output_type": "execute_result"
    }
   ],
   "source": [
    "spearman.mean(), spearman.shape # 46 values for 46 moons"
   ]
  },
  {
   "cell_type": "code",
   "execution_count": 1077,
   "id": "331a4511-aa60-4cd5-b066-cf444c9831d0",
   "metadata": {},
   "outputs": [
    {
     "data": {
      "image/png": "[encoded data removed]",
      "text/plain": [
       "<Figure size 432x288 with 1 Axes>"
      ]
     },
     "metadata": {
      "needs_background": "light"
     },
     "output_type": "display_data"
    }
   ],
   "source": [
    "spearman.plot()\n",
    "plt.axhline(y=spearman.mean(), color='r', linestyle='-')\n",
    "plt.show()"
   ]
  },
  {
   "cell_type": "code",
   "execution_count": 1078,
   "id": "42047339-f003-4ced-bfcc-64355912a1b1",
   "metadata": {},
   "outputs": [
    {
     "data": {
      "text/plain": [
       "<matplotlib.lines.Line2D at 0x7f77a9f51e80>"
      ]
     },
     "execution_count": 1078,
     "metadata": {},
     "output_type": "execute_result"
    },
    {
     "data": {
      "image/png": "[encoded data removed]",
      "text/plain": [
       "<Figure size 432x288 with 1 Axes>"
      ]
     },
     "metadata": {
      "needs_background": "light"
     },
     "output_type": "display_data"
    }
   ],
   "source": [
    "spearman.hist(bins=30)\n",
    "plt.axvline(x=spearman.mean(), color='r', linestyle='-')"
   ]
  },
  {
   "cell_type": "markdown",
   "id": "c85b7dbe-1d0b-43bf-8391-c0c1124dda6c",
   "metadata": {},
   "source": [
    "# MSE"
   ]
  },
  {
   "cell_type": "code",
   "execution_count": 1079,
   "id": "2bd36648-3109-4bfe-b50f-a31571bc5dfb",
   "metadata": {},
   "outputs": [],
   "source": [
    "mse = y_hat_df.groupby('date').apply(lambda x: mean_squared_error(x.y_hat, x.Y))"
   ]
  },
  {
   "cell_type": "code",
   "execution_count": 1080,
   "id": "96804420-818f-4e4e-8644-2b3d083d9449",
   "metadata": {},
   "outputs": [
    {
     "data": {
      "image/png": "[encoded data removed]",
      "text/plain": [
       "<Figure size 432x288 with 1 Axes>"
      ]
     },
     "metadata": {
      "needs_background": "light"
     },
     "output_type": "display_data"
    }
   ],
   "source": [
    "mse.plot()\n",
    "plt.axhline(y=mse.mean(), color='r', linestyle='-')\n",
    "plt.show()"
   ]
  },
  {
   "cell_type": "code",
   "execution_count": 1081,
   "id": "a6f15537-3767-43f4-8aab-8f827340832c",
   "metadata": {},
   "outputs": [
    {
     "data": {
      "text/plain": [
       "<matplotlib.lines.Line2D at 0x7f77a9d4ca90>"
      ]
     },
     "execution_count": 1081,
     "metadata": {},
     "output_type": "execute_result"
    },
    {
     "data": {
      "image/png": "[encoded data removed]",
      "text/plain": [
       "<Figure size 432x288 with 1 Axes>"
      ]
     },
     "metadata": {
      "needs_background": "light"
     },
     "output_type": "display_data"
    }
   ],
   "source": [
    "mse.hist(bins=30)\n",
    "plt.axvline(x=mse.mean(), color='r', linestyle='-')"
   ]
  },
  {
   "cell_type": "markdown",
   "id": "4a4c19fc-7397-4f21-948f-b7643040882a",
   "metadata": {},
   "source": [
    "# Orthogonalize output and show same results."
   ]
  },
  {
   "cell_type": "code",
   "execution_count": 890,
   "id": "b3ea32da-42a1-4e74-8dd6-5b9e74584ad2",
   "metadata": {},
   "outputs": [],
   "source": [
    "B = B[X_df.date > moons[260]]"
   ]
  },
  {
   "cell_type": "code",
   "execution_count": 891,
   "id": "71f07e1b",
   "metadata": {},
   "outputs": [
    {
     "data": {
      "text/html": [
       "<div>\n",
       "<style scoped>\n",
       "    .dataframe tbody tr th:only-of-type {\n",
       "        vertical-align: middle;\n",
       "    }\n",
       "\n",
       "    .dataframe tbody tr th {\n",
       "        vertical-align: top;\n",
       "    }\n",
       "\n",
       "    .dataframe thead th {\n",
       "        text-align: right;\n",
       "    }\n",
       "</style>\n",
       "<table border=\"1\" class=\"dataframe\">\n",
       "  <thead>\n",
       "    <tr style=\"text-align: right;\">\n",
       "      <th></th>\n",
       "      <th>date</th>\n",
       "      <th>USFASTD_1DREVRSL</th>\n",
       "      <th>USFASTD_AERODEF</th>\n",
       "      <th>USFASTD_AIRLINES</th>\n",
       "      <th>USFASTD_ALUMSTEL</th>\n",
       "      <th>USFASTD_APPAREL</th>\n",
       "      <th>USFASTD_AUTO</th>\n",
       "      <th>USFASTD_BANKS</th>\n",
       "      <th>USFASTD_BETA</th>\n",
       "      <th>USFASTD_BEVTOB</th>\n",
       "      <th>...</th>\n",
       "      <th>USFASTD_SOFTWARE</th>\n",
       "      <th>USFASTD_SPLTYRET</th>\n",
       "      <th>USFASTD_SPTYCHEM</th>\n",
       "      <th>USFASTD_SPTYSTOR</th>\n",
       "      <th>USFASTD_STREVRSL</th>\n",
       "      <th>USFASTD_TELECOM</th>\n",
       "      <th>USFASTD_TRADECO</th>\n",
       "      <th>USFASTD_TRANSPRT</th>\n",
       "      <th>USFASTD_VALUE</th>\n",
       "      <th>USFASTD_WIRELESS</th>\n",
       "    </tr>\n",
       "  </thead>\n",
       "  <tbody>\n",
       "    <tr>\n",
       "      <th>264328</th>\n",
       "      <td>2021-06-16</td>\n",
       "      <td>0.596</td>\n",
       "      <td>0.852</td>\n",
       "      <td>0.0</td>\n",
       "      <td>0.0</td>\n",
       "      <td>0.0</td>\n",
       "      <td>0.0</td>\n",
       "      <td>0.000</td>\n",
       "      <td>1.101</td>\n",
       "      <td>0.0</td>\n",
       "      <td>...</td>\n",
       "      <td>0.0</td>\n",
       "      <td>0.0</td>\n",
       "      <td>0.000</td>\n",
       "      <td>0.0</td>\n",
       "      <td>0.372</td>\n",
       "      <td>0.0</td>\n",
       "      <td>0.000</td>\n",
       "      <td>0.148</td>\n",
       "      <td>-1.258</td>\n",
       "      <td>0.0</td>\n",
       "    </tr>\n",
       "    <tr>\n",
       "      <th>264329</th>\n",
       "      <td>2021-06-16</td>\n",
       "      <td>-0.934</td>\n",
       "      <td>0.000</td>\n",
       "      <td>0.0</td>\n",
       "      <td>0.0</td>\n",
       "      <td>0.0</td>\n",
       "      <td>0.0</td>\n",
       "      <td>0.000</td>\n",
       "      <td>-0.048</td>\n",
       "      <td>0.0</td>\n",
       "      <td>...</td>\n",
       "      <td>0.0</td>\n",
       "      <td>0.0</td>\n",
       "      <td>0.000</td>\n",
       "      <td>0.0</td>\n",
       "      <td>-1.351</td>\n",
       "      <td>0.0</td>\n",
       "      <td>0.000</td>\n",
       "      <td>0.000</td>\n",
       "      <td>2.165</td>\n",
       "      <td>0.0</td>\n",
       "    </tr>\n",
       "    <tr>\n",
       "      <th>264330</th>\n",
       "      <td>2021-06-16</td>\n",
       "      <td>-0.119</td>\n",
       "      <td>0.000</td>\n",
       "      <td>0.0</td>\n",
       "      <td>0.0</td>\n",
       "      <td>0.0</td>\n",
       "      <td>0.0</td>\n",
       "      <td>0.000</td>\n",
       "      <td>-0.378</td>\n",
       "      <td>0.0</td>\n",
       "      <td>...</td>\n",
       "      <td>0.0</td>\n",
       "      <td>0.0</td>\n",
       "      <td>0.448</td>\n",
       "      <td>0.0</td>\n",
       "      <td>0.285</td>\n",
       "      <td>0.0</td>\n",
       "      <td>0.096</td>\n",
       "      <td>0.000</td>\n",
       "      <td>0.607</td>\n",
       "      <td>0.0</td>\n",
       "    </tr>\n",
       "    <tr>\n",
       "      <th>264331</th>\n",
       "      <td>2021-06-16</td>\n",
       "      <td>-0.519</td>\n",
       "      <td>0.000</td>\n",
       "      <td>0.0</td>\n",
       "      <td>0.0</td>\n",
       "      <td>0.0</td>\n",
       "      <td>0.0</td>\n",
       "      <td>0.000</td>\n",
       "      <td>0.662</td>\n",
       "      <td>0.0</td>\n",
       "      <td>...</td>\n",
       "      <td>0.0</td>\n",
       "      <td>0.0</td>\n",
       "      <td>0.000</td>\n",
       "      <td>0.0</td>\n",
       "      <td>-0.508</td>\n",
       "      <td>0.0</td>\n",
       "      <td>0.000</td>\n",
       "      <td>0.000</td>\n",
       "      <td>-0.261</td>\n",
       "      <td>0.0</td>\n",
       "    </tr>\n",
       "    <tr>\n",
       "      <th>264332</th>\n",
       "      <td>2021-06-16</td>\n",
       "      <td>0.504</td>\n",
       "      <td>0.000</td>\n",
       "      <td>0.0</td>\n",
       "      <td>0.0</td>\n",
       "      <td>0.0</td>\n",
       "      <td>0.0</td>\n",
       "      <td>0.012</td>\n",
       "      <td>1.319</td>\n",
       "      <td>0.0</td>\n",
       "      <td>...</td>\n",
       "      <td>0.0</td>\n",
       "      <td>0.0</td>\n",
       "      <td>0.000</td>\n",
       "      <td>0.0</td>\n",
       "      <td>-0.176</td>\n",
       "      <td>0.0</td>\n",
       "      <td>0.000</td>\n",
       "      <td>0.000</td>\n",
       "      <td>1.321</td>\n",
       "      <td>0.0</td>\n",
       "    </tr>\n",
       "    <tr>\n",
       "      <th>...</th>\n",
       "      <td>...</td>\n",
       "      <td>...</td>\n",
       "      <td>...</td>\n",
       "      <td>...</td>\n",
       "      <td>...</td>\n",
       "      <td>...</td>\n",
       "      <td>...</td>\n",
       "      <td>...</td>\n",
       "      <td>...</td>\n",
       "      <td>...</td>\n",
       "      <td>...</td>\n",
       "      <td>...</td>\n",
       "      <td>...</td>\n",
       "      <td>...</td>\n",
       "      <td>...</td>\n",
       "      <td>...</td>\n",
       "      <td>...</td>\n",
       "      <td>...</td>\n",
       "      <td>...</td>\n",
       "      <td>...</td>\n",
       "      <td>...</td>\n",
       "    </tr>\n",
       "    <tr>\n",
       "      <th>310699</th>\n",
       "      <td>2022-04-27</td>\n",
       "      <td>-1.975</td>\n",
       "      <td>0.000</td>\n",
       "      <td>0.0</td>\n",
       "      <td>0.0</td>\n",
       "      <td>0.0</td>\n",
       "      <td>0.0</td>\n",
       "      <td>0.000</td>\n",
       "      <td>0.064</td>\n",
       "      <td>0.0</td>\n",
       "      <td>...</td>\n",
       "      <td>0.0</td>\n",
       "      <td>0.0</td>\n",
       "      <td>0.000</td>\n",
       "      <td>0.0</td>\n",
       "      <td>0.211</td>\n",
       "      <td>0.0</td>\n",
       "      <td>0.000</td>\n",
       "      <td>0.000</td>\n",
       "      <td>1.448</td>\n",
       "      <td>0.0</td>\n",
       "    </tr>\n",
       "    <tr>\n",
       "      <th>310700</th>\n",
       "      <td>2022-04-27</td>\n",
       "      <td>-0.140</td>\n",
       "      <td>0.000</td>\n",
       "      <td>0.0</td>\n",
       "      <td>0.0</td>\n",
       "      <td>0.0</td>\n",
       "      <td>0.0</td>\n",
       "      <td>0.000</td>\n",
       "      <td>-1.518</td>\n",
       "      <td>0.0</td>\n",
       "      <td>...</td>\n",
       "      <td>0.0</td>\n",
       "      <td>0.0</td>\n",
       "      <td>0.028</td>\n",
       "      <td>0.0</td>\n",
       "      <td>0.239</td>\n",
       "      <td>0.0</td>\n",
       "      <td>0.000</td>\n",
       "      <td>0.000</td>\n",
       "      <td>-0.317</td>\n",
       "      <td>0.0</td>\n",
       "    </tr>\n",
       "    <tr>\n",
       "      <th>310701</th>\n",
       "      <td>2022-04-27</td>\n",
       "      <td>0.690</td>\n",
       "      <td>0.000</td>\n",
       "      <td>0.0</td>\n",
       "      <td>0.0</td>\n",
       "      <td>0.0</td>\n",
       "      <td>0.0</td>\n",
       "      <td>0.000</td>\n",
       "      <td>-1.714</td>\n",
       "      <td>0.0</td>\n",
       "      <td>...</td>\n",
       "      <td>0.0</td>\n",
       "      <td>0.0</td>\n",
       "      <td>0.000</td>\n",
       "      <td>0.0</td>\n",
       "      <td>0.130</td>\n",
       "      <td>0.0</td>\n",
       "      <td>0.000</td>\n",
       "      <td>0.000</td>\n",
       "      <td>0.800</td>\n",
       "      <td>0.0</td>\n",
       "    </tr>\n",
       "    <tr>\n",
       "      <th>310702</th>\n",
       "      <td>2022-04-27</td>\n",
       "      <td>0.246</td>\n",
       "      <td>0.000</td>\n",
       "      <td>0.0</td>\n",
       "      <td>0.0</td>\n",
       "      <td>0.0</td>\n",
       "      <td>0.0</td>\n",
       "      <td>0.000</td>\n",
       "      <td>-0.953</td>\n",
       "      <td>0.0</td>\n",
       "      <td>...</td>\n",
       "      <td>0.0</td>\n",
       "      <td>0.0</td>\n",
       "      <td>0.000</td>\n",
       "      <td>0.0</td>\n",
       "      <td>-0.777</td>\n",
       "      <td>0.0</td>\n",
       "      <td>0.000</td>\n",
       "      <td>0.000</td>\n",
       "      <td>-0.006</td>\n",
       "      <td>0.0</td>\n",
       "    </tr>\n",
       "    <tr>\n",
       "      <th>310703</th>\n",
       "      <td>2022-04-27</td>\n",
       "      <td>0.146</td>\n",
       "      <td>0.000</td>\n",
       "      <td>0.0</td>\n",
       "      <td>0.0</td>\n",
       "      <td>0.0</td>\n",
       "      <td>0.0</td>\n",
       "      <td>0.000</td>\n",
       "      <td>-0.459</td>\n",
       "      <td>0.0</td>\n",
       "      <td>...</td>\n",
       "      <td>0.0</td>\n",
       "      <td>0.0</td>\n",
       "      <td>0.893</td>\n",
       "      <td>0.0</td>\n",
       "      <td>-0.122</td>\n",
       "      <td>0.0</td>\n",
       "      <td>0.000</td>\n",
       "      <td>0.000</td>\n",
       "      <td>0.544</td>\n",
       "      <td>0.0</td>\n",
       "    </tr>\n",
       "  </tbody>\n",
       "</table>\n",
       "<p>46376 rows × 86 columns</p>\n",
       "</div>"
      ],
      "text/plain": [
       "             date  USFASTD_1DREVRSL  USFASTD_AERODEF  USFASTD_AIRLINES  \\\n",
       "264328 2021-06-16             0.596            0.852               0.0   \n",
       "264329 2021-06-16            -0.934            0.000               0.0   \n",
       "264330 2021-06-16            -0.119            0.000               0.0   \n",
       "264331 2021-06-16            -0.519            0.000               0.0   \n",
       "264332 2021-06-16             0.504            0.000               0.0   \n",
       "...           ...               ...              ...               ...   \n",
       "310699 2022-04-27            -1.975            0.000               0.0   \n",
       "310700 2022-04-27            -0.140            0.000               0.0   \n",
       "310701 2022-04-27             0.690            0.000               0.0   \n",
       "310702 2022-04-27             0.246            0.000               0.0   \n",
       "310703 2022-04-27             0.146            0.000               0.0   \n",
       "\n",
       "        USFASTD_ALUMSTEL  USFASTD_APPAREL  USFASTD_AUTO  USFASTD_BANKS  \\\n",
       "264328               0.0              0.0           0.0          0.000   \n",
       "264329               0.0              0.0           0.0          0.000   \n",
       "264330               0.0              0.0           0.0          0.000   \n",
       "264331               0.0              0.0           0.0          0.000   \n",
       "264332               0.0              0.0           0.0          0.012   \n",
       "...                  ...              ...           ...            ...   \n",
       "310699               0.0              0.0           0.0          0.000   \n",
       "310700               0.0              0.0           0.0          0.000   \n",
       "310701               0.0              0.0           0.0          0.000   \n",
       "310702               0.0              0.0           0.0          0.000   \n",
       "310703               0.0              0.0           0.0          0.000   \n",
       "\n",
       "        USFASTD_BETA  USFASTD_BEVTOB  ...  USFASTD_SOFTWARE  USFASTD_SPLTYRET  \\\n",
       "264328         1.101             0.0  ...               0.0               0.0   \n",
       "264329        -0.048             0.0  ...               0.0               0.0   \n",
       "264330        -0.378             0.0  ...               0.0               0.0   \n",
       "264331         0.662             0.0  ...               0.0               0.0   \n",
       "264332         1.319             0.0  ...               0.0               0.0   \n",
       "...              ...             ...  ...               ...               ...   \n",
       "310699         0.064             0.0  ...               0.0               0.0   \n",
       "310700        -1.518             0.0  ...               0.0               0.0   \n",
       "310701        -1.714             0.0  ...               0.0               0.0   \n",
       "310702        -0.953             0.0  ...               0.0               0.0   \n",
       "310703        -0.459             0.0  ...               0.0               0.0   \n",
       "\n",
       "        USFASTD_SPTYCHEM  USFASTD_SPTYSTOR  USFASTD_STREVRSL  USFASTD_TELECOM  \\\n",
       "264328             0.000               0.0             0.372              0.0   \n",
       "264329             0.000               0.0            -1.351              0.0   \n",
       "264330             0.448               0.0             0.285              0.0   \n",
       "264331             0.000               0.0            -0.508              0.0   \n",
       "264332             0.000               0.0            -0.176              0.0   \n",
       "...                  ...               ...               ...              ...   \n",
       "310699             0.000               0.0             0.211              0.0   \n",
       "310700             0.028               0.0             0.239              0.0   \n",
       "310701             0.000               0.0             0.130              0.0   \n",
       "310702             0.000               0.0            -0.777              0.0   \n",
       "310703             0.893               0.0            -0.122              0.0   \n",
       "\n",
       "        USFASTD_TRADECO  USFASTD_TRANSPRT  USFASTD_VALUE  USFASTD_WIRELESS  \n",
       "264328            0.000             0.148         -1.258               0.0  \n",
       "264329            0.000             0.000          2.165               0.0  \n",
       "264330            0.096             0.000          0.607               0.0  \n",
       "264331            0.000             0.000         -0.261               0.0  \n",
       "264332            0.000             0.000          1.321               0.0  \n",
       "...                 ...               ...            ...               ...  \n",
       "310699            0.000             0.000          1.448               0.0  \n",
       "310700            0.000             0.000         -0.317               0.0  \n",
       "310701            0.000             0.000          0.800               0.0  \n",
       "310702            0.000             0.000         -0.006               0.0  \n",
       "310703            0.000             0.000          0.544               0.0  \n",
       "\n",
       "[46376 rows x 86 columns]"
      ]
     },
     "execution_count": 891,
     "metadata": {},
     "output_type": "execute_result"
    }
   ],
   "source": [
    "B"
   ]
  },
  {
   "cell_type": "code",
   "execution_count": 892,
   "id": "485c1453-969a-42ae-bdac-4f30a43c6557",
   "metadata": {},
   "outputs": [],
   "source": [
    "y_hat_date = y_hat_df[['date', 'y_hat']] "
   ]
  },
  {
   "cell_type": "code",
   "execution_count": 893,
   "id": "c7b36bf9-c32b-4f45-a6dd-f927a7d0976b",
   "metadata": {},
   "outputs": [],
   "source": [
    "import sys\n",
    "sys.path.insert(1, \"../feature-engineering/src\")\n",
    "from class_ import Data"
   ]
  },
  {
   "cell_type": "code",
   "execution_count": 894,
   "id": "eb6bda90-882d-4a2f-8e9c-382b24f12d0e",
   "metadata": {},
   "outputs": [],
   "source": [
    "data = Data(f_matrix=y_hat_date, b_matrix=B)"
   ]
  },
  {
   "cell_type": "code",
   "execution_count": 895,
   "id": "ff8e9024-3cca-4ca2-bf79-9b6ec18597cf",
   "metadata": {},
   "outputs": [
    {
     "data": {
      "application/vnd.jupyter.widget-view+json": {
       "model_id": "924c4e325885406397c10db6a6ee3d6c",
       "version_major": 2,
       "version_minor": 0
      },
      "text/plain": [
       "  0%|          | 0/46 [00:00<?, ?it/s]"
      ]
     },
     "metadata": {},
     "output_type": "display_data"
    },
    {
     "data": {
      "text/plain": [
       "0"
      ]
     },
     "execution_count": 895,
     "metadata": {},
     "output_type": "execute_result"
    }
   ],
   "source": [
    "data.orthogonalize()"
   ]
  },
  {
   "cell_type": "code",
   "execution_count": 896,
   "id": "37010d81-0b03-45bd-9c84-22b7e78ebdf7",
   "metadata": {},
   "outputs": [
    {
     "data": {
      "text/html": [
       "<div>\n",
       "<style scoped>\n",
       "    .dataframe tbody tr th:only-of-type {\n",
       "        vertical-align: middle;\n",
       "    }\n",
       "\n",
       "    .dataframe tbody tr th {\n",
       "        vertical-align: top;\n",
       "    }\n",
       "\n",
       "    .dataframe thead th {\n",
       "        text-align: right;\n",
       "    }\n",
       "</style>\n",
       "<table border=\"1\" class=\"dataframe\">\n",
       "  <thead>\n",
       "    <tr style=\"text-align: right;\">\n",
       "      <th></th>\n",
       "      <th>date</th>\n",
       "      <th>y_hat</th>\n",
       "    </tr>\n",
       "  </thead>\n",
       "  <tbody>\n",
       "    <tr>\n",
       "      <th>264328</th>\n",
       "      <td>2021-06-16</td>\n",
       "      <td>0.060786</td>\n",
       "    </tr>\n",
       "    <tr>\n",
       "      <th>264329</th>\n",
       "      <td>2021-06-16</td>\n",
       "      <td>0.106601</td>\n",
       "    </tr>\n",
       "    <tr>\n",
       "      <th>264330</th>\n",
       "      <td>2021-06-16</td>\n",
       "      <td>-0.263537</td>\n",
       "    </tr>\n",
       "    <tr>\n",
       "      <th>264331</th>\n",
       "      <td>2021-06-16</td>\n",
       "      <td>-0.057930</td>\n",
       "    </tr>\n",
       "    <tr>\n",
       "      <th>264332</th>\n",
       "      <td>2021-06-16</td>\n",
       "      <td>-0.064312</td>\n",
       "    </tr>\n",
       "    <tr>\n",
       "      <th>...</th>\n",
       "      <td>...</td>\n",
       "      <td>...</td>\n",
       "    </tr>\n",
       "    <tr>\n",
       "      <th>310699</th>\n",
       "      <td>2022-04-27</td>\n",
       "      <td>0.049917</td>\n",
       "    </tr>\n",
       "    <tr>\n",
       "      <th>310700</th>\n",
       "      <td>2022-04-27</td>\n",
       "      <td>0.178853</td>\n",
       "    </tr>\n",
       "    <tr>\n",
       "      <th>310701</th>\n",
       "      <td>2022-04-27</td>\n",
       "      <td>0.036012</td>\n",
       "    </tr>\n",
       "    <tr>\n",
       "      <th>310702</th>\n",
       "      <td>2022-04-27</td>\n",
       "      <td>-0.013157</td>\n",
       "    </tr>\n",
       "    <tr>\n",
       "      <th>310703</th>\n",
       "      <td>2022-04-27</td>\n",
       "      <td>0.196938</td>\n",
       "    </tr>\n",
       "  </tbody>\n",
       "</table>\n",
       "<p>46376 rows × 2 columns</p>\n",
       "</div>"
      ],
      "text/plain": [
       "             date     y_hat\n",
       "264328 2021-06-16  0.060786\n",
       "264329 2021-06-16  0.106601\n",
       "264330 2021-06-16 -0.263537\n",
       "264331 2021-06-16 -0.057930\n",
       "264332 2021-06-16 -0.064312\n",
       "...           ...       ...\n",
       "310699 2022-04-27  0.049917\n",
       "310700 2022-04-27  0.178853\n",
       "310701 2022-04-27  0.036012\n",
       "310702 2022-04-27 -0.013157\n",
       "310703 2022-04-27  0.196938\n",
       "\n",
       "[46376 rows x 2 columns]"
      ]
     },
     "execution_count": 896,
     "metadata": {},
     "output_type": "execute_result"
    }
   ],
   "source": [
    "data.f_matrix"
   ]
  },
  {
   "cell_type": "code",
   "execution_count": 897,
   "id": "921ed32d-0e45-4a26-ac59-4baff8d96daf",
   "metadata": {},
   "outputs": [],
   "source": [
    "y_hat_df.y_hat = data.f_matrix.y_hat"
   ]
  },
  {
   "cell_type": "code",
   "execution_count": 898,
   "id": "3811d708-3e47-4f25-ac08-2095637024a4",
   "metadata": {},
   "outputs": [
    {
     "data": {
      "text/html": [
       "<div>\n",
       "<style scoped>\n",
       "    .dataframe tbody tr th:only-of-type {\n",
       "        vertical-align: middle;\n",
       "    }\n",
       "\n",
       "    .dataframe tbody tr th {\n",
       "        vertical-align: top;\n",
       "    }\n",
       "\n",
       "    .dataframe thead th {\n",
       "        text-align: right;\n",
       "    }\n",
       "</style>\n",
       "<table border=\"1\" class=\"dataframe\">\n",
       "  <thead>\n",
       "    <tr style=\"text-align: right;\">\n",
       "      <th></th>\n",
       "      <th>date</th>\n",
       "      <th>y_hat</th>\n",
       "      <th>Y</th>\n",
       "    </tr>\n",
       "  </thead>\n",
       "  <tbody>\n",
       "    <tr>\n",
       "      <th>264328</th>\n",
       "      <td>2021-06-16</td>\n",
       "      <td>0.060786</td>\n",
       "      <td>-0.010859</td>\n",
       "    </tr>\n",
       "    <tr>\n",
       "      <th>264329</th>\n",
       "      <td>2021-06-16</td>\n",
       "      <td>0.106601</td>\n",
       "      <td>-0.036569</td>\n",
       "    </tr>\n",
       "    <tr>\n",
       "      <th>264330</th>\n",
       "      <td>2021-06-16</td>\n",
       "      <td>-0.263537</td>\n",
       "      <td>-0.005702</td>\n",
       "    </tr>\n",
       "    <tr>\n",
       "      <th>264331</th>\n",
       "      <td>2021-06-16</td>\n",
       "      <td>-0.057930</td>\n",
       "      <td>-0.017353</td>\n",
       "    </tr>\n",
       "    <tr>\n",
       "      <th>264332</th>\n",
       "      <td>2021-06-16</td>\n",
       "      <td>-0.064312</td>\n",
       "      <td>-0.021563</td>\n",
       "    </tr>\n",
       "    <tr>\n",
       "      <th>...</th>\n",
       "      <td>...</td>\n",
       "      <td>...</td>\n",
       "      <td>...</td>\n",
       "    </tr>\n",
       "    <tr>\n",
       "      <th>310699</th>\n",
       "      <td>2022-04-27</td>\n",
       "      <td>0.049917</td>\n",
       "      <td>0.020271</td>\n",
       "    </tr>\n",
       "    <tr>\n",
       "      <th>310700</th>\n",
       "      <td>2022-04-27</td>\n",
       "      <td>0.178853</td>\n",
       "      <td>-0.023498</td>\n",
       "    </tr>\n",
       "    <tr>\n",
       "      <th>310701</th>\n",
       "      <td>2022-04-27</td>\n",
       "      <td>0.036012</td>\n",
       "      <td>0.007559</td>\n",
       "    </tr>\n",
       "    <tr>\n",
       "      <th>310702</th>\n",
       "      <td>2022-04-27</td>\n",
       "      <td>-0.013157</td>\n",
       "      <td>-0.006418</td>\n",
       "    </tr>\n",
       "    <tr>\n",
       "      <th>310703</th>\n",
       "      <td>2022-04-27</td>\n",
       "      <td>0.196938</td>\n",
       "      <td>0.014513</td>\n",
       "    </tr>\n",
       "  </tbody>\n",
       "</table>\n",
       "<p>46376 rows × 3 columns</p>\n",
       "</div>"
      ],
      "text/plain": [
       "             date     y_hat         Y\n",
       "264328 2021-06-16  0.060786 -0.010859\n",
       "264329 2021-06-16  0.106601 -0.036569\n",
       "264330 2021-06-16 -0.263537 -0.005702\n",
       "264331 2021-06-16 -0.057930 -0.017353\n",
       "264332 2021-06-16 -0.064312 -0.021563\n",
       "...           ...       ...       ...\n",
       "310699 2022-04-27  0.049917  0.020271\n",
       "310700 2022-04-27  0.178853 -0.023498\n",
       "310701 2022-04-27  0.036012  0.007559\n",
       "310702 2022-04-27 -0.013157 -0.006418\n",
       "310703 2022-04-27  0.196938  0.014513\n",
       "\n",
       "[46376 rows x 3 columns]"
      ]
     },
     "execution_count": 898,
     "metadata": {},
     "output_type": "execute_result"
    }
   ],
   "source": [
    "y_hat_df"
   ]
  },
  {
   "cell_type": "code",
   "execution_count": 899,
   "id": "39ec5e17-4d3d-42d1-a347-b04141d09508",
   "metadata": {},
   "outputs": [
    {
     "data": {
      "image/png": "[encoded data removed]",
      "text/plain": [
       "<Figure size 432x288 with 1 Axes>"
      ]
     },
     "metadata": {
      "needs_background": "light"
     },
     "output_type": "display_data"
    }
   ],
   "source": [
    "slope, intercept, r_value, p_value, std_err = linregress(y_hat_df.Y,y_hat_df.y_hat)\n",
    "plt.scatter(y_hat_df.Y, y_hat_df.y_hat)\n",
    "plt.plot(y_hat_df.Y, slope * y_hat_df.Y + intercept,'r')\n",
    "plt.show()"
   ]
  },
  {
   "cell_type": "code",
   "execution_count": 900,
   "id": "bc99c607-03f0-49ec-943f-bd1f8c8110d8",
   "metadata": {},
   "outputs": [
    {
     "name": "stderr",
     "output_type": "stream",
     "text": [
      "/tmp/ipykernel_15475/710519440.py:2: FutureWarning: The default value of numeric_only in DataFrame.corr is deprecated. In a future version, it will default to False. Select only valid columns or specify the value of numeric_only to silence this warning.\n",
      "  return x.corr(method='spearman').iloc[0, 1]\n"
     ]
    },
    {
     "data": {
      "image/png": "[encoded data removed]",
      "text/plain": [
       "<Figure size 432x288 with 1 Axes>"
      ]
     },
     "metadata": {
      "needs_background": "light"
     },
     "output_type": "display_data"
    }
   ],
   "source": [
    "spearman = y_hat_df.groupby(\"date\").apply(lambda x: spear(x))\n",
    "spearman.plot()\n",
    "plt.axhline(y=spearman.mean(), color='r', linestyle='-')\n",
    "plt.show()"
   ]
  },
  {
   "cell_type": "code",
   "execution_count": 839,
   "id": "eab418c6-6646-4b90-99ad-9cc836748d3a",
   "metadata": {},
   "outputs": [
    {
     "data": {
      "text/plain": [
       "<matplotlib.lines.Line2D at 0x7f789b76c700>"
      ]
     },
     "execution_count": 839,
     "metadata": {},
     "output_type": "execute_result"
    },
    {
     "data": {
      "image/png": "[encoded data removed]",
      "text/plain": [
       "<Figure size 432x288 with 1 Axes>"
      ]
     },
     "metadata": {
      "needs_background": "light"
     },
     "output_type": "display_data"
    }
   ],
   "source": [
    "spearman.hist(bins=30)\n",
    "plt.axvline(x=spearman.mean(), color='r', linestyle='-')"
   ]
  },
  {
   "cell_type": "code",
   "execution_count": 840,
   "id": "e7545c48-c5c0-4788-a5d8-4f40ac483067",
   "metadata": {},
   "outputs": [
    {
     "data": {
      "image/png": "[encoded data removed]",
      "text/plain": [
       "<Figure size 432x288 with 1 Axes>"
      ]
     },
     "metadata": {
      "needs_background": "light"
     },
     "output_type": "display_data"
    }
   ],
   "source": [
    "mse = y_hat_df.groupby('date').apply(lambda x: mean_squared_error(x.y_hat, x.Y))\n",
    "mse.plot()\n",
    "plt.axhline(y=mse.mean(), color='r', linestyle='-')\n",
    "plt.show()"
   ]
  },
  {
   "cell_type": "code",
   "execution_count": 841,
   "id": "3427dd71-78f0-4453-b072-faa91fb12f58",
   "metadata": {},
   "outputs": [
    {
     "data": {
      "text/plain": [
       "<matplotlib.lines.Line2D at 0x7f789b76ca30>"
      ]
     },
     "execution_count": 841,
     "metadata": {},
     "output_type": "execute_result"
    },
    {
     "data": {
      "image/png": "[encoded data removed]",
      "text/plain": [
       "<Figure size 432x288 with 1 Axes>"
      ]
     },
     "metadata": {
      "needs_background": "light"
     },
     "output_type": "display_data"
    }
   ],
   "source": [
    "mse.hist(bins=30)\n",
    "plt.axvline(x=mse.mean(), color='r', linestyle='-')"
   ]
  },
  {
   "cell_type": "code",
   "execution_count": null,
   "id": "a496b999-8dda-46d9-92bb-6e27a94e72de",
   "metadata": {},
   "outputs": [],
   "source": []
  }
 ],
 "metadata": {
  "kernelspec": {
   "display_name": "Python 3 (ipykernel)",
   "language": "python",
   "name": "python3"
  },
  "language_info": {
   "codemirror_mode": {
    "name": "ipython",
    "version": 3
   },
   "file_extension": ".py",
   "mimetype": "text/x-python",
   "name": "python",
   "nbconvert_exporter": "python",
   "pygments_lexer": "ipython3",
   "version": "3.9.6"
  },
  "vscode": {
   "interpreter": {
    "hash": "f43bc9b1800d20f4ed852f33e6bc7bf3b06623dd9099929dff0fb68cebae8d73"
   }
  }
 },
 "nbformat": 4,
 "nbformat_minor": 5
}
