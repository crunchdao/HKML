{
 "cells": [
  {
   "cell_type": "code",
   "execution_count": null,
   "id": "dfd600a5-4d51-4bac-9467-1afc0e59ff15",
   "metadata": {},
   "outputs": [],
   "source": [
    "import pandas as pd\n",
    "import requests\n",
    "import csv\n",
    "from sklearn.model_selection._split import _BaseKFold, indexable, _num_samples\n",
    "from sklearn import model_selection, metrics\n",
    "import pandas as pd\n",
    "import numpy as np\n",
    "from xgboost import XGBRegressor\n",
    "import csv\n",
    "from scipy.stats import spearmanr"
   ]
  },
  {
   "cell_type": "code",
   "execution_count": null,
   "id": "20734f9f-0c32-4191-bf88-3d92784c12c2",
   "metadata": {},
   "outputs": [],
   "source": [
    "df = pd.read_parquet(\"../data/f_matrix.parquet\")\n",
    "target = pd.read_parquet(\"../data/target.parquet\")\n",
    "target = target[[\"date\", \"target_r\"]]\n",
    "# Only way to get extra information in a custom scorer function in sklearn is to pass a pandas Serie with the needed data in index.\n",
    "# https://stackoverflow.com/questions/67227646/can-i-get-extra-information-to-a-custom-scorer-function-in-sklearn\n",
    "target = target.set_index(\"date\")\n",
    "target = target.squeeze()"
   ]
  },
  {
   "cell_type": "code",
   "execution_count": null,
   "id": "53657c1c-02f1-4d12-a3b5-04b7675191f9",
   "metadata": {},
   "outputs": [],
   "source": [
    "class TimeSeriesSplitGroups(_BaseKFold):\n",
    "    def __init__(self, n_splits=5):\n",
    "        super().__init__(n_splits, shuffle=False, random_state=None)\n",
    "\n",
    "    \"\"\"\n",
    "    This function make sure that the split is not done arbitrarly in the middle of a cross-section.\n",
    "    credit: https://forum.numer.ai/t/era-wise-time-series-cross-validation/791\n",
    "    \"\"\"\n",
    "\n",
    "    def split(self, X, y=None, groups=None):\n",
    "        X, y, groups = indexable(X, y, groups)\n",
    "        n_samples = _num_samples(X)\n",
    "        n_splits = self.n_splits\n",
    "        n_folds = n_splits + 1\n",
    "        group_list = np.unique(groups)\n",
    "        n_groups = len(group_list)\n",
    "        if n_folds > n_groups:\n",
    "            raise ValueError(\n",
    "                (\n",
    "                    \"Cannot have number of folds ={0} greater\"\n",
    "                    \" than the number of samples: {1}.\"\n",
    "                ).format(n_folds, n_groups)\n",
    "            )\n",
    "        indices = np.arange(n_samples)\n",
    "        test_size = n_groups // n_folds  # floor division of index\n",
    "        test_starts = range(test_size + n_groups % n_folds, n_groups, test_size)\n",
    "        test_starts = list(test_starts)[::-1]\n",
    "        for test_start in test_starts:\n",
    "            yield (\n",
    "                indices[groups.isin(group_list[:test_start])],\n",
    "                indices[groups.isin(group_list[test_start : test_start + test_size])],\n",
    "            )\n",
    "\n",
    "\n",
    "\"\"\"\n",
    "Custom scorer function.\n",
    "Cross-sectional Spearman's correlation Sharpe ratio.\n",
    "\"\"\"\n",
    "\n",
    "\n",
    "def spearman(y_true, y_pred):\n",
    "    data = pd.DataFrame(y_true)\n",
    "    data[\"preds\"] = y_pred\n",
    "    data.reset_index(inplace=True)\n",
    "    cor = data.groupby(\"date\").corr(method=\"spearman\").iloc[0::2, -1]\n",
    "\n",
    "    return cor.mean() / cor.std()"
   ]
  },
  {
   "cell_type": "code",
   "execution_count": null,
   "id": "9637e18d-62f9-4c61-8bf5-b4b08524104b",
   "metadata": {},
   "outputs": [],
   "source": [
    "features = [f for f in df.columns if f.startswith(\"feature\")]\n",
    "eras = df.date"
   ]
  },
  {
   "cell_type": "code",
   "execution_count": null,
   "id": "5521776c-4784-4101-a3d5-c6c26b28331b",
   "metadata": {},
   "outputs": [],
   "source": [
    "# Creating a serie of hyperparameters for XGBs.\n",
    "# Grid-Search can be plugged here.\n",
    "cv_score = []\n",
    "models = []\n",
    "for lr in [0.006, 0.008, 0.01, 0.012, 0.014]:\n",
    "    for cs in [0.06, 0.08, 0.1, 0.12, 0.14]:\n",
    "        for md in [4, 5, 6]:\n",
    "            models.append(\n",
    "                XGBRegressor(\n",
    "                    colsample_bytree=cs,\n",
    "                    learning_rate=lr,\n",
    "                    n_estimators=2000,\n",
    "                    max_depth=md,\n",
    "                    nthread=8,\n",
    "                )\n",
    "            )\n",
    "del df[\"date\"]"
   ]
  },
  {
   "cell_type": "code",
   "execution_count": null,
   "id": "32d48e5b-58b8-4839-8d3e-d7c28dd4367d",
   "metadata": {},
   "outputs": [],
   "source": [
    "# Timeserie nested k-fold\n",
    "for model in models:\n",
    "    score = np.mean(\n",
    "        model_selection.cross_val_score(\n",
    "            model,\n",
    "            df,\n",
    "            target,\n",
    "            cv=TimeSeriesSplitGroups(5),  # increase granularity here\n",
    "            n_jobs=1,\n",
    "            groups=eras,\n",
    "            scoring=metrics.make_scorer(spearman, greater_is_better=True),\n",
    "        )\n",
    "    )\n",
    "    cv_score.append(score)\n",
    "    print(cv_score)"
   ]
  },
  {
   "cell_type": "code",
   "execution_count": null,
   "id": "002af108-c5f5-431d-b616-5c45cf5fdcde",
   "metadata": {},
   "outputs": [],
   "source": []
  },
  {
   "cell_type": "code",
   "execution_count": null,
   "id": "d25d4cc0-d3d6-41bc-95da-7008e585a5bd",
   "metadata": {},
   "outputs": [],
   "source": []
  }
 ],
 "metadata": {
  "kernelspec": {
   "display_name": "Python 3 (ipykernel)",
   "language": "python",
   "name": "python3"
  },
  "language_info": {
   "codemirror_mode": {
    "name": "ipython",
    "version": 3
   },
   "file_extension": ".py",
   "mimetype": "text/x-python",
   "name": "python",
   "nbconvert_exporter": "python",
   "pygments_lexer": "ipython3",
   "version": "3.9.6"
  }
 },
 "nbformat": 4,
 "nbformat_minor": 5
}
