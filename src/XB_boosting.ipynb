{
 "cells": [
  {
   "cell_type": "code",
   "execution_count": 6,
   "id": "2ea9986e-522d-4be2-be68-bf6b084e68ea",
   "metadata": {},
   "outputs": [],
   "source": [
    "import pandas as pd\n",
    "import matplotlib.pyplot as plt\n",
    "import numpy as np\n",
    "from sklearn import datasets, linear_model, model_selection\n",
    "from sklearn.metrics import mean_squared_error, r2_score\n",
    "import xgboost as xgb"
   ]
  },
  {
   "cell_type": "code",
   "execution_count": 7,
   "id": "96611d15-0ea1-4606-96c9-0c56273572cd",
   "metadata": {},
   "outputs": [],
   "source": [
    "B = pd.read_parquet(\"./data/B_HKML.parquet\")\n",
    "B = B[B[\"date\"] < \"2022-05-01\"]\n",
    "X_df = pd.read_parquet(\"./data/XB_PCA_HKML.parquet\")\n",
    "X_df.reset_index(drop=True, inplace=True)\n",
    "X_df = X_df[X_df[\"date\"] < \"2022-05-01\"]\n",
    "y_df = pd.read_parquet(\"./data/Y_HKML.parquet\")\n",
    "y_df = y_df.iloc[X_df.index]"
   ]
  },
  {
   "cell_type": "code",
   "execution_count": 8,
   "id": "cea23321-17b3-4493-9a1d-163993ee921e",
   "metadata": {},
   "outputs": [],
   "source": [
    "moons = X_df.date.unique()\n",
    "moon_train = moons[:230]\n",
    "moon_test = moons[260:]"
   ]
  },
  {
   "cell_type": "code",
   "execution_count": 10,
   "id": "ef66d12b-0871-4ba0-993d-8872f3e10cd0",
   "metadata": {},
   "outputs": [],
   "source": [
    "X_train = X_df[X_df[\"date\"].isin(moon_train)]"
   ]
  },
  {
   "cell_type": "code",
   "execution_count": 13,
   "id": "4e3fe4be-21f9-4a99-9a23-f358e28059d1",
   "metadata": {},
   "outputs": [
    {
     "name": "stderr",
     "output_type": "stream",
     "text": [
      "/tmp/ipykernel_15876/894159872.py:1: SettingWithCopyWarning: \n",
      "A value is trying to be set on a copy of a slice from a DataFrame\n",
      "\n",
      "See the caveats in the documentation: https://pandas.pydata.org/pandas-docs/stable/user_guide/indexing.html#returning-a-view-versus-a-copy\n",
      "  X_train.drop('date', axis=1, inplace=True)\n"
     ]
    }
   ],
   "source": [
    "X_train.drop(\"date\", axis=1, inplace=True)"
   ]
  },
  {
   "cell_type": "code",
   "execution_count": 16,
   "id": "c242c8c2-fdcc-419f-89ba-11b413b24740",
   "metadata": {},
   "outputs": [],
   "source": [
    "y_train = y_df.iloc[X_train.index]"
   ]
  },
  {
   "cell_type": "code",
   "execution_count": 17,
   "id": "787cfeb1-1be9-46d3-80e5-d1b229e765a7",
   "metadata": {},
   "outputs": [
    {
     "data": {
      "text/plain": [
       "XGBRegressor(base_score=0.5, booster='gbtree', callbacks=None,\n",
       "             colsample_bylevel=1, colsample_bynode=1, colsample_bytree=0.5,\n",
       "             early_stopping_rounds=None, enable_categorical=False,\n",
       "             eval_metric=None, gamma=0, gpu_id=-1, grow_policy='depthwise',\n",
       "             importance_type=None, interaction_constraints='',\n",
       "             learning_rate=0.01, max_bin=256, max_cat_to_onehot=4,\n",
       "             max_delta_step=0, max_depth=5, max_leaves=0, min_child_weight=1,\n",
       "             missing=nan, monotone_constraints='()', n_estimators=2000,\n",
       "             n_jobs=-1, num_parallel_tree=1, predictor='auto', random_state=0,\n",
       "             reg_alpha=0, reg_lambda=1, ...)"
      ]
     },
     "execution_count": 17,
     "metadata": {},
     "output_type": "execute_result"
    }
   ],
   "source": [
    "model = xgb.XGBRegressor(\n",
    "    objective=\"reg:squarederror\",\n",
    "    max_depth=5,\n",
    "    learning_rate=0.01,\n",
    "    n_estimators=2000,\n",
    "    n_jobs=-1,\n",
    "    colsample_bytree=0.5,\n",
    ")\n",
    "model.fit(X_train, y_train)"
   ]
  },
  {
   "cell_type": "code",
   "execution_count": 18,
   "id": "098d3ec1-1107-4b51-99c2-2fe5892ccd43",
   "metadata": {},
   "outputs": [],
   "source": [
    "X_test = X_df[X_df[\"date\"].isin(moon_test)]"
   ]
  },
  {
   "cell_type": "code",
   "execution_count": 19,
   "id": "e345d641-b588-49cf-81da-69535a51e83d",
   "metadata": {},
   "outputs": [
    {
     "name": "stderr",
     "output_type": "stream",
     "text": [
      "/tmp/ipykernel_15876/4018870829.py:1: SettingWithCopyWarning: \n",
      "A value is trying to be set on a copy of a slice from a DataFrame\n",
      "\n",
      "See the caveats in the documentation: https://pandas.pydata.org/pandas-docs/stable/user_guide/indexing.html#returning-a-view-versus-a-copy\n",
      "  X_test.drop('date', axis=1, inplace=True)\n"
     ]
    }
   ],
   "source": [
    "X_test.drop(\"date\", axis=1, inplace=True)"
   ]
  },
  {
   "cell_type": "code",
   "execution_count": 20,
   "id": "139274ef-90f7-439d-a570-2ad9b7c4e1ea",
   "metadata": {},
   "outputs": [],
   "source": [
    "y_test = y_df.iloc[X_test.index]"
   ]
  },
  {
   "cell_type": "code",
   "execution_count": 21,
   "id": "9923feaf-9551-408b-af6b-24c0f1af0474",
   "metadata": {},
   "outputs": [],
   "source": [
    "pred = model.predict(X_test)"
   ]
  },
  {
   "cell_type": "code",
   "execution_count": null,
   "id": "4325191b-9775-48de-b426-b8ef7ab2413b",
   "metadata": {},
   "outputs": [],
   "source": []
  }
 ],
 "metadata": {
  "kernelspec": {
   "display_name": "Python 3 (ipykernel)",
   "language": "python",
   "name": "python3"
  },
  "language_info": {
   "codemirror_mode": {
    "name": "ipython",
    "version": 3
   },
   "file_extension": ".py",
   "mimetype": "text/x-python",
   "name": "python",
   "nbconvert_exporter": "python",
   "pygments_lexer": "ipython3",
   "version": "3.9.6"
  }
 },
 "nbformat": 4,
 "nbformat_minor": 5
}
