{
 "cells": [
  {
   "cell_type": "code",
   "execution_count": 21,
   "id": "285da54b-4302-4b16-9eac-f3d0661b67e3",
   "metadata": {},
   "outputs": [],
   "source": [
    "import numpy as np\n",
    "import lightgbm as lgb\n",
    "import pandas as pd\n",
    "import sklearn"
   ]
  },
  {
   "cell_type": "code",
   "execution_count": 22,
   "id": "b7f5d5ed-7f83-4575-b26c-44f7d06ab44e",
   "metadata": {},
   "outputs": [],
   "source": [
    "# create random dataset\n",
    "f_matrix = pd.read_parquet(\"../data/f_matrix.parquet\")  # [50030 rows x 8 columns]\n",
    "b_matrix = pd.read_parquet(\"../data/b_matrix.parquet\")  # [50030 rows x 85 columns]\n",
    "targets = pd.read_parquet(\"../data/target.parquet\")  # [50030 rows x 5 columns]"
   ]
  },
  {
   "cell_type": "code",
   "execution_count": 23,
   "id": "0691a9a2-dc84-409e-a14b-5c063623742a",
   "metadata": {},
   "outputs": [],
   "source": [
    "moons = f_matrix.date.unique()"
   ]
  },
  {
   "cell_type": "code",
   "execution_count": 24,
   "id": "de1ff8db-232d-4d6f-b559-7eedc7633a12",
   "metadata": {},
   "outputs": [],
   "source": [
    "# set hyperparameters for lightGBM\n",
    "params = {\n",
    "    \"objective\": \"regression\",\n",
    "    \"max_depth\": 16,\n",
    "    # 'learning_rate': 0.1,\n",
    "    # \"num_leaves\": 131072,\n",
    "    # 'n_estimators': 2000,\n",
    "}"
   ]
  },
  {
   "cell_type": "code",
   "execution_count": null,
   "id": "2501c647-f3d8-48e2-bd33-fe9ed3ec0b21",
   "metadata": {},
   "outputs": [],
   "source": [
    "error = []\n",
    "# define custom loss function\n",
    "def custom_loss(y_true, data):\n",
    "    print(\" handling moon\", moon)\n",
    "    y_hat = data.get_label()\n",
    "    Omega = np.identity(len(y_hat)) - np.dot(b_moon, np.linalg.pinv(b_moon))\n",
    "    z_hat = np.dot(Omega, y_hat)\n",
    "\n",
    "    error.append(np.dot(z_hat - y_true, z_hat - y_true) / len(y_hat))\n",
    "    print(error[-1])\n",
    "\n",
    "    grad = 2 * np.dot(Omega, np.dot(Omega, y_hat) - y_true) / len(y_hat)\n",
    "    hess = np.ones_like(grad)  # 2*np.dot(Omega, Omega)\n",
    "    return (grad, hess)"
   ]
  },
  {
   "cell_type": "code",
   "execution_count": null,
   "id": "8f77092b-c862-4828-b326-47a0d3c2d219",
   "metadata": {},
   "outputs": [],
   "source": [
    "# train model for 5 epochs using custom loss function\n",
    "for i in range(2):\n",
    "    print(f\"Epoch {i+1}\")\n",
    "    # create minibatch of data\n",
    "    # batch_size = 100\n",
    "    for moon in moons:\n",
    "        X_moon = f_matrix[f_matrix.date == moon].drop(columns=[\"date\"]).values\n",
    "        y_moon = (\n",
    "            targets[targets.date == moon].drop(columns=[\"date\"]).values[:, -1].ravel()\n",
    "        )\n",
    "\n",
    "        b_moon = b_matrix[b_matrix.date == moon].drop(columns=[\"date\"]).values\n",
    "        # train model on minibatch using custom loss function\n",
    "        # import pdb; pdb.set_trace()\n",
    "        train_data_batch = lgb.Dataset(X_moon, label=y_moon)\n",
    "        lgb.train(params, train_data_batch, num_boost_round=1, fobj=custom_loss)"
   ]
  },
  {
   "cell_type": "code",
   "execution_count": null,
   "id": "86cdc51b-3f07-4866-9eb7-2f526752c28e",
   "metadata": {},
   "outputs": [],
   "source": [
    "import matplotlib.pyplot as plt"
   ]
  },
  {
   "cell_type": "code",
   "execution_count": 17,
   "id": "4c3ed8c6-a3ba-4459-8041-e2656234de9b",
   "metadata": {},
   "outputs": [
    {
     "data": {
      "text/plain": [
       "[<matplotlib.lines.Line2D at 0x7f2eb2db8d60>]"
      ]
     },
     "execution_count": 17,
     "metadata": {},
     "output_type": "execute_result"
    },
    {
     "data": {
      "image/png": "[encoded data removed]",
      "text/plain": [
       "<Figure size 432x288 with 1 Axes>"
      ]
     },
     "metadata": {
      "needs_background": "light"
     },
     "output_type": "display_data"
    }
   ],
   "source": [
    "plt.plot(error)"
   ]
  },
  {
   "cell_type": "code",
   "execution_count": null,
   "id": "06acf6b1-d897-4a9d-a233-1be10b1cb99b",
   "metadata": {},
   "outputs": [],
   "source": []
  }
 ],
 "metadata": {
  "kernelspec": {
   "display_name": "Python 3 (ipykernel)",
   "language": "python",
   "name": "python3"
  },
  "language_info": {
   "codemirror_mode": {
    "name": "ipython",
    "version": 3
   },
   "file_extension": ".py",
   "mimetype": "text/x-python",
   "name": "python",
   "nbconvert_exporter": "python",
   "pygments_lexer": "ipython3",
   "version": "3.9.6"
  },
  "vscode": {
   "interpreter": {
    "hash": "089b01a02bffe9aaebf7c1d1c15dfcabf0b6eb8680835f8b4303bc7c7964f23e"
   }
  }
 },
 "nbformat": 4,
 "nbformat_minor": 5
}
