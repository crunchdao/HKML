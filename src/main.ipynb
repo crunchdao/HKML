{
 "cells": [
  {
   "cell_type": "code",
   "execution_count": 1,
   "metadata": {},
   "outputs": [],
   "source": [
    "import pandas as pd\n",
    "import numpy as np\n",
    "from models.kernel_regression import kernel_ridge_regressor\n",
    "from utils.handling_predictions import spear, pear\n",
    "from data import Data_nn3ml\n",
    "import matplotlib.pyplot as plt"
   ]
  },
  {
   "cell_type": "code",
   "execution_count": 2,
   "metadata": {},
   "outputs": [],
   "source": [
    "X = pd.read_parquet(\"../data/X_HKML.parquet\")\n",
    "B = pd.read_parquet(\"../data/B_HKML.parquet\")\n",
    "Y = pd.read_parquet(\"../data/Y_HKML.parquet\")"
   ]
  },
  {
   "cell_type": "code",
   "execution_count": 3,
   "metadata": {},
   "outputs": [],
   "source": [
    "data = Data_nn3ml(X, B, Y)"
   ]
  },
  {
   "cell_type": "code",
   "execution_count": 4,
   "metadata": {},
   "outputs": [],
   "source": [
    "X_train, B_train, y_train = data.train_data(batch_size = 5)\n",
    "X_df, B_df, y_df, all_epochs = data.X_df, data.B_df, data.y_df, data.all_epochs"
   ]
  },
  {
   "cell_type": "code",
   "execution_count": 5,
   "metadata": {},
   "outputs": [],
   "source": [
    "model = kernel_ridge_regressor(metric = \"linear\") # try kernel = \"rbf\""
   ]
  },
  {
   "cell_type": "code",
   "execution_count": 6,
   "metadata": {},
   "outputs": [
    {
     "name": "stderr",
     "output_type": "stream",
     "text": [
      "100%|██████████| 2/2 [00:00<00:00,  4.02it/s]\n"
     ]
    }
   ],
   "source": [
    "y_hat_df = model.train((X_train, B_train, y_train, X_df, B_df, y_df, all_epochs),  batch_size = 5, future_moons = 2, C = 3, D = 0, exposure = False)"
   ]
  },
  {
   "cell_type": "code",
   "execution_count": 7,
   "metadata": {},
   "outputs": [
    {
     "data": {
      "text/html": [
       "<div>\n",
       "<style scoped>\n",
       "    .dataframe tbody tr th:only-of-type {\n",
       "        vertical-align: middle;\n",
       "    }\n",
       "\n",
       "    .dataframe tbody tr th {\n",
       "        vertical-align: top;\n",
       "    }\n",
       "\n",
       "    .dataframe thead th {\n",
       "        text-align: right;\n",
       "    }\n",
       "</style>\n",
       "<table border=\"1\" class=\"dataframe\">\n",
       "  <thead>\n",
       "    <tr style=\"text-align: right;\">\n",
       "      <th></th>\n",
       "      <th>date</th>\n",
       "      <th>y_hat</th>\n",
       "      <th>y_test</th>\n",
       "    </tr>\n",
       "  </thead>\n",
       "  <tbody>\n",
       "    <tr>\n",
       "      <th>4956</th>\n",
       "      <td>2016-03-23</td>\n",
       "      <td>-0.006939</td>\n",
       "      <td>0.003989</td>\n",
       "    </tr>\n",
       "    <tr>\n",
       "      <th>4957</th>\n",
       "      <td>2016-03-23</td>\n",
       "      <td>-0.001400</td>\n",
       "      <td>-0.027218</td>\n",
       "    </tr>\n",
       "    <tr>\n",
       "      <th>4958</th>\n",
       "      <td>2016-03-23</td>\n",
       "      <td>0.006844</td>\n",
       "      <td>-0.017939</td>\n",
       "    </tr>\n",
       "    <tr>\n",
       "      <th>4959</th>\n",
       "      <td>2016-03-23</td>\n",
       "      <td>-0.006416</td>\n",
       "      <td>0.016825</td>\n",
       "    </tr>\n",
       "    <tr>\n",
       "      <th>4960</th>\n",
       "      <td>2016-03-23</td>\n",
       "      <td>0.006470</td>\n",
       "      <td>-0.016797</td>\n",
       "    </tr>\n",
       "    <tr>\n",
       "      <th>...</th>\n",
       "      <td>...</td>\n",
       "      <td>...</td>\n",
       "      <td>...</td>\n",
       "    </tr>\n",
       "    <tr>\n",
       "      <th>6904</th>\n",
       "      <td>2016-03-30</td>\n",
       "      <td>-0.010988</td>\n",
       "      <td>-0.021652</td>\n",
       "    </tr>\n",
       "    <tr>\n",
       "      <th>6905</th>\n",
       "      <td>2016-03-30</td>\n",
       "      <td>0.006477</td>\n",
       "      <td>-0.107546</td>\n",
       "    </tr>\n",
       "    <tr>\n",
       "      <th>6906</th>\n",
       "      <td>2016-03-30</td>\n",
       "      <td>0.003593</td>\n",
       "      <td>-0.018299</td>\n",
       "    </tr>\n",
       "    <tr>\n",
       "      <th>6907</th>\n",
       "      <td>2016-03-30</td>\n",
       "      <td>0.006692</td>\n",
       "      <td>0.007063</td>\n",
       "    </tr>\n",
       "    <tr>\n",
       "      <th>6908</th>\n",
       "      <td>2016-03-30</td>\n",
       "      <td>-0.002085</td>\n",
       "      <td>-0.020501</td>\n",
       "    </tr>\n",
       "  </tbody>\n",
       "</table>\n",
       "<p>1953 rows × 3 columns</p>\n",
       "</div>"
      ],
      "text/plain": [
       "           date     y_hat    y_test\n",
       "4956 2016-03-23 -0.006939  0.003989\n",
       "4957 2016-03-23 -0.001400 -0.027218\n",
       "4958 2016-03-23  0.006844 -0.017939\n",
       "4959 2016-03-23 -0.006416  0.016825\n",
       "4960 2016-03-23  0.006470 -0.016797\n",
       "...         ...       ...       ...\n",
       "6904 2016-03-30 -0.010988 -0.021652\n",
       "6905 2016-03-30  0.006477 -0.107546\n",
       "6906 2016-03-30  0.003593 -0.018299\n",
       "6907 2016-03-30  0.006692  0.007063\n",
       "6908 2016-03-30 -0.002085 -0.020501\n",
       "\n",
       "[1953 rows x 3 columns]"
      ]
     },
     "execution_count": 7,
     "metadata": {},
     "output_type": "execute_result"
    }
   ],
   "source": [
    "y_hat_df"
   ]
  },
  {
   "cell_type": "code",
   "execution_count": 8,
   "metadata": {},
   "outputs": [],
   "source": [
    "spearman_history = y_hat_df.groupby(\"date\").apply(lambda x: spear(x))"
   ]
  },
  {
   "cell_type": "code",
   "execution_count": null,
   "metadata": {},
   "outputs": [],
   "source": [
    "pearson_history = y_hat_df.groupby(\"date\").apply(lambda x: pear(x))"
   ]
  },
  {
   "cell_type": "code",
   "execution_count": null,
   "metadata": {},
   "outputs": [],
   "source": []
  }
 ],
 "metadata": {
  "kernelspec": {
   "display_name": "c_dao_env",
   "language": "python",
   "name": "c_dao_env"
  },
  "language_info": {
   "codemirror_mode": {
    "name": "ipython",
    "version": 3
   },
   "file_extension": ".py",
   "mimetype": "text/x-python",
   "name": "python",
   "nbconvert_exporter": "python",
   "pygments_lexer": "ipython3",
   "version": "3.9.12"
  },
  "orig_nbformat": 4
 },
 "nbformat": 4,
 "nbformat_minor": 2
}
