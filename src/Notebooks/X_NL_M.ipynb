{
 "cells": [
  {
   "cell_type": "code",
   "execution_count": 1,
   "metadata": {},
   "outputs": [
    {
     "name": "stderr",
     "output_type": "stream",
     "text": [
      "/opt/conda/lib/python3.9/site-packages/scipy/__init__.py:146: UserWarning: A NumPy version >=1.16.5 and <1.23.0 is required for this version of SciPy (detected version 1.24.2\n",
      "  warnings.warn(f\"A NumPy version >={np_minversion} and <{np_maxversion}\"\n"
     ]
    }
   ],
   "source": [
    "import numpy as np\n",
    "import pandas as pd\n",
    "from sklearn.metrics.pairwise import pairwise_kernels\n",
    "import matplotlib.pyplot as plt\n",
    "from tqdm import tqdm"
   ]
  },
  {
   "cell_type": "markdown",
   "metadata": {},
   "source": [
    "# Model"
   ]
  },
  {
   "cell_type": "code",
   "execution_count": 2,
   "metadata": {},
   "outputs": [],
   "source": [
    "B = pd.read_parquet(\"../data/B_HKML.parquet\")\n",
    "all_epochs = B.date.unique()\n",
    "batch_size = 25\n",
    "epochs = all_epochs[:batch_size]\n",
    "X_df = pd.read_parquet(\"../data/X_HKML.parquet\")\n",
    "X_train = X_df[X_df[\"date\"].isin(epochs)].drop(\"date\", axis=1).to_numpy()"
   ]
  },
  {
   "cell_type": "code",
   "execution_count": 3,
   "metadata": {},
   "outputs": [],
   "source": [
    "i = B.shape[1] - 1\n",
    "j = 0\n",
    "for epoch in epochs:\n",
    "    B_np = B[B[\"date\"] == epoch].drop(\"date\", axis=1).to_numpy().T\n",
    "    j += B_np.shape[1]\n",
    "\n",
    "Batch_B = np.zeros((i, j))\n",
    "\n",
    "j = 0\n",
    "for epoch in epochs:\n",
    "    B_np = B[B[\"date\"] == epoch].drop(\"date\", axis=1).to_numpy().T\n",
    "    dj = B_np.shape[1]\n",
    "    Batch_B[:, j : j + dj] = B_np\n",
    "\n",
    "    j += dj\n",
    "B_train = Batch_B"
   ]
  },
  {
   "cell_type": "markdown",
   "metadata": {},
   "source": [
    "# Gaussianize Target"
   ]
  },
  {
   "cell_type": "code",
   "execution_count": 4,
   "metadata": {},
   "outputs": [],
   "source": [
    "import sys\n",
    "\n",
    "sys.path.insert(1, \"../../feature-engineering/src\")\n",
    "from class_ import Data\n",
    "\n",
    "y_df = pd.read_parquet(\"../data/Y_HKML.parquet\")"
   ]
  },
  {
   "cell_type": "code",
   "execution_count": 5,
   "metadata": {},
   "outputs": [
    {
     "data": {
      "application/vnd.jupyter.widget-view+json": {
       "model_id": "7cc68948523849689af892656c132009",
       "version_major": 2,
       "version_minor": 0
      },
      "text/plain": [
       "  0%|          | 0/1 [00:00<?, ?it/s]"
      ]
     },
     "metadata": {},
     "output_type": "display_data"
    },
    {
     "data": {
      "application/vnd.jupyter.widget-view+json": {
       "model_id": "b353a76490b64c7cb436fc6fc1e1aede",
       "version_major": 2,
       "version_minor": 0
      },
      "text/plain": [
       "  0%|          | 0/1 [00:00<?, ?it/s]"
      ]
     },
     "metadata": {},
     "output_type": "display_data"
    }
   ],
   "source": [
    "y_date = pd.concat([X_df[\"date\"], y_df], axis=1)\n",
    "data = Data(f_matrix=y_date, b_matrix=B)\n",
    "data.gaussianize()\n",
    "data.standardize()\n",
    "y_date = data.f_matrix\n",
    "y_df = y_date.iloc[:, 1]\n",
    "y_train = y_df.iloc[: len(X_train)].to_numpy().ravel()"
   ]
  },
  {
   "cell_type": "markdown",
   "metadata": {},
   "source": [
    "# compute coefficients"
   ]
  },
  {
   "cell_type": "code",
   "execution_count": 6,
   "metadata": {},
   "outputs": [],
   "source": [
    "metric = \"rbf\""
   ]
  },
  {
   "cell_type": "code",
   "execution_count": 7,
   "metadata": {},
   "outputs": [],
   "source": [
    "# Values of C and D to be fine tuned to have good mse out of sample and good orthogonality out of sample?\n",
    "C = 3.0\n",
    "D = 0\n",
    "\n",
    "K = pairwise_kernels(X_train, metric=metric)\n",
    "BBK = B_train.T @ B_train @ K\n",
    "M = K + C * np.identity(K.shape[0]) + D * BBK\n",
    "dual_coef = np.linalg.solve(M, y_train)"
   ]
  },
  {
   "cell_type": "markdown",
   "metadata": {},
   "source": [
    "# Estimate"
   ]
  },
  {
   "cell_type": "code",
   "execution_count": 8,
   "metadata": {},
   "outputs": [],
   "source": [
    "future_moons = 50\n",
    "y_hat_df = pd.DataFrame()\n",
    "y_hat_df[\"date\"] = X_df[\n",
    "    X_df[\"date\"].isin(all_epochs[batch_size : batch_size + future_moons])\n",
    "].date\n",
    "y_hat_df[\"y_hat\"] = np.nan\n",
    "y_hat_df[\"y_test\"] = np.nan"
   ]
  },
  {
   "cell_type": "code",
   "execution_count": null,
   "metadata": {},
   "outputs": [
    {
     "name": "stderr",
     "output_type": "stream",
     "text": [
      " 78%|███████▊  | 39/50 [06:36<02:33, 13.93s/it]"
     ]
    }
   ],
   "source": [
    "for moon in tqdm(range(future_moons)):\n",
    "    epochs = all_epochs[0 : batch_size + moon + 1]\n",
    "\n",
    "    j = 0\n",
    "    for epoch in epochs:\n",
    "        B_np = B[B[\"date\"] == epoch].drop(\"date\", axis=1).to_numpy().T\n",
    "        j += B_np.shape[1]\n",
    "\n",
    "    Batch_B = np.zeros((i, j))\n",
    "\n",
    "    j = 0\n",
    "    for epoch in epochs:\n",
    "        B_np = B[B[\"date\"] == epoch].drop(\"date\", axis=1).to_numpy().T\n",
    "        dj = B_np.shape[1]\n",
    "        Batch_B[:, j : j + dj] = B_np\n",
    "\n",
    "        j += dj\n",
    "    B_test = Batch_B\n",
    "\n",
    "    X_test = X_df[X_df[\"date\"].isin(epochs)].drop(\"date\", axis=1).to_numpy()\n",
    "\n",
    "    y_test = y_df.iloc[: len(X_test)].to_numpy().ravel()\n",
    "\n",
    "    K_hat = pairwise_kernels(X_test, X_train, metric=metric)\n",
    "\n",
    "    y_hat = K_hat @ dual_coef\n",
    "\n",
    "    exp_vec = B_test @ y_hat\n",
    "    exp = np.dot(exp_vec, exp_vec)\n",
    "\n",
    "    # print('Factor Exposure')\n",
    "    # print(exp)\n",
    "    # leastsquare = np.dot(y_test - y_hat, y_test - y_hat)\n",
    "    # print('Least Square Error')\n",
    "    # print(leastsquare)\n",
    "    # ridge = K_hat @ dual_coef\n",
    "    # print('Regularization Loss')\n",
    "    # print(np.dot(ridge, ridge))\n",
    "\n",
    "    y_hat_df.loc[y_hat_df[\"date\"] == epochs[-1], \"y_hat\"] = y_hat[-dj:]\n",
    "    y_hat_df.loc[y_hat_df[\"date\"] == epochs[-1], \"y_test\"] = y_test[-dj:]"
   ]
  },
  {
   "cell_type": "code",
   "execution_count": null,
   "metadata": {},
   "outputs": [],
   "source": [
    "def spear(x):\n",
    "    pear = x.corr(numeric_only=True)\n",
    "    pear = pear.iloc[0, 1]\n",
    "    spear = x.corr(numeric_only=True, method=\"spearman\")\n",
    "    spear = spear.iloc[0, 1]\n",
    "    return spear"
   ]
  },
  {
   "cell_type": "code",
   "execution_count": null,
   "metadata": {},
   "outputs": [],
   "source": [
    "metrics_history = y_hat_df.groupby(\"date\").apply(lambda x: spear(x))"
   ]
  },
  {
   "cell_type": "code",
   "execution_count": null,
   "metadata": {},
   "outputs": [],
   "source": [
    "metrics_history.plot(grid=\"on\")\n",
    "plt.axhline(y=metrics_history.mean(), color=\"r\", linestyle=\"-\")\n",
    "plt.title(f\"Mean: {metrics_history.mean()}\")\n",
    "plt.show()"
   ]
  },
  {
   "cell_type": "code",
   "execution_count": null,
   "metadata": {},
   "outputs": [],
   "source": []
  }
 ],
 "metadata": {
  "kernelspec": {
   "display_name": "Python 3 (ipykernel)",
   "language": "python",
   "name": "python3"
  },
  "language_info": {
   "codemirror_mode": {
    "name": "ipython",
    "version": 3
   },
   "file_extension": ".py",
   "mimetype": "text/x-python",
   "name": "python",
   "nbconvert_exporter": "python",
   "pygments_lexer": "ipython3",
   "version": "3.9.6"
  },
  "vscode": {
   "interpreter": {
    "hash": "133758f7398fd0467a71a5c0a2157b985c7b024a8db95d3dabb6bab8c277f921"
   }
  }
 },
 "nbformat": 4,
 "nbformat_minor": 4
}
