{
 "cells": [
  {
   "cell_type": "code",
   "execution_count": 260,
   "id": "17d96b8c-f415-49ec-a052-4e57cf3fe8e4",
   "metadata": {},
   "outputs": [],
   "source": [
    "import pandas as pd\n",
    "import matplotlib.pyplot as plt\n",
    "import numpy as np\n",
    "from sklearn import datasets, linear_model, model_selection\n",
    "from sklearn.metrics import mean_squared_error, r2_score\n",
    "from tqdm import tqdm\n",
    "\n",
    "import seaborn as sns\n",
    "from sklearn.metrics.pairwise import pairwise_kernels\n",
    "\n",
    "import scipy"
   ]
  },
  {
   "cell_type": "code",
   "execution_count": 261,
   "id": "284b6101-5cac-44d9-8844-4a3d8ec92a80",
   "metadata": {},
   "outputs": [],
   "source": [
    "B = pd.read_parquet(\"./data/B_HKML.parquet\")"
   ]
  },
  {
   "cell_type": "code",
   "execution_count": 251,
   "id": "58485f4e-3237-4605-adc4-954cd177e28a",
   "metadata": {},
   "outputs": [],
   "source": [
    "all_epochs = B.date.unique()"
   ]
  },
  {
   "cell_type": "code",
   "execution_count": 252,
   "id": "ee53deb3-0f8f-4b66-9aff-5cffa002d981",
   "metadata": {},
   "outputs": [],
   "source": [
    "epochs = all_epochs[:1]"
   ]
  },
  {
   "cell_type": "code",
   "execution_count": 253,
   "id": "139b1fd8-9cfc-4e88-8448-3793db99a766",
   "metadata": {},
   "outputs": [
    {
     "data": {
      "text/plain": [
       "array(['2016-02-17T00:00:00.000000000'], dtype='datetime64[ns]')"
      ]
     },
     "execution_count": 253,
     "metadata": {},
     "output_type": "execute_result"
    }
   ],
   "source": [
    "epochs"
   ]
  },
  {
   "cell_type": "code",
   "execution_count": 254,
   "id": "987d1d9b-74e0-482c-a2fd-9b34a9772918",
   "metadata": {},
   "outputs": [],
   "source": [
    "i = 0\n",
    "j = 0\n",
    "for epoch in epochs:\n",
    "    B_np = B[B[\"date\"] == epoch].drop(\"date\", axis=1).to_numpy().T\n",
    "    i += B_np.shape[0]\n",
    "    j += B_np.shape[1]"
   ]
  },
  {
   "cell_type": "code",
   "execution_count": 255,
   "id": "0948149c-bbdf-42df-8ba6-78303d89de12",
   "metadata": {},
   "outputs": [],
   "source": [
    "Big_B = np.zeros((i, j))"
   ]
  },
  {
   "cell_type": "code",
   "execution_count": 256,
   "id": "d4a1d126-0d41-473e-bb6e-adc29edfa321",
   "metadata": {},
   "outputs": [],
   "source": [
    "i = 0\n",
    "j = 0\n",
    "for epoch in epochs:\n",
    "    B_np = B[B[\"date\"] == epoch].drop(\"date\", axis=1).to_numpy().T\n",
    "\n",
    "    di = B_np.shape[0]\n",
    "    dj = B_np.shape[1]\n",
    "\n",
    "    Big_B[i : i + di, j : j + dj] = B_np\n",
    "\n",
    "    i += di\n",
    "    j += dj"
   ]
  },
  {
   "cell_type": "code",
   "execution_count": 257,
   "id": "b7f957b2-cc20-4437-b13c-66c14f68385d",
   "metadata": {},
   "outputs": [],
   "source": [
    "B = Big_B"
   ]
  },
  {
   "cell_type": "code",
   "execution_count": 258,
   "id": "da6ae558-3732-418c-b8e4-7e09665a5da5",
   "metadata": {},
   "outputs": [],
   "source": [
    "# plt.figure(figsize=(15, 10))\n",
    "# sns.heatmap(np.abs(B))\n",
    "# plt.show()"
   ]
  },
  {
   "cell_type": "code",
   "execution_count": 259,
   "id": "8ee1613a-d80b-4d16-97ca-0da563c86f2d",
   "metadata": {},
   "outputs": [
    {
     "data": {
      "text/plain": [
       "(85, 996)"
      ]
     },
     "execution_count": 259,
     "metadata": {},
     "output_type": "execute_result"
    }
   ],
   "source": [
    "B.shape"
   ]
  },
  {
   "cell_type": "code",
   "execution_count": 232,
   "id": "9b88ea48-16b8-4d91-98e4-ad092f26a7f0",
   "metadata": {},
   "outputs": [
    {
     "data": {
      "text/plain": [
       "(996, 160)"
      ]
     },
     "execution_count": 232,
     "metadata": {},
     "output_type": "execute_result"
    }
   ],
   "source": [
    "X_df = pd.read_parquet(\"./data/X_HKML.parquet\")\n",
    "X = X_df[X_df[\"date\"].isin(epochs)].drop(\"date\", axis=1).to_numpy()\n",
    "X.shape"
   ]
  },
  {
   "cell_type": "code",
   "execution_count": 233,
   "id": "31eb1373-ee46-43f2-8db1-5d1dd1f965e6",
   "metadata": {},
   "outputs": [
    {
     "data": {
      "text/plain": [
       "(996,)"
      ]
     },
     "execution_count": 233,
     "metadata": {},
     "output_type": "execute_result"
    }
   ],
   "source": [
    "y_df = pd.read_parquet(\"./data/Y_HKML.parquet\")\n",
    "y = y_df.iloc[: len(X)].to_numpy().ravel()\n",
    "y.shape"
   ]
  },
  {
   "cell_type": "code",
   "execution_count": 234,
   "id": "c5ded4d0-c7bb-44d5-b091-9f41d2a18bdc",
   "metadata": {},
   "outputs": [],
   "source": [
    "C = 0.0\n",
    "D = 100.0"
   ]
  },
  {
   "cell_type": "code",
   "execution_count": 247,
   "id": "f6c1c657-fec5-42a0-86c7-c46805a826d8",
   "metadata": {
    "tags": []
   },
   "outputs": [],
   "source": [
    "K = pairwise_kernels(X, metric=\"rbf\")\n",
    "# plt.figure(figsize=(15, 10))\n",
    "# sns.heatmap(K)\n",
    "# plt.show()"
   ]
  },
  {
   "cell_type": "code",
   "execution_count": 248,
   "id": "f56b5f22-c562-4258-9274-ff356de84414",
   "metadata": {},
   "outputs": [],
   "source": [
    "BBK = B.T @ B @ K"
   ]
  },
  {
   "cell_type": "code",
   "execution_count": 246,
   "id": "6501d2a7-b60e-4961-863d-f615849465d5",
   "metadata": {},
   "outputs": [],
   "source": [
    "# plt.figure(figsize=(15, 10))\n",
    "# sns.heatmap(BBK)\n",
    "# plt.show()"
   ]
  },
  {
   "cell_type": "code",
   "execution_count": 238,
   "id": "1eda7160-044a-42da-bb64-7fbdbfc7f951",
   "metadata": {},
   "outputs": [],
   "source": [
    "M = K + C * np.identity(K.shape[0]) + D * BBK"
   ]
  },
  {
   "cell_type": "code",
   "execution_count": 239,
   "id": "f8f755a9-2e56-4bea-83cb-e54dcba8cf80",
   "metadata": {},
   "outputs": [
    {
     "data": {
      "text/plain": [
       "(996, 996)"
      ]
     },
     "execution_count": 239,
     "metadata": {},
     "output_type": "execute_result"
    }
   ],
   "source": [
    "M.shape"
   ]
  },
  {
   "cell_type": "code",
   "execution_count": 240,
   "id": "b119299f-f0fa-4831-b067-f921ae3ddf24",
   "metadata": {},
   "outputs": [],
   "source": [
    "# plt.figure(figsize=(15, 10))\n",
    "# sns.heatmap(M)\n",
    "# plt.show()"
   ]
  },
  {
   "cell_type": "code",
   "execution_count": 241,
   "id": "1352ee50-3be0-4f97-a825-ed9404a4c8d8",
   "metadata": {},
   "outputs": [],
   "source": [
    "dual_coef = np.linalg.solve(M, y)"
   ]
  },
  {
   "cell_type": "code",
   "execution_count": 242,
   "id": "bd2381a2-dd20-47d6-a45a-62f787ab999f",
   "metadata": {},
   "outputs": [
    {
     "data": {
      "text/plain": [
       "(996,)"
      ]
     },
     "execution_count": 242,
     "metadata": {},
     "output_type": "execute_result"
    }
   ],
   "source": [
    "dual_coef.shape"
   ]
  },
  {
   "cell_type": "markdown",
   "id": "82f6a360-9f0f-47cb-b20e-a8a74dfc75ef",
   "metadata": {},
   "source": [
    "# Predict"
   ]
  },
  {
   "cell_type": "code",
   "execution_count": 189,
   "id": "13f136a1-3b29-4bdb-8c21-001b0854a778",
   "metadata": {},
   "outputs": [],
   "source": [
    "Xp = X"
   ]
  },
  {
   "cell_type": "code",
   "execution_count": 190,
   "id": "ce311a74-f4dc-49a7-b078-58ebeb416ad3",
   "metadata": {},
   "outputs": [],
   "source": [
    "Kp = pairwise_kernels(Xp, X, metric=\"rbf\")"
   ]
  },
  {
   "cell_type": "code",
   "execution_count": 191,
   "id": "99a54e63-a658-46b9-b43d-cec23361577a",
   "metadata": {},
   "outputs": [],
   "source": [
    "yp = Kp @ dual_coef"
   ]
  },
  {
   "cell_type": "code",
   "execution_count": 192,
   "id": "106b2354-e311-45e0-a41e-c79324f87c18",
   "metadata": {},
   "outputs": [
    {
     "data": {
      "text/plain": [
       "4.6013714345243515e-05"
      ]
     },
     "execution_count": 192,
     "metadata": {},
     "output_type": "execute_result"
    }
   ],
   "source": [
    "exp_vec = B @ yp\n",
    "exp = np.dot(exp_vec, exp_vec)\n",
    "exp"
   ]
  },
  {
   "cell_type": "code",
   "execution_count": 193,
   "id": "b90c839b-f7c8-402c-91dc-aae1e64e73eb",
   "metadata": {},
   "outputs": [
    {
     "data": {
      "text/plain": [
       "0.7410185754913977"
      ]
     },
     "execution_count": 193,
     "metadata": {},
     "output_type": "execute_result"
    }
   ],
   "source": [
    "mse = np.dot(y - yp, y - yp)\n",
    "mse"
   ]
  },
  {
   "cell_type": "code",
   "execution_count": 194,
   "id": "011d57df-e29d-456c-9c7c-22c4e33b3133",
   "metadata": {},
   "outputs": [
    {
     "data": {
      "text/plain": [
       "18.38540857739536"
      ]
     },
     "execution_count": 194,
     "metadata": {},
     "output_type": "execute_result"
    }
   ],
   "source": [
    "ridge = dual_coef @ Kp @ dual_coef\n",
    "ridge"
   ]
  },
  {
   "cell_type": "code",
   "execution_count": 195,
   "id": "9366bdbb-520b-4741-8856-6673a82fef8e",
   "metadata": {},
   "outputs": [],
   "source": [
    "y_hat_df = pd.DataFrame()\n",
    "y_hat_df[\"date\"] = X_df[X_df[\"date\"].isin(epochs)].date\n",
    "y_hat_df[\"y_hat\"] = yp\n",
    "y_hat_df[\"Y\"] = y"
   ]
  },
  {
   "cell_type": "code",
   "execution_count": 196,
   "id": "ab6e6109-2f65-4bb4-82a5-a7ed46fc0bb6",
   "metadata": {},
   "outputs": [
    {
     "data": {
      "text/html": [
       "<div>\n",
       "<style scoped>\n",
       "    .dataframe tbody tr th:only-of-type {\n",
       "        vertical-align: middle;\n",
       "    }\n",
       "\n",
       "    .dataframe tbody tr th {\n",
       "        vertical-align: top;\n",
       "    }\n",
       "\n",
       "    .dataframe thead th {\n",
       "        text-align: right;\n",
       "    }\n",
       "</style>\n",
       "<table border=\"1\" class=\"dataframe\">\n",
       "  <thead>\n",
       "    <tr style=\"text-align: right;\">\n",
       "      <th></th>\n",
       "      <th></th>\n",
       "      <th>y_hat</th>\n",
       "      <th>Y</th>\n",
       "    </tr>\n",
       "    <tr>\n",
       "      <th>date</th>\n",
       "      <th></th>\n",
       "      <th></th>\n",
       "      <th></th>\n",
       "    </tr>\n",
       "  </thead>\n",
       "  <tbody>\n",
       "    <tr>\n",
       "      <th rowspan=\"2\" valign=\"top\">2016-02-17</th>\n",
       "      <th>y_hat</th>\n",
       "      <td>1.000000</td>\n",
       "      <td>0.961465</td>\n",
       "    </tr>\n",
       "    <tr>\n",
       "      <th>Y</th>\n",
       "      <td>0.961465</td>\n",
       "      <td>1.000000</td>\n",
       "    </tr>\n",
       "    <tr>\n",
       "      <th rowspan=\"2\" valign=\"top\">2016-02-24</th>\n",
       "      <th>y_hat</th>\n",
       "      <td>1.000000</td>\n",
       "      <td>0.959146</td>\n",
       "    </tr>\n",
       "    <tr>\n",
       "      <th>Y</th>\n",
       "      <td>0.959146</td>\n",
       "      <td>1.000000</td>\n",
       "    </tr>\n",
       "    <tr>\n",
       "      <th rowspan=\"2\" valign=\"top\">2016-03-02</th>\n",
       "      <th>y_hat</th>\n",
       "      <td>1.000000</td>\n",
       "      <td>0.973758</td>\n",
       "    </tr>\n",
       "    <tr>\n",
       "      <th>Y</th>\n",
       "      <td>0.973758</td>\n",
       "      <td>1.000000</td>\n",
       "    </tr>\n",
       "    <tr>\n",
       "      <th rowspan=\"2\" valign=\"top\">2016-03-09</th>\n",
       "      <th>y_hat</th>\n",
       "      <td>1.000000</td>\n",
       "      <td>0.955864</td>\n",
       "    </tr>\n",
       "    <tr>\n",
       "      <th>Y</th>\n",
       "      <td>0.955864</td>\n",
       "      <td>1.000000</td>\n",
       "    </tr>\n",
       "    <tr>\n",
       "      <th rowspan=\"2\" valign=\"top\">2016-03-16</th>\n",
       "      <th>y_hat</th>\n",
       "      <td>1.000000</td>\n",
       "      <td>0.959274</td>\n",
       "    </tr>\n",
       "    <tr>\n",
       "      <th>Y</th>\n",
       "      <td>0.959274</td>\n",
       "      <td>1.000000</td>\n",
       "    </tr>\n",
       "    <tr>\n",
       "      <th rowspan=\"2\" valign=\"top\">2016-03-23</th>\n",
       "      <th>y_hat</th>\n",
       "      <td>1.000000</td>\n",
       "      <td>0.961027</td>\n",
       "    </tr>\n",
       "    <tr>\n",
       "      <th>Y</th>\n",
       "      <td>0.961027</td>\n",
       "      <td>1.000000</td>\n",
       "    </tr>\n",
       "    <tr>\n",
       "      <th rowspan=\"2\" valign=\"top\">2016-03-30</th>\n",
       "      <th>y_hat</th>\n",
       "      <td>1.000000</td>\n",
       "      <td>0.937559</td>\n",
       "    </tr>\n",
       "    <tr>\n",
       "      <th>Y</th>\n",
       "      <td>0.937559</td>\n",
       "      <td>1.000000</td>\n",
       "    </tr>\n",
       "    <tr>\n",
       "      <th rowspan=\"2\" valign=\"top\">2016-04-06</th>\n",
       "      <th>y_hat</th>\n",
       "      <td>1.000000</td>\n",
       "      <td>0.963502</td>\n",
       "    </tr>\n",
       "    <tr>\n",
       "      <th>Y</th>\n",
       "      <td>0.963502</td>\n",
       "      <td>1.000000</td>\n",
       "    </tr>\n",
       "  </tbody>\n",
       "</table>\n",
       "</div>"
      ],
      "text/plain": [
       "                     y_hat         Y\n",
       "date                                \n",
       "2016-02-17 y_hat  1.000000  0.961465\n",
       "           Y      0.961465  1.000000\n",
       "2016-02-24 y_hat  1.000000  0.959146\n",
       "           Y      0.959146  1.000000\n",
       "2016-03-02 y_hat  1.000000  0.973758\n",
       "           Y      0.973758  1.000000\n",
       "2016-03-09 y_hat  1.000000  0.955864\n",
       "           Y      0.955864  1.000000\n",
       "2016-03-16 y_hat  1.000000  0.959274\n",
       "           Y      0.959274  1.000000\n",
       "2016-03-23 y_hat  1.000000  0.961027\n",
       "           Y      0.961027  1.000000\n",
       "2016-03-30 y_hat  1.000000  0.937559\n",
       "           Y      0.937559  1.000000\n",
       "2016-04-06 y_hat  1.000000  0.963502\n",
       "           Y      0.963502  1.000000"
      ]
     },
     "execution_count": 196,
     "metadata": {},
     "output_type": "execute_result"
    }
   ],
   "source": [
    "y_hat_df.groupby(\"date\").corr()"
   ]
  },
  {
   "cell_type": "code",
   "execution_count": null,
   "id": "536a179f-f143-4166-96d6-c9157a7d8c70",
   "metadata": {},
   "outputs": [],
   "source": []
  }
 ],
 "metadata": {
  "kernelspec": {
   "display_name": "Python 3 (ipykernel)",
   "language": "python",
   "name": "python3"
  },
  "language_info": {
   "codemirror_mode": {
    "name": "ipython",
    "version": 3
   },
   "file_extension": ".py",
   "mimetype": "text/x-python",
   "name": "python",
   "nbconvert_exporter": "python",
   "pygments_lexer": "ipython3",
   "version": "3.9.6"
  },
  "vscode": {
   "interpreter": {
    "hash": "089b01a02bffe9aaebf7c1d1c15dfcabf0b6eb8680835f8b4303bc7c7964f23e"
   }
  }
 },
 "nbformat": 4,
 "nbformat_minor": 5
}
