{
 "cells": [
  {
   "cell_type": "code",
   "execution_count": 1,
   "id": "5fa4ae30-9cb4-4cde-9d9f-a24600ddbb4e",
   "metadata": {},
   "outputs": [],
   "source": [
    "import pandas as pd\n",
    "import matplotlib.pyplot as plt\n",
    "import numpy as np\n",
    "from sklearn import datasets, linear_model, model_selection\n",
    "from sklearn.metrics import mean_squared_error, r2_score\n",
    "from tqdm import tqdm\n",
    "\n",
    "import seaborn as sns\n",
    "from sklearn.metrics.pairwise import pairwise_kernels\n",
    "\n",
    "import scipy"
   ]
  },
  {
   "cell_type": "markdown",
   "id": "852ef8fe-5006-4fc9-9683-d3ee95bd365c",
   "metadata": {},
   "source": [
    "# Train model"
   ]
  },
  {
   "cell_type": "code",
   "execution_count": 2,
   "id": "e0b14ddd-4682-41b6-85d7-c4ef5438a6cc",
   "metadata": {},
   "outputs": [],
   "source": [
    "B = pd.read_parquet(\"./data/B_HKML.parquet\")\n",
    "all_epochs = B.date.unique()\n",
    "batch_size = 10\n",
    "epochs = all_epochs[:batch_size]\n",
    "\n",
    "i = B.shape[1] - 1\n",
    "j = 0\n",
    "for epoch in epochs:\n",
    "    B_np = B[B[\"date\"] == epoch].drop(\"date\", axis=1).to_numpy().T\n",
    "    j += B_np.shape[1]\n",
    "\n",
    "Batch_B = np.zeros((i, j))\n",
    "\n",
    "j = 0\n",
    "for epoch in epochs:\n",
    "    B_np = B[B[\"date\"] == epoch].drop(\"date\", axis=1).to_numpy().T\n",
    "    dj = B_np.shape[1]\n",
    "    Batch_B[:, j : j + dj] = B_np\n",
    "\n",
    "    j += dj\n",
    "B_train = Batch_B\n",
    "\n",
    "# plt.figure(figsize=(15, 10))\n",
    "# sns.heatmap(np.abs(B))\n",
    "# plt.show()\n",
    "\n",
    "X_df = pd.read_parquet(\"./data/X_HKML.parquet\")\n",
    "X_train = X_df[X_df[\"date\"].isin(epochs)].drop(\"date\", axis=1).to_numpy()"
   ]
  },
  {
   "cell_type": "markdown",
   "id": "4f267288-70f0-4544-981b-b59dbd162192",
   "metadata": {
    "tags": []
   },
   "source": [
    "# Gaussianize Target"
   ]
  },
  {
   "cell_type": "code",
   "execution_count": 4,
   "id": "95fdbad1-a840-455a-8c39-b3e949d1b7ea",
   "metadata": {},
   "outputs": [],
   "source": [
    "import sys\n",
    "\n",
    "sys.path.insert(1, \"../../Feature engg/feature-engineering/src\")\n",
    "from class_ import Data\n",
    "\n",
    "y_df = pd.read_parquet(\"./data/Y_HKML.parquet\")"
   ]
  },
  {
   "cell_type": "code",
   "execution_count": 5,
   "id": "73ac0ef2-b5fd-4853-82ca-3b686ca93a4a",
   "metadata": {},
   "outputs": [],
   "source": [
    "y_date = pd.concat([X_df[\"date\"], y_df], axis=1)"
   ]
  },
  {
   "cell_type": "code",
   "execution_count": 6,
   "id": "f4c61882-66f2-4b00-bb1b-8772c4b014b5",
   "metadata": {},
   "outputs": [],
   "source": [
    "data = Data(f_matrix=y_date, b_matrix=B)"
   ]
  },
  {
   "cell_type": "code",
   "execution_count": 7,
   "id": "de6ff2f3-74d3-4678-8ffe-d8636bd4361a",
   "metadata": {},
   "outputs": [
    {
     "data": {
      "application/vnd.jupyter.widget-view+json": {
       "model_id": "a6e6f2b0d66347f6969c76696e42609b",
       "version_major": 2,
       "version_minor": 0
      },
      "text/plain": [
       "  0%|          | 0/1 [00:00<?, ?it/s]"
      ]
     },
     "metadata": {},
     "output_type": "display_data"
    },
    {
     "data": {
      "text/plain": [
       "0"
      ]
     },
     "execution_count": 7,
     "metadata": {},
     "output_type": "execute_result"
    }
   ],
   "source": [
    "data.gaussianize()"
   ]
  },
  {
   "cell_type": "code",
   "execution_count": 8,
   "id": "768d6d4e-0267-4c02-9797-fdb070c5e08a",
   "metadata": {},
   "outputs": [
    {
     "data": {
      "application/vnd.jupyter.widget-view+json": {
       "model_id": "3428a54f437d4b89a69c11d31b35e7eb",
       "version_major": 2,
       "version_minor": 0
      },
      "text/plain": [
       "  0%|          | 0/1 [00:00<?, ?it/s]"
      ]
     },
     "metadata": {},
     "output_type": "display_data"
    },
    {
     "data": {
      "text/plain": [
       "0"
      ]
     },
     "execution_count": 8,
     "metadata": {},
     "output_type": "execute_result"
    }
   ],
   "source": [
    "data.standardize()"
   ]
  },
  {
   "cell_type": "code",
   "execution_count": 9,
   "id": "43b7700e-af76-4bdd-a4d3-c720fa6f425a",
   "metadata": {},
   "outputs": [],
   "source": [
    "y_date = data.f_matrix"
   ]
  },
  {
   "cell_type": "code",
   "execution_count": 10,
   "id": "7dfc09f9-c881-490c-a7ba-50eda40e6f0b",
   "metadata": {},
   "outputs": [],
   "source": [
    "y_df = y_date.iloc[:, 1]"
   ]
  },
  {
   "cell_type": "code",
   "execution_count": 11,
   "id": "936f136b-3173-4b63-ada9-625b9ff7d69b",
   "metadata": {},
   "outputs": [],
   "source": [
    "y_train = y_df.iloc[: len(X_train)].to_numpy().ravel()"
   ]
  },
  {
   "cell_type": "code",
   "execution_count": 12,
   "id": "57d5bd7e-f344-4fff-92fa-071caa4c48bc",
   "metadata": {},
   "outputs": [],
   "source": [
    "# Values of C and D to be fine tuned to have good mse out of sample and good orthogonality out of sample?\n",
    "C = 3.0\n",
    "D = 100.0\n",
    "\n",
    "K = pairwise_kernels(X_train, metric=\"rbf\")\n",
    "BBK = B_train.T @ B_train @ K\n",
    "M = K + C * np.identity(K.shape[0]) + D * BBK\n",
    "dual_coef = np.linalg.solve(M, y_train)"
   ]
  },
  {
   "cell_type": "markdown",
   "id": "83f9886c-6278-4142-afdc-54dc4ddf1cdb",
   "metadata": {},
   "source": [
    "# Estimate"
   ]
  },
  {
   "cell_type": "code",
   "execution_count": 16,
   "id": "4dc93d78-df3c-40bf-a382-948f9d909476",
   "metadata": {},
   "outputs": [],
   "source": [
    "future_moons = 5"
   ]
  },
  {
   "cell_type": "code",
   "execution_count": 17,
   "id": "988168ae-c650-408d-9b0e-df76a366c39e",
   "metadata": {},
   "outputs": [],
   "source": [
    "y_hat_df = pd.DataFrame()\n",
    "y_hat_df[\"date\"] = X_df[\n",
    "    X_df[\"date\"].isin(all_epochs[batch_size : batch_size + future_moons])\n",
    "].date\n",
    "y_hat_df[\"y_hat\"] = np.nan\n",
    "y_hat_df[\"y_test\"] = np.nan"
   ]
  },
  {
   "cell_type": "code",
   "execution_count": 18,
   "id": "706b6fcc-ce67-4855-ae93-9151d22725e2",
   "metadata": {},
   "outputs": [
    {
     "name": "stderr",
     "output_type": "stream",
     "text": [
      "100%|██████████| 5/5 [00:10<00:00,  2.02s/it]\n"
     ]
    }
   ],
   "source": [
    "for moon in tqdm(range(future_moons)):\n",
    "    epochs = all_epochs[0 : batch_size + moon + 1]\n",
    "\n",
    "    j = 0\n",
    "    for epoch in epochs:\n",
    "        B_np = B[B[\"date\"] == epoch].drop(\"date\", axis=1).to_numpy().T\n",
    "        j += B_np.shape[1]\n",
    "\n",
    "    Batch_B = np.zeros((i, j))\n",
    "\n",
    "    j = 0\n",
    "    for epoch in epochs:\n",
    "        B_np = B[B[\"date\"] == epoch].drop(\"date\", axis=1).to_numpy().T\n",
    "        dj = B_np.shape[1]\n",
    "        Batch_B[:, j : j + dj] = B_np\n",
    "\n",
    "        j += dj\n",
    "    B_test = Batch_B\n",
    "\n",
    "    X_test = X_df[X_df[\"date\"].isin(epochs)].drop(\"date\", axis=1).to_numpy()\n",
    "\n",
    "    y_test = y_df.iloc[: len(X_test)].to_numpy().ravel()\n",
    "\n",
    "    K_hat = pairwise_kernels(X_test, X_train, metric=\"rbf\")\n",
    "\n",
    "    y_hat = K_hat @ dual_coef\n",
    "\n",
    "    exp_vec = B_test @ y_hat\n",
    "    exp = np.dot(exp_vec, exp_vec)\n",
    "\n",
    "    # print('Factor Exposure')\n",
    "    # print(exp)\n",
    "    # leastsquare = np.dot(y_test - y_hat, y_test - y_hat)\n",
    "    # print('Least Square Error')\n",
    "    # print(leastsquare)\n",
    "    # ridge = K_hat @ dual_coef\n",
    "    # print('Regularization Loss')\n",
    "    # print(np.dot(ridge, ridge))\n",
    "\n",
    "    y_hat_df.loc[y_hat_df[\"date\"] == epochs[-1], \"y_hat\"] = y_hat[-dj:]\n",
    "    y_hat_df.loc[y_hat_df[\"date\"] == epochs[-1], \"y_test\"] = y_test[-dj:]"
   ]
  },
  {
   "cell_type": "code",
   "execution_count": 19,
   "id": "aa12af40-58ff-4fbd-9a7f-c8d721e6e9a6",
   "metadata": {},
   "outputs": [],
   "source": [
    "def spear(x):\n",
    "    pear = x.corr(numeric_only=True)\n",
    "    pear = pear.iloc[0, 1]\n",
    "    spear = x.corr(numeric_only=True, method=\"spearman\")\n",
    "    spear = spear.iloc[0, 1]\n",
    "    return spear"
   ]
  },
  {
   "cell_type": "code",
   "execution_count": 20,
   "id": "d6c1b1e7-1b27-4ade-a36e-d637f1025ee5",
   "metadata": {},
   "outputs": [],
   "source": [
    "metrics_history = y_hat_df.groupby(\"date\").apply(lambda x: spear(x))"
   ]
  },
  {
   "cell_type": "code",
   "execution_count": 21,
   "id": "f1489609-fbec-48f7-a3be-2c1513bca9a4",
   "metadata": {},
   "outputs": [
    {
     "data": {
      "image/png": "[encoded data removed]",
      "text/plain": [
       "<Figure size 640x480 with 1 Axes>"
      ]
     },
     "metadata": {},
     "output_type": "display_data"
    }
   ],
   "source": [
    "metrics_history.plot(grid=\"on\")\n",
    "plt.axhline(y=metrics_history.mean(), color=\"r\", linestyle=\"-\")\n",
    "plt.title(f\"Mean: {metrics_history.mean()}\")\n",
    "plt.show()"
   ]
  },
  {
   "cell_type": "code",
   "execution_count": null,
   "id": "f06c0714-2f5b-47eb-8737-cdfcd2607d45",
   "metadata": {},
   "outputs": [],
   "source": []
  }
 ],
 "metadata": {
  "kernelspec": {
   "display_name": "c_dao_env",
   "language": "python",
   "name": "c_dao_env"
  },
  "language_info": {
   "codemirror_mode": {
    "name": "ipython",
    "version": 3
   },
   "file_extension": ".py",
   "mimetype": "text/x-python",
   "name": "python",
   "nbconvert_exporter": "python",
   "pygments_lexer": "ipython3",
   "version": "3.9.12"
  },
  "vscode": {
   "interpreter": {
    "hash": "133758f7398fd0467a71a5c0a2157b985c7b024a8db95d3dabb6bab8c277f921"
   }
  }
 },
 "nbformat": 4,
 "nbformat_minor": 5
}
