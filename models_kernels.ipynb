{
 "cells": [
  {
   "cell_type": "code",
   "execution_count": 1,
   "metadata": {},
   "outputs": [],
   "source": [
    "import pandas as pd\n",
    "import numpy as np\n"
   ]
  },
  {
   "attachments": {},
   "cell_type": "markdown",
   "metadata": {},
   "source": [
    "# Data"
   ]
  },
  {
   "cell_type": "code",
   "execution_count": 2,
   "metadata": {},
   "outputs": [],
   "source": [
    "B = pd.read_parquet('./data/B_HKML.parquet')\n",
    "B = B[B['date'] < '2022-05-01']\n",
    "X_df = pd.read_parquet('./data/X_HKML.parquet')\n",
    "X_df = X_df[X_df['date'] < '2022-05-01']\n",
    "y_df = pd.read_parquet('./data/Y_HKML.parquet')\n",
    "y_df = y_df.iloc[X_df.index]"
   ]
  },
  {
   "attachments": {},
   "cell_type": "markdown",
   "metadata": {},
   "source": [
    "# Gaussianize target"
   ]
  },
  {
   "cell_type": "code",
   "execution_count": 3,
   "metadata": {},
   "outputs": [],
   "source": [
    "import sys\n",
    "#import seaborn as seaborn\n",
    "sys.path.insert(1, \"../../Feature engg/feature-engineering/src\")\n",
    "from class_ import Data"
   ]
  },
  {
   "cell_type": "code",
   "execution_count": 4,
   "metadata": {},
   "outputs": [
    {
     "data": {
      "application/vnd.jupyter.widget-view+json": {
       "model_id": "9ca564f0a0fd43219f838a49c85e7e78",
       "version_major": 2,
       "version_minor": 0
      },
      "text/plain": [
       "  0%|          | 0/1 [00:00<?, ?it/s]"
      ]
     },
     "metadata": {},
     "output_type": "display_data"
    },
    {
     "data": {
      "application/vnd.jupyter.widget-view+json": {
       "model_id": "80c02f40ef6d4cc485aafbc785df1c76",
       "version_major": 2,
       "version_minor": 0
      },
      "text/plain": [
       "  0%|          | 0/1 [00:00<?, ?it/s]"
      ]
     },
     "metadata": {},
     "output_type": "display_data"
    }
   ],
   "source": [
    "y_date = pd.concat([X_df['date'], y_df], axis=1)\n",
    "data = Data(f_matrix=y_date, b_matrix=B)\n",
    "data.gaussianize()\n",
    "data.standardize()\n",
    "y_date = data.f_matrix\n",
    "y_df = y_date['target_w']"
   ]
  },
  {
   "cell_type": "code",
   "execution_count": 9,
   "metadata": {},
   "outputs": [],
   "source": [
    "moons = X_df.date.unique()\n",
    "batches = 7"
   ]
  },
  {
   "attachments": {},
   "cell_type": "markdown",
   "metadata": {},
   "source": [
    "# define kernels"
   ]
  },
  {
   "cell_type": "code",
   "execution_count": 10,
   "metadata": {},
   "outputs": [],
   "source": [
    "from sklearn.gaussian_process.kernels import RBF\n",
    "from sklearn.gaussian_process.kernels import Matern"
   ]
  },
  {
   "attachments": {},
   "cell_type": "markdown",
   "metadata": {},
   "source": [
    "# Model - Ridge regression --> kernel - linear"
   ]
  },
  {
   "cell_type": "code",
   "execution_count": 11,
   "metadata": {},
   "outputs": [],
   "source": [
    "from sklearn.kernel_ridge import KernelRidge\n"
   ]
  },
  {
   "cell_type": "code",
   "execution_count": 13,
   "metadata": {},
   "outputs": [
    {
     "name": "stdout",
     "output_type": "stream",
     "text": [
      "In Sample\n",
      "[[1.         0.46577663]\n",
      " [0.46577663 1.        ]]\n",
      "In Sample\n",
      "[[1.         0.51182408]\n",
      " [0.51182408 1.        ]]\n",
      "In Sample\n",
      "[[1.         0.53489272]\n",
      " [0.53489272 1.        ]]\n",
      "In Sample\n",
      "[[1.         0.46260221]\n",
      " [0.46260221 1.        ]]\n",
      "In Sample\n",
      "[[1.         0.46810727]\n",
      " [0.46810727 1.        ]]\n",
      "In Sample\n",
      "[[1.         0.47238535]\n",
      " [0.47238535 1.        ]]\n",
      "In Sample\n",
      "[[1.         0.48080387]\n",
      " [0.48080387 1.        ]]\n"
     ]
    }
   ],
   "source": [
    "krr = KernelRidge(alpha=1.0)\n",
    "for i in range(batches):\n",
    "    X = X_df[X_df['date'] == moons[i]].drop('date', axis=1)\n",
    "    y = y_df.iloc[X.index]\n",
    "    krr.fit(X, y)\n",
    "    print('In Sample')\n",
    "    print(np.corrcoef(krr.predict(X), y))\n",
    "    #for j in range(10):\n",
    "    #    X = X_df[X_df['date'] == moons[(i+1)*35+1+j]].drop('date', axis=1)\n",
    "    #    y = y_df.iloc[X.index]\n",
    "    #    y_hat = krr.predict(X)\n",
    "    #    print('Out of Sample')\n",
    "    #    print(np.corrcoef(y_hat, y))"
   ]
  },
  {
   "attachments": {},
   "cell_type": "markdown",
   "metadata": {},
   "source": [
    "# Model - Ridge regression --> kernel - RBF"
   ]
  },
  {
   "cell_type": "code",
   "execution_count": 29,
   "metadata": {},
   "outputs": [
    {
     "name": "stdout",
     "output_type": "stream",
     "text": [
      "In Sample\n",
      "[[1.         0.95400228]\n",
      " [0.95400228 1.        ]]\n",
      "In Sample\n",
      "[[1.         0.96348944]\n",
      " [0.96348944 1.        ]]\n",
      "In Sample\n",
      "[[1.        0.9601919]\n",
      " [0.9601919 1.       ]]\n",
      "In Sample\n",
      "[[1.         0.96856413]\n",
      " [0.96856413 1.        ]]\n",
      "In Sample\n",
      "[[1.         0.95172703]\n",
      " [0.95172703 1.        ]]\n",
      "In Sample\n",
      "[[1.         0.95723019]\n",
      " [0.95723019 1.        ]]\n",
      "In Sample\n",
      "[[1.         0.94766042]\n",
      " [0.94766042 1.        ]]\n"
     ]
    }
   ],
   "source": [
    "krr = KernelRidge(kernel = \"rbf\")\n",
    "for i in range(batches):\n",
    "    X = X_df[X_df['date'] == moons[i]].drop('date', axis=1)\n",
    "    y = y_df.iloc[X.index]\n",
    "    krr.fit(X, y)\n",
    "    print('In Sample')\n",
    "    print(np.corrcoef(krr.predict(X), y))\n",
    "    #for j in range(10):\n",
    "    #    X = X_df[X_df['date'] == moons[(i+1)*35+1+j]].drop('date', axis=1)\n",
    "    #    y = y_df.iloc[X.index]\n",
    "    #    y_hat = krr.predict(X)\n",
    "    #    print('Out of Sample')\n",
    "    #    print(np.corrcoef(y_hat, y))"
   ]
  },
  {
   "attachments": {},
   "cell_type": "markdown",
   "metadata": {},
   "source": [
    "# Model - Ridge regression --> kernel - Matern"
   ]
  },
  {
   "cell_type": "code",
   "execution_count": null,
   "metadata": {},
   "outputs": [],
   "source": [
    "['laplacian', 'rbf', 'precomputed', 'chi2', 'poly', 'linear', 'sigmoid', 'additive_chi2', 'polynomial', 'cosine']"
   ]
  },
  {
   "cell_type": "code",
   "execution_count": 34,
   "metadata": {},
   "outputs": [
    {
     "name": "stdout",
     "output_type": "stream",
     "text": [
      "chi2\n",
      "[[1.         0.98703398]\n",
      " [0.98703398 1.        ]]\n",
      "chi2\n",
      "[[1.         0.98979136]\n",
      " [0.98979136 1.        ]]\n",
      "chi2\n",
      "[[1.         0.99102009]\n",
      " [0.99102009 1.        ]]\n",
      "chi2\n",
      "[[1.        0.9913731]\n",
      " [0.9913731 1.       ]]\n",
      "chi2\n",
      "[[1.         0.98574529]\n",
      " [0.98574529 1.        ]]\n",
      "chi2\n",
      "[[1.         0.98749102]\n",
      " [0.98749102 1.        ]]\n",
      "chi2\n",
      "[[1.         0.98571891]\n",
      " [0.98571891 1.        ]]\n"
     ]
    }
   ],
   "source": [
    "krr = KernelRidge(kernel = \"polynomial\")\n",
    "for i in range(batches):\n",
    "    X = X_df[X_df['date'] == moons[i]].drop('date', axis=1)\n",
    "    y = y_df.iloc[X.index]\n",
    "    krr.fit(X, y)\n",
    "    #print(kern)\n",
    "    print(np.corrcoef(krr.predict(X), y))\n",
    "    #for j in range(10):\n",
    "    #    X = X_df[X_df['date'] == moons[(i+1)*35+1+j]].drop('date', axis=1)\n",
    "    #    y = y_df.iloc[X.index]\n",
    "    #    y_hat = krr.predict(X)\n",
    "    #    print('Out of Sample')\n",
    "    #    print(np.corrcoef(y_hat, y))"
   ]
  },
  {
   "attachments": {},
   "cell_type": "markdown",
   "metadata": {},
   "source": [
    "# Model - GP regression --> kernel - linear"
   ]
  },
  {
   "cell_type": "code",
   "execution_count": 21,
   "metadata": {},
   "outputs": [],
   "source": [
    "from sklearn.gaussian_process import GaussianProcessRegressor\n"
   ]
  },
  {
   "attachments": {},
   "cell_type": "markdown",
   "metadata": {},
   "source": [
    "# Model - GP regression --> kernel - RBF"
   ]
  },
  {
   "cell_type": "code",
   "execution_count": 36,
   "metadata": {},
   "outputs": [
    {
     "name": "stdout",
     "output_type": "stream",
     "text": [
      "In Sample\n",
      "[[1. 1.]\n",
      " [1. 1.]]\n",
      "In Sample\n",
      "[[1. 1.]\n",
      " [1. 1.]]\n"
     ]
    },
    {
     "name": "stderr",
     "output_type": "stream",
     "text": [
      "/Users/utkarshpratiush/Cr_D/Feature engg/c_dao_env/lib/python3.9/site-packages/sklearn/gaussian_process/kernels.py:1537: RuntimeWarning: underflow encountered in exp\n",
      "  K = np.exp(-0.5 * dists)\n",
      "/Users/utkarshpratiush/Cr_D/Feature engg/c_dao_env/lib/python3.9/site-packages/sklearn/gaussian_process/kernels.py:1552: RuntimeWarning: underflow encountered in multiply\n",
      "  K_gradient = (K * squareform(dists))[:, :, np.newaxis]\n"
     ]
    },
    {
     "name": "stdout",
     "output_type": "stream",
     "text": [
      "In Sample\n"
     ]
    },
    {
     "name": "stderr",
     "output_type": "stream",
     "text": [
      "/Users/utkarshpratiush/Cr_D/Feature engg/c_dao_env/lib/python3.9/site-packages/sklearn/gaussian_process/kernels.py:1545: RuntimeWarning: underflow encountered in exp\n",
      "  K = np.exp(-0.5 * dists)\n"
     ]
    },
    {
     "name": "stdout",
     "output_type": "stream",
     "text": [
      "[[1. 1.]\n",
      " [1. 1.]]\n"
     ]
    },
    {
     "name": "stderr",
     "output_type": "stream",
     "text": [
      "/Users/utkarshpratiush/Cr_D/Feature engg/c_dao_env/lib/python3.9/site-packages/sklearn/gaussian_process/kernels.py:1537: RuntimeWarning: underflow encountered in exp\n",
      "  K = np.exp(-0.5 * dists)\n",
      "/Users/utkarshpratiush/Cr_D/Feature engg/c_dao_env/lib/python3.9/site-packages/sklearn/gaussian_process/kernels.py:1552: RuntimeWarning: underflow encountered in multiply\n",
      "  K_gradient = (K * squareform(dists))[:, :, np.newaxis]\n"
     ]
    },
    {
     "name": "stdout",
     "output_type": "stream",
     "text": [
      "In Sample\n"
     ]
    },
    {
     "name": "stderr",
     "output_type": "stream",
     "text": [
      "/Users/utkarshpratiush/Cr_D/Feature engg/c_dao_env/lib/python3.9/site-packages/sklearn/gaussian_process/kernels.py:1545: RuntimeWarning: underflow encountered in exp\n",
      "  K = np.exp(-0.5 * dists)\n"
     ]
    },
    {
     "name": "stdout",
     "output_type": "stream",
     "text": [
      "[[1. 1.]\n",
      " [1. 1.]]\n",
      "In Sample\n",
      "[[1. 1.]\n",
      " [1. 1.]]\n",
      "In Sample\n",
      "[[1. 1.]\n",
      " [1. 1.]]\n",
      "In Sample\n",
      "[[1. 1.]\n",
      " [1. 1.]]\n"
     ]
    }
   ],
   "source": [
    "gaussian_process = GaussianProcessRegressor(kernel= RBF())\n",
    "for i in range(batches):\n",
    "    X = X_df[X_df['date'] == moons[i]].drop('date', axis=1)\n",
    "    y = y_df.iloc[X.index]\n",
    "    gaussian_process.fit(X, y)\n",
    "    print('In Sample')\n",
    "    print(np.corrcoef(gaussian_process.predict(X), y))\n",
    "    #for j in range(10):\n",
    "    #    X = X_df[X_df['date'] == moons[(i+1)*35+1+j]].drop('date', axis=1)\n",
    "    #    y = y_df.iloc[X.index]\n",
    "    #    y_hat = krr.predict(X)\n",
    "    #    print('Out of Sample')\n",
    "    #    print(np.corrcoef(y_hat, y))"
   ]
  },
  {
   "attachments": {},
   "cell_type": "markdown",
   "metadata": {},
   "source": [
    "# Model - GP regression --> kernel - Matern"
   ]
  },
  {
   "cell_type": "code",
   "execution_count": 38,
   "metadata": {},
   "outputs": [
    {
     "name": "stdout",
     "output_type": "stream",
     "text": [
      "In Sample\n",
      "[[1. 1.]\n",
      " [1. 1.]]\n",
      "In Sample\n",
      "[[1. 1.]\n",
      " [1. 1.]]\n",
      "In Sample\n",
      "[[1. 1.]\n",
      " [1. 1.]]\n",
      "In Sample\n",
      "[[1. 1.]\n",
      " [1. 1.]]\n",
      "In Sample\n",
      "[[1. 1.]\n",
      " [1. 1.]]\n",
      "In Sample\n",
      "[[1. 1.]\n",
      " [1. 1.]]\n",
      "In Sample\n",
      "[[1. 1.]\n",
      " [1. 1.]]\n"
     ]
    }
   ],
   "source": [
    "gaussian_process = GaussianProcessRegressor(kernel = Matern())\n",
    "for i in range(batches):\n",
    "    X = X_df[X_df['date'] == moons[i]].drop('date', axis=1)\n",
    "    y = y_df.iloc[X.index]\n",
    "    gaussian_process.fit(X, y)\n",
    "    print('In Sample')\n",
    "    print(np.corrcoef(gaussian_process.predict(X), y))\n",
    "    #for j in range(10):\n",
    "    #    X = X_df[X_df['date'] == moons[(i+1)*35+1+j]].drop('date', axis=1)\n",
    "    #    y = y_df.iloc[X.index]\n",
    "    #    y_hat = krr.predict(X)\n",
    "    #    print('Out of Sample')\n",
    "    #    print(np.corrcoef(y_hat, y))"
   ]
  },
  {
   "cell_type": "code",
   "execution_count": null,
   "metadata": {},
   "outputs": [],
   "source": []
  }
 ],
 "metadata": {
  "kernelspec": {
   "display_name": "c_dao_env",
   "language": "python",
   "name": "c_dao_env"
  },
  "language_info": {
   "codemirror_mode": {
    "name": "ipython",
    "version": 3
   },
   "file_extension": ".py",
   "mimetype": "text/x-python",
   "name": "python",
   "nbconvert_exporter": "python",
   "pygments_lexer": "ipython3",
   "version": "3.9.12"
  },
  "orig_nbformat": 4,
  "vscode": {
   "interpreter": {
    "hash": "133758f7398fd0467a71a5c0a2157b985c7b024a8db95d3dabb6bab8c277f921"
   }
  }
 },
 "nbformat": 4,
 "nbformat_minor": 2
}
