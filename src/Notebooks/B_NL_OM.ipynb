{
 "cells": [
  {
   "cell_type": "code",
   "execution_count": null,
   "metadata": {},
   "outputs": [],
   "source": [
    "import numpy as np\n",
    "import pandas as pd\n",
    "from sklearn.metrics.pairwise import pairwise_kernels\n",
    "import matplotlib.pyplot as plt\n",
    "from tqdm import tqdm"
   ]
  },
  {
   "attachments": {},
   "cell_type": "markdown",
   "metadata": {},
   "source": [
    "# Model"
   ]
  },
  {
   "cell_type": "code",
   "execution_count": null,
   "metadata": {},
   "outputs": [],
   "source": [
    "B = pd.read_parquet(\"../data/B_HKML.parquet\")\n",
    "all_epochs = B.date.unique()\n",
    "batch_size = 25\n",
    "epochs = all_epochs[:batch_size]\n",
    "X_df = pd.read_parquet(\"../data/B_HKML.parquet\")\n",
    "X_train = X_df[X_df[\"date\"].isin(epochs)].drop(\"date\", axis=1).to_numpy()"
   ]
  },
  {
   "cell_type": "code",
   "execution_count": null,
   "metadata": {},
   "outputs": [],
   "source": [
    "i = B.shape[1] - 1\n",
    "j = 0\n",
    "for epoch in epochs:\n",
    "    B_np = B[B[\"date\"] == epoch].drop(\"date\", axis=1).to_numpy().T\n",
    "    j += B_np.shape[1]\n",
    "\n",
    "Batch_B = np.zeros((i, j))\n",
    "\n",
    "j = 0\n",
    "for epoch in epochs:\n",
    "    B_np = B[B[\"date\"] == epoch].drop(\"date\", axis=1).to_numpy().T\n",
    "    dj = B_np.shape[1]\n",
    "    Batch_B[:, j : j + dj] = B_np\n",
    "\n",
    "    j += dj\n",
    "B_train = Batch_B"
   ]
  },
  {
   "attachments": {},
   "cell_type": "markdown",
   "metadata": {},
   "source": [
    "# Gaussianize Target"
   ]
  },
  {
   "cell_type": "code",
   "execution_count": null,
   "metadata": {},
   "outputs": [],
   "source": [
    "import sys\n",
    "\n",
    "# sys.path.insert(1, \"../../../Feature engg/feature-engineering/src\")\n",
    "sys.path.insert(\n",
    "    1,\n",
    "    \"/config/workspace/backtest_of_feature_processing_20230220/feature_engineering/src\",\n",
    ")\n",
    "from class_ import Data\n",
    "\n",
    "y_df = pd.read_parquet(\"../data/Y_HKML.parquet\")"
   ]
  },
  {
   "cell_type": "code",
   "execution_count": null,
   "metadata": {},
   "outputs": [],
   "source": [
    "y_date = pd.concat([X_df[\"date\"], y_df], axis=1)\n",
    "data = Data(f_matrix=y_date, b_matrix=B)\n",
    "data.gaussianize()\n",
    "data.standardize()\n",
    "y_date = data.f_matrix\n",
    "y_df = y_date.iloc[:, 1]\n",
    "y_train = y_df.iloc[: len(X_train)].to_numpy().ravel()"
   ]
  },
  {
   "attachments": {},
   "cell_type": "markdown",
   "metadata": {},
   "source": [
    "# compute coefficients"
   ]
  },
  {
   "cell_type": "code",
   "execution_count": null,
   "metadata": {},
   "outputs": [],
   "source": [
    "metric = \"rbf\""
   ]
  },
  {
   "cell_type": "code",
   "execution_count": null,
   "metadata": {},
   "outputs": [],
   "source": [
    "# Values of C and D to be fine tuned to have good mse out of sample and good orthogonality out of sample?\n",
    "C = 3.0\n",
    "D = 0.1\n",
    "# Grid search between 0.5/nfeat and 1/nfeat\n",
    "gamma = 0.8 / X_train.shape[1]\n",
    "\n",
    "K = pairwise_kernels(X_train, metric=metric, gamma=gamma)\n",
    "BBK = B_train.T @ B_train @ K\n",
    "M = K + C * np.identity(K.shape[0]) + D * BBK\n",
    "dual_coef = np.linalg.solve(M, y_train)"
   ]
  },
  {
   "attachments": {},
   "cell_type": "markdown",
   "metadata": {},
   "source": [
    "# Estimate"
   ]
  },
  {
   "cell_type": "code",
   "execution_count": null,
   "metadata": {},
   "outputs": [],
   "source": [
    "future_moons = 50\n",
    "y_hat_df = pd.DataFrame()\n",
    "y_hat_df[\"date\"] = X_df[\n",
    "    X_df[\"date\"].isin(all_epochs[batch_size : batch_size + future_moons])\n",
    "].date\n",
    "y_hat_df[\"y_hat\"] = np.nan\n",
    "y_hat_df[\"y_test\"] = np.nan"
   ]
  },
  {
   "cell_type": "code",
   "execution_count": null,
   "metadata": {},
   "outputs": [],
   "source": [
    "for moon in tqdm(range(future_moons)):\n",
    "    epochs = all_epochs[0 : batch_size + moon + 1]\n",
    "\n",
    "    j = 0\n",
    "    for epoch in epochs:\n",
    "        B_np = B[B[\"date\"] == epoch].drop(\"date\", axis=1).to_numpy().T\n",
    "        j += B_np.shape[1]\n",
    "\n",
    "    Batch_B = np.zeros((i, j))\n",
    "\n",
    "    j = 0\n",
    "    for epoch in epochs:\n",
    "        B_np = B[B[\"date\"] == epoch].drop(\"date\", axis=1).to_numpy().T\n",
    "        dj = B_np.shape[1]\n",
    "        Batch_B[:, j : j + dj] = B_np\n",
    "\n",
    "        j += dj\n",
    "    B_test = Batch_B\n",
    "\n",
    "    X_test = X_df[X_df[\"date\"].isin(epochs)].drop(\"date\", axis=1).to_numpy()\n",
    "\n",
    "    y_test = y_df.iloc[: len(X_test)].to_numpy().ravel()\n",
    "\n",
    "    K_hat = pairwise_kernels(X_test, X_train, metric=metric)\n",
    "\n",
    "    y_hat = K_hat @ dual_coef\n",
    "\n",
    "    exp_vec = B_test @ y_hat\n",
    "    exp = np.dot(exp_vec, exp_vec)\n",
    "\n",
    "    # print('Factor Exposure')\n",
    "    # print(exp)\n",
    "    # leastsquare = np.dot(y_test - y_hat, y_test - y_hat)\n",
    "    # print('Least Square Error')\n",
    "    # print(leastsquare)\n",
    "    # ridge = K_hat @ dual_coef\n",
    "    # print('Regularization Loss')\n",
    "    # print(np.dot(ridge, ridge))\n",
    "\n",
    "    y_hat_df.loc[y_hat_df[\"date\"] == epochs[-1], \"y_hat\"] = y_hat[-dj:]\n",
    "    y_hat_df.loc[y_hat_df[\"date\"] == epochs[-1], \"y_test\"] = y_test[-dj:]"
   ]
  },
  {
   "cell_type": "code",
   "execution_count": null,
   "metadata": {},
   "outputs": [],
   "source": [
    "def spear(x):\n",
    "    spear = x.corr(numeric_only=True, method=\"spearman\")\n",
    "    spear = spear.iloc[0, 1]\n",
    "    return spear"
   ]
  },
  {
   "cell_type": "code",
   "execution_count": null,
   "metadata": {},
   "outputs": [],
   "source": [
    "spearman_history = y_hat_df.groupby(\"date\").apply(lambda x: spear(x))"
   ]
  },
  {
   "cell_type": "code",
   "execution_count": null,
   "metadata": {},
   "outputs": [],
   "source": [
    "# spearman_history.plot(grid='on')\n",
    "# plt.axhline(y=spearman_history.mean(), color='r', linestyle='-')\n",
    "# plt.title(f\"Spearman $(\\mu$={round(spearman_history.mean(), 6)}, $\\sigma$ = {round(spearman_history.std(), 6)})\")\n",
    "# plt.show()\n",
    "\n",
    "spearman_history.plot(grid=\"on\", figsize=(20, 8))\n",
    "plt.axhline(y=spearman_history.mean(), color=\"r\", linestyle=\"-\")\n",
    "plt.title(\n",
    "    f\"Cross-sectional Spearman correlation\\n$\\mu$={round(spearman_history.mean(), 6)}, $\\sigma$ = {round(spearman_history.std(), 6)}\",\n",
    "    fontsize=20,\n",
    ")\n",
    "plt.xlabel(\"date\", fontsize=20)\n",
    "plt.ylabel(\"[%]\", fontsize=20)\n",
    "plt.tick_params(axis=\"x\", labelsize=15)\n",
    "plt.tick_params(axis=\"y\", labelsize=15)\n",
    "plt.savefig(\n",
    "    f\"../figures/B_NL_OM_cross-sectional_spearman_correlation_gamma_{round(gamma, 4)}.png\"\n",
    ")\n",
    "plt.show()"
   ]
  },
  {
   "cell_type": "code",
   "execution_count": null,
   "metadata": {},
   "outputs": [],
   "source": [
    "def pear(x):\n",
    "    pear = x.corr(numeric_only=True)\n",
    "    pear = pear.iloc[0, 1]\n",
    "    return pear"
   ]
  },
  {
   "cell_type": "code",
   "execution_count": null,
   "metadata": {},
   "outputs": [],
   "source": [
    "pearson_history = y_hat_df.groupby(\"date\").apply(lambda x: pear(x))"
   ]
  },
  {
   "cell_type": "code",
   "execution_count": null,
   "metadata": {},
   "outputs": [],
   "source": [
    "# pearson_history.plot(grid='on')\n",
    "# plt.axhline(y=pearson_history.mean(), color='r', linestyle='-')\n",
    "# plt.title(f\"Pearson $(\\mu$={round(pearson_history.mean(), 6)}, $\\sigma$ = {round(pearson_history.std(), 6)})\")\n",
    "# plt.show()\n",
    "\n",
    "\n",
    "pearson_history.plot(grid=\"on\", figsize=(20, 8))\n",
    "plt.axhline(y=pearson_history.mean(), color=\"r\", linestyle=\"-\")\n",
    "plt.title(\n",
    "    f\"Cross-sectional Pearson correlation\\n$\\mu$={round(pearson_history.mean(), 6)}, $\\sigma$ = {round(pearson_history.std(), 6)}\",\n",
    "    fontsize=20,\n",
    ")\n",
    "plt.xlabel(\"date\", fontsize=20)\n",
    "plt.ylabel(\"[%]\", fontsize=20)\n",
    "plt.tick_params(axis=\"x\", labelsize=15)\n",
    "plt.tick_params(axis=\"y\", labelsize=15)\n",
    "plt.savefig(\n",
    "    f\"../figures/B_NL_OM_cross-sectional_pearson_correlation_gamma_{round(gamma, 4)}.png\"\n",
    ")\n",
    "plt.show()"
   ]
  },
  {
   "cell_type": "code",
   "execution_count": null,
   "metadata": {},
   "outputs": [],
   "source": [
    "# mse_history = y_hat_df.groupby('date').apply(lambda x: mean_squared_error(x.iloc[:, 1], x.iloc[:, 2]))\n",
    "# mse_history.plot(grid='on')\n",
    "# plt.axhline(y=mse_history.mean(), color='r', linestyle='-')\n",
    "# plt.title(f\"MSE $(\\mu$={round(mse_history.mean(), 6)}, $\\sigma$ = {round(mse_history.std(), 6)})\")\n",
    "# plt.show()\n",
    "\n",
    "from sklearn.metrics import mean_squared_error\n",
    "\n",
    "mse_history = y_hat_df.groupby(\"date\").apply(\n",
    "    lambda x: mean_squared_error(x.iloc[:, 1], x.iloc[:, 2])\n",
    ")\n",
    "mse_history.plot(grid=\"on\", figsize=(20, 8))\n",
    "plt.axhline(y=mse_history.mean(), color=\"r\", linestyle=\"-\")\n",
    "plt.title(\n",
    "    f\"Cross-sectional Mean Squared Error (MSE)\\n$\\mu$={round(mse_history.mean(), 6)}, $\\sigma$ = {round(mse_history.std(), 6)}\",\n",
    "    fontsize=20,\n",
    ")\n",
    "plt.xlabel(\"date\", fontsize=20)\n",
    "plt.ylabel(\"MSE\", fontsize=20)\n",
    "plt.tick_params(axis=\"x\", labelsize=15)\n",
    "plt.tick_params(axis=\"y\", labelsize=15)\n",
    "plt.savefig(f\"../figures/B_NL_OM_cross-sectional_mse_gamma_{round(gamma, 4)}.png\")\n",
    "plt.show()"
   ]
  },
  {
   "attachments": {},
   "cell_type": "markdown",
   "metadata": {},
   "source": [
    "# Orthogonalize predictions"
   ]
  },
  {
   "cell_type": "code",
   "execution_count": null,
   "metadata": {},
   "outputs": [],
   "source": [
    "y_hat_date = y_hat_df[[\"date\", \"y_hat\"]]\n",
    "b_matrix = B[B[\"date\"].isin(all_epochs[batch_size : batch_size + future_moons])]\n",
    "data = Data(f_matrix=y_hat_date, b_matrix=b_matrix)\n",
    "data.orthogonalize()\n",
    "y_hat_date = data.f_matrix\n",
    "y_hat_df[\"y_hat\"] = y_hat_date[\"y_hat\"]\n",
    "orth_spearman_history = y_hat_df.groupby(\"date\").apply(lambda x: spear(x))"
   ]
  },
  {
   "cell_type": "code",
   "execution_count": null,
   "metadata": {},
   "outputs": [],
   "source": [
    "# orth_spearman_history.plot(grid='on')\n",
    "# plt.axhline(y=orth_spearman_history.mean(), color='r', linestyle='-')\n",
    "# plt.title(f\"Spearman $(\\mu$={round(orth_spearman_history.mean(), 6)}, $\\sigma$ = {round(orth_spearman_history.std(), 6)})\")\n",
    "# plt.show()\n",
    "\n",
    "orth_spearman_history.plot(grid=\"on\", figsize=(20, 8))\n",
    "plt.axhline(y=orth_spearman_history.mean(), color=\"r\", linestyle=\"-\")\n",
    "plt.title(\n",
    "    f\"Post-orthogonalization Cross-sectional Spearman correlation\\n$\\mu$={round(orth_spearman_history.mean(), 6)}, $\\sigma$ = {round(mse_history.std(), 6)}\",\n",
    "    fontsize=20,\n",
    ")\n",
    "plt.xlabel(\"date\", fontsize=20)\n",
    "plt.ylabel(\"[%]\", fontsize=20)\n",
    "plt.tick_params(axis=\"x\", labelsize=15)\n",
    "plt.tick_params(axis=\"y\", labelsize=15)\n",
    "plt.savefig(\n",
    "    f\"../figures/B_NL_OM_post_ortho_cross-sectional_spearman_gamma_{round(gamma, 4)}.png\"\n",
    ")\n",
    "plt.show()"
   ]
  },
  {
   "cell_type": "code",
   "execution_count": null,
   "metadata": {},
   "outputs": [],
   "source": [
    "orth_pearson_history = y_hat_df.groupby(\"date\").apply(lambda x: pear(x))"
   ]
  },
  {
   "cell_type": "code",
   "execution_count": null,
   "metadata": {},
   "outputs": [],
   "source": [
    "# orth_pearson_history.plot(grid='on')\n",
    "# plt.axhline(y=orth_pearson_history.mean(), color='r', linestyle='-')\n",
    "# plt.title(f\"Pearson $(\\mu$={round(orth_pearson_history.mean(), 6)}, $\\sigma$ = {round(orth_pearson_history.std(), 6)})\")\n",
    "# plt.show()\n",
    "\n",
    "orth_pearson_history.plot(grid=\"on\", figsize=(20, 8))\n",
    "plt.axhline(y=orth_pearson_history.mean(), color=\"r\", linestyle=\"-\")\n",
    "plt.title(\n",
    "    f\"Post-orthogonalization Cross-sectional Pearson correlation\\n$\\mu$={round(orth_pearson_history.mean(), 6)}, $\\sigma$ = {round(mse_history.std(), 6)}\",\n",
    "    fontsize=20,\n",
    ")\n",
    "plt.xlabel(\"date\", fontsize=20)\n",
    "plt.ylabel(\"[%]\", fontsize=20)\n",
    "plt.tick_params(axis=\"x\", labelsize=15)\n",
    "plt.tick_params(axis=\"y\", labelsize=15)\n",
    "plt.savefig(\n",
    "    f\"../figures/B_NL_OM_post_ortho_cross-sectional_pearson_gamma_{round(gamma, 4)}.png\"\n",
    ")\n",
    "plt.show()"
   ]
  },
  {
   "cell_type": "code",
   "execution_count": null,
   "metadata": {},
   "outputs": [],
   "source": [
    "orth_mse_history = y_hat_df.groupby(\"date\").apply(\n",
    "    lambda x: mean_squared_error(x.iloc[:, 1], x.iloc[:, 2])\n",
    ")\n",
    "# orth_mse_history.plot(grid='on')\n",
    "# plt.axhline(y=orth_mse_history.mean(), color='r', linestyle='-')\n",
    "# plt.title(f\"MSE $(\\mu$={round(orth_mse_history.mean(), 6)}, $\\sigma$ = {round(orth_mse_history.std(), 6)})\")\n",
    "# plt.show()\n",
    "\n",
    "orth_mse_history.plot(grid=\"on\", figsize=(20, 8))\n",
    "plt.axhline(y=orth_mse_history.mean(), color=\"r\", linestyle=\"-\")\n",
    "plt.title(\n",
    "    f\"Post-orthogonalization Cross-sectional Mean Squared Error (MSE)\\n$\\mu$={round(orth_mse_history.mean(), 6)}, $\\sigma$ = {round(mse_history.std(), 6)}\",\n",
    "    fontsize=20,\n",
    ")\n",
    "plt.xlabel(\"date\", fontsize=20)\n",
    "plt.ylabel(\"MSE\", fontsize=20)\n",
    "plt.tick_params(axis=\"x\", labelsize=15)\n",
    "plt.tick_params(axis=\"y\", labelsize=15)\n",
    "plt.savefig(f\"../figures/B_NL_OM_post_ortho_cross-sectional_mse_{round(gamma, 4)}.png\")\n",
    "plt.show()"
   ]
  },
  {
   "cell_type": "code",
   "execution_count": null,
   "metadata": {},
   "outputs": [],
   "source": []
  }
 ],
 "metadata": {
  "kernelspec": {
   "display_name": "Python 3",
   "language": "python",
   "name": "python3"
  },
  "language_info": {
   "codemirror_mode": {
    "name": "ipython",
    "version": 3
   },
   "file_extension": ".py",
   "mimetype": "text/x-python",
   "name": "python",
   "nbconvert_exporter": "python",
   "pygments_lexer": "ipython3",
   "version": "3.10.6"
  },
  "orig_nbformat": 4,
  "vscode": {
   "interpreter": {
    "hash": "916dbcbb3f70747c44a77c7bcd40155683ae19c65e1c03b4aa3499c5328201f1"
   }
  }
 },
 "nbformat": 4,
 "nbformat_minor": 2
}
