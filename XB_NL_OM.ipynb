{
 "cells": [
  {
   "cell_type": "markdown",
   "id": "04e6a154-b745-4699-b776-cf80d3c56fcc",
   "metadata": {},
   "source": [
    "# Code describe the line of reasoning we need to show for all the cases"
   ]
  },
  {
   "cell_type": "code",
   "execution_count": 57,
   "id": "be3e2052-edf4-442d-b92d-940105a540b2",
   "metadata": {
    "vscode": {
     "languageId": "python"
    }
   },
   "outputs": [],
   "source": [
    "import pandas as pd\n",
    "import matplotlib.pyplot as plt\n",
    "import numpy as np\n",
    "from sklearn import datasets, linear_model, model_selection\n",
    "from sklearn.metrics import mean_squared_error, r2_score"
   ]
  },
  {
   "cell_type": "markdown",
   "id": "9b31ab78-fcc7-4971-b66d-af1d83a7a9b5",
   "metadata": {
    "tags": []
   },
   "source": [
    "# Load data"
   ]
  },
  {
   "cell_type": "code",
   "execution_count": 2,
   "id": "0ccc56a7-1515-4f04-8127-97ff5e563c08",
   "metadata": {
    "vscode": {
     "languageId": "python"
    }
   },
   "outputs": [],
   "source": [
    "B = pd.read_parquet('./data/B_HKML.parquet')"
   ]
  },
  {
   "cell_type": "code",
   "execution_count": 3,
   "id": "77c1ded1-cba8-414b-a9a9-8a8c6b7aaad6",
   "metadata": {
    "vscode": {
     "languageId": "python"
    }
   },
   "outputs": [],
   "source": [
    "B = B[B['date'] < '2022-05-01']"
   ]
  },
  {
   "cell_type": "code",
   "execution_count": 4,
   "id": "23456e98-84c2-4eba-9bdd-367d5f730508",
   "metadata": {
    "vscode": {
     "languageId": "python"
    }
   },
   "outputs": [
    {
     "data": {
      "text/html": [
       "<div>\n",
       "<style scoped>\n",
       "    .dataframe tbody tr th:only-of-type {\n",
       "        vertical-align: middle;\n",
       "    }\n",
       "\n",
       "    .dataframe tbody tr th {\n",
       "        vertical-align: top;\n",
       "    }\n",
       "\n",
       "    .dataframe thead th {\n",
       "        text-align: right;\n",
       "    }\n",
       "</style>\n",
       "<table border=\"1\" class=\"dataframe\">\n",
       "  <thead>\n",
       "    <tr style=\"text-align: right;\">\n",
       "      <th></th>\n",
       "      <th>date</th>\n",
       "      <th>USFASTD_1DREVRSL</th>\n",
       "      <th>USFASTD_AERODEF</th>\n",
       "      <th>USFASTD_AIRLINES</th>\n",
       "      <th>USFASTD_ALUMSTEL</th>\n",
       "      <th>USFASTD_APPAREL</th>\n",
       "      <th>USFASTD_AUTO</th>\n",
       "      <th>USFASTD_BANKS</th>\n",
       "      <th>USFASTD_BETA</th>\n",
       "      <th>USFASTD_BEVTOB</th>\n",
       "      <th>...</th>\n",
       "      <th>USFASTD_SOFTWARE</th>\n",
       "      <th>USFASTD_SPLTYRET</th>\n",
       "      <th>USFASTD_SPTYCHEM</th>\n",
       "      <th>USFASTD_SPTYSTOR</th>\n",
       "      <th>USFASTD_STREVRSL</th>\n",
       "      <th>USFASTD_TELECOM</th>\n",
       "      <th>USFASTD_TRADECO</th>\n",
       "      <th>USFASTD_TRANSPRT</th>\n",
       "      <th>USFASTD_VALUE</th>\n",
       "      <th>USFASTD_WIRELESS</th>\n",
       "    </tr>\n",
       "  </thead>\n",
       "  <tbody>\n",
       "    <tr>\n",
       "      <th>0</th>\n",
       "      <td>2016-02-17</td>\n",
       "      <td>0.351</td>\n",
       "      <td>0.0</td>\n",
       "      <td>0.0</td>\n",
       "      <td>0.0</td>\n",
       "      <td>0.0</td>\n",
       "      <td>0.0</td>\n",
       "      <td>0.0</td>\n",
       "      <td>-0.335</td>\n",
       "      <td>0.0</td>\n",
       "      <td>...</td>\n",
       "      <td>0.0</td>\n",
       "      <td>0.0</td>\n",
       "      <td>0.000</td>\n",
       "      <td>0.0</td>\n",
       "      <td>-0.143</td>\n",
       "      <td>0.0</td>\n",
       "      <td>0.371</td>\n",
       "      <td>0.0</td>\n",
       "      <td>-0.083</td>\n",
       "      <td>0.0</td>\n",
       "    </tr>\n",
       "    <tr>\n",
       "      <th>1</th>\n",
       "      <td>2016-02-17</td>\n",
       "      <td>0.713</td>\n",
       "      <td>0.0</td>\n",
       "      <td>0.0</td>\n",
       "      <td>0.0</td>\n",
       "      <td>0.0</td>\n",
       "      <td>0.0</td>\n",
       "      <td>0.0</td>\n",
       "      <td>-0.699</td>\n",
       "      <td>0.0</td>\n",
       "      <td>...</td>\n",
       "      <td>0.0</td>\n",
       "      <td>0.0</td>\n",
       "      <td>0.000</td>\n",
       "      <td>0.0</td>\n",
       "      <td>-1.099</td>\n",
       "      <td>0.0</td>\n",
       "      <td>0.000</td>\n",
       "      <td>0.0</td>\n",
       "      <td>-0.051</td>\n",
       "      <td>0.0</td>\n",
       "    </tr>\n",
       "    <tr>\n",
       "      <th>2</th>\n",
       "      <td>2016-02-17</td>\n",
       "      <td>0.111</td>\n",
       "      <td>0.0</td>\n",
       "      <td>0.0</td>\n",
       "      <td>0.0</td>\n",
       "      <td>0.0</td>\n",
       "      <td>0.0</td>\n",
       "      <td>0.0</td>\n",
       "      <td>0.084</td>\n",
       "      <td>0.0</td>\n",
       "      <td>...</td>\n",
       "      <td>0.0</td>\n",
       "      <td>0.0</td>\n",
       "      <td>0.000</td>\n",
       "      <td>0.0</td>\n",
       "      <td>-0.020</td>\n",
       "      <td>0.0</td>\n",
       "      <td>0.000</td>\n",
       "      <td>0.0</td>\n",
       "      <td>-0.156</td>\n",
       "      <td>0.0</td>\n",
       "    </tr>\n",
       "    <tr>\n",
       "      <th>3</th>\n",
       "      <td>2016-02-17</td>\n",
       "      <td>0.314</td>\n",
       "      <td>0.0</td>\n",
       "      <td>0.0</td>\n",
       "      <td>0.0</td>\n",
       "      <td>0.0</td>\n",
       "      <td>0.0</td>\n",
       "      <td>0.0</td>\n",
       "      <td>0.105</td>\n",
       "      <td>0.0</td>\n",
       "      <td>...</td>\n",
       "      <td>0.0</td>\n",
       "      <td>0.0</td>\n",
       "      <td>0.000</td>\n",
       "      <td>0.0</td>\n",
       "      <td>-0.676</td>\n",
       "      <td>0.0</td>\n",
       "      <td>1.000</td>\n",
       "      <td>0.0</td>\n",
       "      <td>-0.682</td>\n",
       "      <td>0.0</td>\n",
       "    </tr>\n",
       "    <tr>\n",
       "      <th>4</th>\n",
       "      <td>2016-02-17</td>\n",
       "      <td>-0.130</td>\n",
       "      <td>1.0</td>\n",
       "      <td>0.0</td>\n",
       "      <td>0.0</td>\n",
       "      <td>0.0</td>\n",
       "      <td>0.0</td>\n",
       "      <td>0.0</td>\n",
       "      <td>-0.252</td>\n",
       "      <td>0.0</td>\n",
       "      <td>...</td>\n",
       "      <td>0.0</td>\n",
       "      <td>0.0</td>\n",
       "      <td>0.000</td>\n",
       "      <td>0.0</td>\n",
       "      <td>-0.552</td>\n",
       "      <td>0.0</td>\n",
       "      <td>0.000</td>\n",
       "      <td>0.0</td>\n",
       "      <td>-0.518</td>\n",
       "      <td>0.0</td>\n",
       "    </tr>\n",
       "    <tr>\n",
       "      <th>...</th>\n",
       "      <td>...</td>\n",
       "      <td>...</td>\n",
       "      <td>...</td>\n",
       "      <td>...</td>\n",
       "      <td>...</td>\n",
       "      <td>...</td>\n",
       "      <td>...</td>\n",
       "      <td>...</td>\n",
       "      <td>...</td>\n",
       "      <td>...</td>\n",
       "      <td>...</td>\n",
       "      <td>...</td>\n",
       "      <td>...</td>\n",
       "      <td>...</td>\n",
       "      <td>...</td>\n",
       "      <td>...</td>\n",
       "      <td>...</td>\n",
       "      <td>...</td>\n",
       "      <td>...</td>\n",
       "      <td>...</td>\n",
       "      <td>...</td>\n",
       "    </tr>\n",
       "    <tr>\n",
       "      <th>310699</th>\n",
       "      <td>2022-04-27</td>\n",
       "      <td>-1.975</td>\n",
       "      <td>0.0</td>\n",
       "      <td>0.0</td>\n",
       "      <td>0.0</td>\n",
       "      <td>0.0</td>\n",
       "      <td>0.0</td>\n",
       "      <td>0.0</td>\n",
       "      <td>0.064</td>\n",
       "      <td>0.0</td>\n",
       "      <td>...</td>\n",
       "      <td>0.0</td>\n",
       "      <td>0.0</td>\n",
       "      <td>0.000</td>\n",
       "      <td>0.0</td>\n",
       "      <td>0.211</td>\n",
       "      <td>0.0</td>\n",
       "      <td>0.000</td>\n",
       "      <td>0.0</td>\n",
       "      <td>1.448</td>\n",
       "      <td>0.0</td>\n",
       "    </tr>\n",
       "    <tr>\n",
       "      <th>310700</th>\n",
       "      <td>2022-04-27</td>\n",
       "      <td>-0.140</td>\n",
       "      <td>0.0</td>\n",
       "      <td>0.0</td>\n",
       "      <td>0.0</td>\n",
       "      <td>0.0</td>\n",
       "      <td>0.0</td>\n",
       "      <td>0.0</td>\n",
       "      <td>-1.518</td>\n",
       "      <td>0.0</td>\n",
       "      <td>...</td>\n",
       "      <td>0.0</td>\n",
       "      <td>0.0</td>\n",
       "      <td>0.028</td>\n",
       "      <td>0.0</td>\n",
       "      <td>0.239</td>\n",
       "      <td>0.0</td>\n",
       "      <td>0.000</td>\n",
       "      <td>0.0</td>\n",
       "      <td>-0.317</td>\n",
       "      <td>0.0</td>\n",
       "    </tr>\n",
       "    <tr>\n",
       "      <th>310701</th>\n",
       "      <td>2022-04-27</td>\n",
       "      <td>0.690</td>\n",
       "      <td>0.0</td>\n",
       "      <td>0.0</td>\n",
       "      <td>0.0</td>\n",
       "      <td>0.0</td>\n",
       "      <td>0.0</td>\n",
       "      <td>0.0</td>\n",
       "      <td>-1.714</td>\n",
       "      <td>0.0</td>\n",
       "      <td>...</td>\n",
       "      <td>0.0</td>\n",
       "      <td>0.0</td>\n",
       "      <td>0.000</td>\n",
       "      <td>0.0</td>\n",
       "      <td>0.130</td>\n",
       "      <td>0.0</td>\n",
       "      <td>0.000</td>\n",
       "      <td>0.0</td>\n",
       "      <td>0.800</td>\n",
       "      <td>0.0</td>\n",
       "    </tr>\n",
       "    <tr>\n",
       "      <th>310702</th>\n",
       "      <td>2022-04-27</td>\n",
       "      <td>0.246</td>\n",
       "      <td>0.0</td>\n",
       "      <td>0.0</td>\n",
       "      <td>0.0</td>\n",
       "      <td>0.0</td>\n",
       "      <td>0.0</td>\n",
       "      <td>0.0</td>\n",
       "      <td>-0.953</td>\n",
       "      <td>0.0</td>\n",
       "      <td>...</td>\n",
       "      <td>0.0</td>\n",
       "      <td>0.0</td>\n",
       "      <td>0.000</td>\n",
       "      <td>0.0</td>\n",
       "      <td>-0.777</td>\n",
       "      <td>0.0</td>\n",
       "      <td>0.000</td>\n",
       "      <td>0.0</td>\n",
       "      <td>-0.006</td>\n",
       "      <td>0.0</td>\n",
       "    </tr>\n",
       "    <tr>\n",
       "      <th>310703</th>\n",
       "      <td>2022-04-27</td>\n",
       "      <td>0.146</td>\n",
       "      <td>0.0</td>\n",
       "      <td>0.0</td>\n",
       "      <td>0.0</td>\n",
       "      <td>0.0</td>\n",
       "      <td>0.0</td>\n",
       "      <td>0.0</td>\n",
       "      <td>-0.459</td>\n",
       "      <td>0.0</td>\n",
       "      <td>...</td>\n",
       "      <td>0.0</td>\n",
       "      <td>0.0</td>\n",
       "      <td>0.893</td>\n",
       "      <td>0.0</td>\n",
       "      <td>-0.122</td>\n",
       "      <td>0.0</td>\n",
       "      <td>0.000</td>\n",
       "      <td>0.0</td>\n",
       "      <td>0.544</td>\n",
       "      <td>0.0</td>\n",
       "    </tr>\n",
       "  </tbody>\n",
       "</table>\n",
       "<p>310704 rows × 86 columns</p>\n",
       "</div>"
      ],
      "text/plain": [
       "             date  USFASTD_1DREVRSL  USFASTD_AERODEF  USFASTD_AIRLINES  \\\n",
       "0      2016-02-17             0.351              0.0               0.0   \n",
       "1      2016-02-17             0.713              0.0               0.0   \n",
       "2      2016-02-17             0.111              0.0               0.0   \n",
       "3      2016-02-17             0.314              0.0               0.0   \n",
       "4      2016-02-17            -0.130              1.0               0.0   \n",
       "...           ...               ...              ...               ...   \n",
       "310699 2022-04-27            -1.975              0.0               0.0   \n",
       "310700 2022-04-27            -0.140              0.0               0.0   \n",
       "310701 2022-04-27             0.690              0.0               0.0   \n",
       "310702 2022-04-27             0.246              0.0               0.0   \n",
       "310703 2022-04-27             0.146              0.0               0.0   \n",
       "\n",
       "        USFASTD_ALUMSTEL  USFASTD_APPAREL  USFASTD_AUTO  USFASTD_BANKS  \\\n",
       "0                    0.0              0.0           0.0            0.0   \n",
       "1                    0.0              0.0           0.0            0.0   \n",
       "2                    0.0              0.0           0.0            0.0   \n",
       "3                    0.0              0.0           0.0            0.0   \n",
       "4                    0.0              0.0           0.0            0.0   \n",
       "...                  ...              ...           ...            ...   \n",
       "310699               0.0              0.0           0.0            0.0   \n",
       "310700               0.0              0.0           0.0            0.0   \n",
       "310701               0.0              0.0           0.0            0.0   \n",
       "310702               0.0              0.0           0.0            0.0   \n",
       "310703               0.0              0.0           0.0            0.0   \n",
       "\n",
       "        USFASTD_BETA  USFASTD_BEVTOB  ...  USFASTD_SOFTWARE  USFASTD_SPLTYRET  \\\n",
       "0             -0.335             0.0  ...               0.0               0.0   \n",
       "1             -0.699             0.0  ...               0.0               0.0   \n",
       "2              0.084             0.0  ...               0.0               0.0   \n",
       "3              0.105             0.0  ...               0.0               0.0   \n",
       "4             -0.252             0.0  ...               0.0               0.0   \n",
       "...              ...             ...  ...               ...               ...   \n",
       "310699         0.064             0.0  ...               0.0               0.0   \n",
       "310700        -1.518             0.0  ...               0.0               0.0   \n",
       "310701        -1.714             0.0  ...               0.0               0.0   \n",
       "310702        -0.953             0.0  ...               0.0               0.0   \n",
       "310703        -0.459             0.0  ...               0.0               0.0   \n",
       "\n",
       "        USFASTD_SPTYCHEM  USFASTD_SPTYSTOR  USFASTD_STREVRSL  USFASTD_TELECOM  \\\n",
       "0                  0.000               0.0            -0.143              0.0   \n",
       "1                  0.000               0.0            -1.099              0.0   \n",
       "2                  0.000               0.0            -0.020              0.0   \n",
       "3                  0.000               0.0            -0.676              0.0   \n",
       "4                  0.000               0.0            -0.552              0.0   \n",
       "...                  ...               ...               ...              ...   \n",
       "310699             0.000               0.0             0.211              0.0   \n",
       "310700             0.028               0.0             0.239              0.0   \n",
       "310701             0.000               0.0             0.130              0.0   \n",
       "310702             0.000               0.0            -0.777              0.0   \n",
       "310703             0.893               0.0            -0.122              0.0   \n",
       "\n",
       "        USFASTD_TRADECO  USFASTD_TRANSPRT  USFASTD_VALUE  USFASTD_WIRELESS  \n",
       "0                 0.371               0.0         -0.083               0.0  \n",
       "1                 0.000               0.0         -0.051               0.0  \n",
       "2                 0.000               0.0         -0.156               0.0  \n",
       "3                 1.000               0.0         -0.682               0.0  \n",
       "4                 0.000               0.0         -0.518               0.0  \n",
       "...                 ...               ...            ...               ...  \n",
       "310699            0.000               0.0          1.448               0.0  \n",
       "310700            0.000               0.0         -0.317               0.0  \n",
       "310701            0.000               0.0          0.800               0.0  \n",
       "310702            0.000               0.0         -0.006               0.0  \n",
       "310703            0.000               0.0          0.544               0.0  \n",
       "\n",
       "[310704 rows x 86 columns]"
      ]
     },
     "execution_count": 4,
     "metadata": {},
     "output_type": "execute_result"
    }
   ],
   "source": [
    "B"
   ]
  },
  {
   "cell_type": "code",
   "execution_count": 5,
   "id": "0fe0fe4d-6fee-4742-bb50-38972ea466b6",
   "metadata": {
    "vscode": {
     "languageId": "python"
    }
   },
   "outputs": [],
   "source": [
    "X_df = pd.read_parquet('./data/XB_PCA_HKML.parquet')"
   ]
  },
  {
   "cell_type": "code",
   "execution_count": 6,
   "id": "3b0cccef-0cb0-4642-9787-f4c86d6fa724",
   "metadata": {
    "vscode": {
     "languageId": "python"
    }
   },
   "outputs": [],
   "source": [
    "X_df.reset_index(drop=True, inplace=True)"
   ]
  },
  {
   "cell_type": "code",
   "execution_count": 7,
   "id": "d922be9e-8b52-41c2-a420-592f172c23f7",
   "metadata": {
    "vscode": {
     "languageId": "python"
    }
   },
   "outputs": [],
   "source": [
    "X_df = X_df[X_df['date'] < '2022-05-01']"
   ]
  },
  {
   "cell_type": "code",
   "execution_count": 8,
   "id": "dc27e448-63ee-496e-860b-3b683a22a600",
   "metadata": {
    "vscode": {
     "languageId": "python"
    }
   },
   "outputs": [],
   "source": [
    "y_df = pd.read_parquet('./data/Y_HKML.parquet')"
   ]
  },
  {
   "cell_type": "code",
   "execution_count": 9,
   "id": "e33da0f3-398a-4e25-b629-e65199005a25",
   "metadata": {
    "vscode": {
     "languageId": "python"
    }
   },
   "outputs": [],
   "source": [
    "y_df = y_df.iloc[X_df.index]"
   ]
  },
  {
   "cell_type": "markdown",
   "id": "70709e39-bec7-4b30-b904-2364362b8d2c",
   "metadata": {
    "tags": []
   },
   "source": [
    "# Train-test split"
   ]
  },
  {
   "cell_type": "code",
   "execution_count": 10,
   "id": "5176c052",
   "metadata": {
    "vscode": {
     "languageId": "python"
    }
   },
   "outputs": [],
   "source": [
    "moons = X_df.date.unique()"
   ]
  },
  {
   "cell_type": "code",
   "execution_count": 11,
   "id": "033138d1",
   "metadata": {
    "vscode": {
     "languageId": "python"
    }
   },
   "outputs": [],
   "source": [
    "moon_train = moons[:230] \n",
    "moon_test = moons[260:]"
   ]
  },
  {
   "cell_type": "markdown",
   "id": "38bbd469",
   "metadata": {},
   "source": [
    "# Define loss function"
   ]
  },
  {
   "cell_type": "code",
   "execution_count": 12,
   "id": "190e82a5",
   "metadata": {
    "vscode": {
     "languageId": "python"
    }
   },
   "outputs": [],
   "source": [
    "import torch\n",
    "import numpy as np\n",
    "import pandas as pd\n",
    "import torch.nn as nn\n",
    "from tqdm import tqdm"
   ]
  },
  {
   "cell_type": "code",
   "execution_count": 13,
   "id": "5e1d8455",
   "metadata": {
    "vscode": {
     "languageId": "python"
    }
   },
   "outputs": [],
   "source": [
    "error_lis_mse = []\n",
    "error_lis_orth = []\n",
    "error_lis_combined = []\n",
    "loss_mse = nn.MSELoss()"
   ]
  },
  {
   "cell_type": "code",
   "execution_count": 14,
   "id": "78e06099",
   "metadata": {
    "vscode": {
     "languageId": "python"
    }
   },
   "outputs": [],
   "source": [
    "def custom_loss2(y_pred, y_true, b_moon):\n",
    "    Omega = torch.eye(len(y_true)) - torch.mm(b_moon, torch.pinverse(b_moon))\n",
    "    z_hat = torch.mm(Omega, y_pred)\n",
    "    \n",
    "    #error = torch.sum((z_hat - y_true)**2) / len(y_true)\n",
    "    #error = torch.mm((z_hat - y_true).T, z_hat - y_true)/len(y_true)\n",
    "    error = torch.linalg.norm(z_hat - y_true)/len(y_true)\n",
    "    #error_lis.append(error)\n",
    "    \n",
    "    \n",
    "    return error"
   ]
  },
  {
   "cell_type": "code",
   "execution_count": 15,
   "id": "82e55605",
   "metadata": {
    "vscode": {
     "languageId": "python"
    }
   },
   "outputs": [],
   "source": [
    "def custom_loss3(y_pred, y_true, b_moon):\n",
    "    #import pdb as pdb\n",
    "    #pdb.set_trace()\n",
    "    #error = error1 + error2\n",
    "    error1 = loss_mse(y_pred, y_true) /len(y_true)\n",
    "    error2 = loss_mse(torch.zeros(b_moon.shape[1],1), torch.mm(b_moon.T, y_pred))/len(y_true)\n",
    "    error = error1 #+ error2 \n",
    "    error_lis_mse.append(error1.item())\n",
    "    error_lis_orth.append(error2.item())\n",
    "    error_lis_combined.append(error.item())\n",
    "    \n",
    "    \n",
    "    return error"
   ]
  },
  {
   "cell_type": "markdown",
   "id": "8f3858b4-2797-451d-bde6-22d5bcaeaef8",
   "metadata": {
    "tags": []
   },
   "source": [
    "# Train model and predict"
   ]
  },
  {
   "cell_type": "code",
   "execution_count": 16,
   "id": "57f615fa-40d3-4105-9df4-6bba9633f656",
   "metadata": {
    "vscode": {
     "languageId": "python"
    }
   },
   "outputs": [],
   "source": [
    "# As this notebook shows a simple linear model, there is no need to introduce validation data, i.e. \n",
    "# the training is deterministic and only one epoch is necessary to perform it.\n",
    "# Nevertheless, this section should train such that the validation loss is minimized."
   ]
  },
  {
   "cell_type": "code",
   "execution_count": 17,
   "id": "1571a985",
   "metadata": {
    "vscode": {
     "languageId": "python"
    }
   },
   "outputs": [],
   "source": [
    "class RegressionModel(torch.nn.Module):\n",
    "    def __init__(self, input_size, hidden_size, output_size):\n",
    "        super(RegressionModel, self).__init__()\n",
    "        self.fc1 = torch.nn.Linear(input_size, hidden_size)\n",
    "        self.relu = torch.nn.ReLU()\n",
    "        self.fc2 = torch.nn.Linear(hidden_size, hidden_size)\n",
    "        self.fc3 = torch.nn.Linear(hidden_size, output_size)\n",
    "        #self.dropout = nn.Dropout(0.5)\n",
    "        \n",
    "    def forward(self, x):\n",
    "        hidden = self.fc1(x) # n*86, hidden.shape --> n*512\n",
    "        relu_output = self.relu(hidden) \n",
    "        #dropout = self.dropout(relu_output)\n",
    "        hidden2 = self.fc2(relu_output) # hidden2.shape --> n*512\n",
    "        relu_output = self.relu(hidden2)\n",
    "        #dropout = self.dropout(relu_output)\n",
    "        y_pred = self.fc3(relu_output) # y_pred.shape --> n*1\n",
    "        return y_pred"
   ]
  },
  {
   "cell_type": "code",
   "execution_count": 18,
   "id": "64efbd0f",
   "metadata": {
    "vscode": {
     "languageId": "python"
    }
   },
   "outputs": [],
   "source": [
    "# Create an instance of the model\n",
    "model = RegressionModel(input_size=177, hidden_size=512, output_size=1)\n",
    "\n",
    "# Define the optimizer\n",
    "optimizer = torch.optim.Adam(model.parameters())\n",
    "\n",
    "# train model for 5 epochs using custom loss function\n",
    "num_epochs = 10"
   ]
  },
  {
   "cell_type": "code",
   "execution_count": 19,
   "id": "c9fc2162",
   "metadata": {
    "vscode": {
     "languageId": "python"
    }
   },
   "outputs": [
    {
     "name": "stderr",
     "output_type": "stream",
     "text": [
      " 10%|█         | 1/10 [00:04<00:38,  4.26s/it]"
     ]
    },
    {
     "name": "stdout",
     "output_type": "stream",
     "text": [
      "Epoch [1/10], Loss: 0.0000031293\n"
     ]
    },
    {
     "name": "stderr",
     "output_type": "stream",
     "text": [
      " 20%|██        | 2/10 [00:08<00:32,  4.02s/it]"
     ]
    },
    {
     "name": "stdout",
     "output_type": "stream",
     "text": [
      "Epoch [2/10], Loss: 0.0000029808\n"
     ]
    },
    {
     "name": "stderr",
     "output_type": "stream",
     "text": [
      " 30%|███       | 3/10 [00:12<00:28,  4.02s/it]"
     ]
    },
    {
     "name": "stdout",
     "output_type": "stream",
     "text": [
      "Epoch [3/10], Loss: 0.0000028753\n"
     ]
    },
    {
     "name": "stderr",
     "output_type": "stream",
     "text": [
      " 40%|████      | 4/10 [00:16<00:24,  4.10s/it]"
     ]
    },
    {
     "name": "stdout",
     "output_type": "stream",
     "text": [
      "Epoch [4/10], Loss: 0.0000027919\n"
     ]
    },
    {
     "name": "stderr",
     "output_type": "stream",
     "text": [
      " 50%|█████     | 5/10 [00:20<00:20,  4.11s/it]"
     ]
    },
    {
     "name": "stdout",
     "output_type": "stream",
     "text": [
      "Epoch [5/10], Loss: 0.0000027139\n"
     ]
    },
    {
     "name": "stderr",
     "output_type": "stream",
     "text": [
      " 60%|██████    | 6/10 [00:24<00:16,  4.20s/it]"
     ]
    },
    {
     "name": "stdout",
     "output_type": "stream",
     "text": [
      "Epoch [6/10], Loss: 0.0000026331\n"
     ]
    },
    {
     "name": "stderr",
     "output_type": "stream",
     "text": [
      " 70%|███████   | 7/10 [00:29<00:12,  4.27s/it]"
     ]
    },
    {
     "name": "stdout",
     "output_type": "stream",
     "text": [
      "Epoch [7/10], Loss: 0.0000025468\n"
     ]
    },
    {
     "name": "stderr",
     "output_type": "stream",
     "text": [
      " 80%|████████  | 8/10 [00:33<00:08,  4.21s/it]"
     ]
    },
    {
     "name": "stdout",
     "output_type": "stream",
     "text": [
      "Epoch [8/10], Loss: 0.0000024633\n"
     ]
    },
    {
     "name": "stderr",
     "output_type": "stream",
     "text": [
      " 90%|█████████ | 9/10 [00:37<00:04,  4.17s/it]"
     ]
    },
    {
     "name": "stdout",
     "output_type": "stream",
     "text": [
      "Epoch [9/10], Loss: 0.0000023676\n"
     ]
    },
    {
     "name": "stderr",
     "output_type": "stream",
     "text": [
      "100%|██████████| 10/10 [00:41<00:00,  4.11s/it]"
     ]
    },
    {
     "name": "stdout",
     "output_type": "stream",
     "text": [
      "Epoch [10/10], Loss: 0.0000022615\n"
     ]
    },
    {
     "name": "stderr",
     "output_type": "stream",
     "text": [
      "\n"
     ]
    }
   ],
   "source": [
    "for i in tqdm(range(num_epochs)):\n",
    "    # print(f\"Epoch {i+1}\")\n",
    "    # create minibatch of data\n",
    "    #batch_size = 100\n",
    "    for moon in moons[:230]:\n",
    "        #pdb.set_trace()\n",
    "        X_moon = torch.from_numpy(X_df[X_df.date == moon].drop(columns=[\"date\"]).values).to(torch.float32)\n",
    "        y_moon = torch.from_numpy(y_df[X_df.date == moon].values.reshape(-1,1)).to(torch.float32)\n",
    "\n",
    "        b_moon = torch.from_numpy(B[X_df.date == moon].drop(columns=[\"date\"]).values).to(torch.float32)\n",
    "        y_pred = model(X_moon)\n",
    "        loss = custom_loss3(y_pred, y_moon, b_moon)\n",
    "        #loss = loss_mse(y_pred, y_moon)\n",
    "        #error_lis.append(loss.item())\n",
    "        \n",
    "        # Backward pass and optimization\n",
    "        optimizer.zero_grad()\n",
    "        loss.backward()\n",
    "        optimizer.step()\n",
    "        \n",
    "    # Print the loss every 100 epochs\n",
    "    if (i + 1) % 1 == 0:\n",
    "        print('Epoch [{}/{}], Loss: {:.10f}'.format(i+1, num_epochs, loss.item()))"
   ]
  },
  {
   "cell_type": "code",
   "execution_count": 20,
   "id": "4dfb503f",
   "metadata": {
    "vscode": {
     "languageId": "python"
    }
   },
   "outputs": [
    {
     "data": {
      "text/plain": [
       "[<matplotlib.lines.Line2D at 0x7f43a67f13d0>]"
      ]
     },
     "execution_count": 20,
     "metadata": {},
     "output_type": "execute_result"
    },
    {
     "data": {
      "image/png": "[encoded data removed]",
      "text/plain": [
       "<Figure size 432x288 with 1 Axes>"
      ]
     },
     "metadata": {
      "needs_background": "light"
     },
     "output_type": "display_data"
    }
   ],
   "source": [
    "plt.semilogy(error_lis_mse)"
   ]
  },
  {
   "cell_type": "code",
   "execution_count": 21,
   "id": "65626707-922b-45e0-8cc5-bc788a2b5b49",
   "metadata": {
    "vscode": {
     "languageId": "python"
    }
   },
   "outputs": [
    {
     "data": {
      "text/plain": [
       "[<matplotlib.lines.Line2D at 0x7f43a6668eb0>]"
      ]
     },
     "execution_count": 21,
     "metadata": {},
     "output_type": "execute_result"
    },
    {
     "data": {
      "image/png": "[encoded data removed]",
      "text/plain": [
       "<Figure size 432x288 with 1 Axes>"
      ]
     },
     "metadata": {
      "needs_background": "light"
     },
     "output_type": "display_data"
    }
   ],
   "source": [
    "plt.semilogy(error_lis_orth)"
   ]
  },
  {
   "cell_type": "code",
   "execution_count": 22,
   "id": "73ddee45",
   "metadata": {
    "vscode": {
     "languageId": "python"
    }
   },
   "outputs": [
    {
     "data": {
      "text/plain": [
       "[<matplotlib.lines.Line2D at 0x7f43a49e8b50>]"
      ]
     },
     "execution_count": 22,
     "metadata": {},
     "output_type": "execute_result"
    },
    {
     "data": {
      "image/png": "[encoded data removed]",
      "text/plain": [
       "<Figure size 432x288 with 1 Axes>"
      ]
     },
     "metadata": {
      "needs_background": "light"
     },
     "output_type": "display_data"
    }
   ],
   "source": [
    "plt.semilogy(error_lis_combined)"
   ]
  },
  {
   "cell_type": "code",
   "execution_count": 23,
   "id": "bd7b0479",
   "metadata": {
    "vscode": {
     "languageId": "python"
    }
   },
   "outputs": [],
   "source": [
    "epoch_loss = []\n",
    "epoch_loss_mse = []\n",
    "epoch_loss_orth = []\n",
    "for i in range(num_epochs - 1):\n",
    "    epoch_loss.append(sum(error_lis_combined[230*i:230*(i+1)]))\n",
    "    epoch_loss_mse.append(sum(error_lis_mse[230*i:230*(i+1)]))\n",
    "    epoch_loss_orth.append(sum(error_lis_mse[230*i:230*(i+1)]))"
   ]
  },
  {
   "cell_type": "code",
   "execution_count": 24,
   "id": "33f5fbf5",
   "metadata": {
    "vscode": {
     "languageId": "python"
    }
   },
   "outputs": [
    {
     "data": {
      "text/plain": [
       "(0.001266330476511257, 0.001266330476511257, 0.001266330476511257)"
      ]
     },
     "execution_count": 24,
     "metadata": {},
     "output_type": "execute_result"
    }
   ],
   "source": [
    "epoch_loss[0], epoch_loss_mse[0], epoch_loss_orth[0]"
   ]
  },
  {
   "cell_type": "code",
   "execution_count": 25,
   "id": "6ce3c7df",
   "metadata": {
    "vscode": {
     "languageId": "python"
    }
   },
   "outputs": [
    {
     "data": {
      "text/plain": [
       "[<matplotlib.lines.Line2D at 0x7f43a4536490>]"
      ]
     },
     "execution_count": 25,
     "metadata": {},
     "output_type": "execute_result"
    },
    {
     "data": {
      "image/png": "[encoded data removed]",
      "text/plain": [
       "<Figure size 432x288 with 1 Axes>"
      ]
     },
     "metadata": {
      "needs_background": "light"
     },
     "output_type": "display_data"
    }
   ],
   "source": [
    "plt.semilogy(epoch_loss)"
   ]
  },
  {
   "cell_type": "code",
   "execution_count": 26,
   "id": "4572f213-2a43-42c4-9adb-387442a003d7",
   "metadata": {
    "vscode": {
     "languageId": "python"
    }
   },
   "outputs": [],
   "source": [
    "y_hat =  model(torch.from_numpy(X_df[X_df.date > moons[260]].drop(columns=[\"date\"]).values).to(torch.float32)).detach().numpy()"
   ]
  },
  {
   "cell_type": "code",
   "execution_count": 27,
   "id": "18953448-7c8c-4fc7-8d4f-d97a828d6084",
   "metadata": {
    "vscode": {
     "languageId": "python"
    }
   },
   "outputs": [
    {
     "data": {
      "image/png": "[encoded data removed]",
      "text/plain": [
       "<Figure size 432x288 with 1 Axes>"
      ]
     },
     "metadata": {
      "needs_background": "light"
     },
     "output_type": "display_data"
    }
   ],
   "source": [
    "plt.hist(y_hat, bins=100)\n",
    "plt.show()"
   ]
  },
  {
   "cell_type": "code",
   "execution_count": 28,
   "id": "99dd01e5",
   "metadata": {
    "vscode": {
     "languageId": "python"
    }
   },
   "outputs": [],
   "source": [
    "y_test = y_df[X_df.date > moons[260]].values.reshape(-1,1)"
   ]
  },
  {
   "cell_type": "code",
   "execution_count": 29,
   "id": "65c1dc1f-d8a7-4bac-8b2b-283fb73a9eac",
   "metadata": {
    "vscode": {
     "languageId": "python"
    }
   },
   "outputs": [
    {
     "data": {
      "image/png": "[encoded data removed]",
      "text/plain": [
       "<Figure size 432x288 with 1 Axes>"
      ]
     },
     "metadata": {
      "needs_background": "light"
     },
     "output_type": "display_data"
    }
   ],
   "source": [
    "plt.hist(y_test, bins=100)\n",
    "plt.show()"
   ]
  },
  {
   "cell_type": "code",
   "execution_count": 33,
   "id": "fbe669a0-176c-4df3-9469-2753203103f1",
   "metadata": {
    "vscode": {
     "languageId": "python"
    }
   },
   "outputs": [],
   "source": [
    "y_hat = y_hat.ravel()\n",
    "y_test = y_test.ravel()"
   ]
  },
  {
   "cell_type": "code",
   "execution_count": 34,
   "id": "53f823db",
   "metadata": {
    "vscode": {
     "languageId": "python"
    }
   },
   "outputs": [
    {
     "data": {
      "text/plain": [
       "((46376,), (46376,))"
      ]
     },
     "execution_count": 34,
     "metadata": {},
     "output_type": "execute_result"
    }
   ],
   "source": [
    "y_hat.shape, y_test.shape"
   ]
  },
  {
   "cell_type": "markdown",
   "id": "fe33e9ff-4d10-46e8-8ba7-467b27a612ee",
   "metadata": {
    "tags": []
   },
   "source": [
    "# Scatter plot to show linear relation between Y and y_hat"
   ]
  },
  {
   "cell_type": "code",
   "execution_count": 35,
   "id": "f99e2574-a73c-4336-89a3-9b2f813e0b1d",
   "metadata": {
    "vscode": {
     "languageId": "python"
    }
   },
   "outputs": [],
   "source": [
    "from scipy.stats import linregress"
   ]
  },
  {
   "cell_type": "code",
   "execution_count": 36,
   "id": "1493bddd-9d18-4efb-9cd9-65f50d91159d",
   "metadata": {
    "tags": [],
    "vscode": {
     "languageId": "python"
    }
   },
   "outputs": [
    {
     "data": {
      "image/png": "[encoded data removed]",
      "text/plain": [
       "<Figure size 432x288 with 1 Axes>"
      ]
     },
     "metadata": {
      "needs_background": "light"
     },
     "output_type": "display_data"
    }
   ],
   "source": [
    "slope, intercept, r_value, p_value, std_err = linregress(y_test, y_hat)\n",
    "plt.scatter(y_test, y_hat)\n",
    "plt.plot(y_test, slope * y_test + intercept,'r')\n",
    "plt.show()"
   ]
  },
  {
   "cell_type": "code",
   "execution_count": 37,
   "id": "646df329-d79d-4c6d-b215-fd0d9fdbb54f",
   "metadata": {
    "vscode": {
     "languageId": "python"
    }
   },
   "outputs": [],
   "source": [
    "y_hat_df = pd.DataFrame()\n",
    "y_hat_df['date'] = X_df[X_df['date'] > moons[260]].date\n",
    "y_hat_df['y_hat'] = y_hat\n",
    "y_hat_df['Y'] = y_test"
   ]
  },
  {
   "cell_type": "code",
   "execution_count": 38,
   "id": "9c552192-2e5b-4724-aaef-c05012a343bb",
   "metadata": {
    "vscode": {
     "languageId": "python"
    }
   },
   "outputs": [
    {
     "data": {
      "text/html": [
       "<div>\n",
       "<style scoped>\n",
       "    .dataframe tbody tr th:only-of-type {\n",
       "        vertical-align: middle;\n",
       "    }\n",
       "\n",
       "    .dataframe tbody tr th {\n",
       "        vertical-align: top;\n",
       "    }\n",
       "\n",
       "    .dataframe thead th {\n",
       "        text-align: right;\n",
       "    }\n",
       "</style>\n",
       "<table border=\"1\" class=\"dataframe\">\n",
       "  <thead>\n",
       "    <tr style=\"text-align: right;\">\n",
       "      <th></th>\n",
       "      <th>date</th>\n",
       "      <th>y_hat</th>\n",
       "      <th>Y</th>\n",
       "    </tr>\n",
       "  </thead>\n",
       "  <tbody>\n",
       "    <tr>\n",
       "      <th>264328</th>\n",
       "      <td>2021-06-16</td>\n",
       "      <td>-0.014018</td>\n",
       "      <td>-0.010859</td>\n",
       "    </tr>\n",
       "    <tr>\n",
       "      <th>264329</th>\n",
       "      <td>2021-06-16</td>\n",
       "      <td>0.027639</td>\n",
       "      <td>-0.036569</td>\n",
       "    </tr>\n",
       "    <tr>\n",
       "      <th>264330</th>\n",
       "      <td>2021-06-16</td>\n",
       "      <td>-0.021103</td>\n",
       "      <td>-0.005702</td>\n",
       "    </tr>\n",
       "    <tr>\n",
       "      <th>264331</th>\n",
       "      <td>2021-06-16</td>\n",
       "      <td>0.013848</td>\n",
       "      <td>-0.017353</td>\n",
       "    </tr>\n",
       "    <tr>\n",
       "      <th>264332</th>\n",
       "      <td>2021-06-16</td>\n",
       "      <td>-0.007365</td>\n",
       "      <td>-0.021563</td>\n",
       "    </tr>\n",
       "    <tr>\n",
       "      <th>...</th>\n",
       "      <td>...</td>\n",
       "      <td>...</td>\n",
       "      <td>...</td>\n",
       "    </tr>\n",
       "    <tr>\n",
       "      <th>310699</th>\n",
       "      <td>2022-04-27</td>\n",
       "      <td>-0.011314</td>\n",
       "      <td>0.020271</td>\n",
       "    </tr>\n",
       "    <tr>\n",
       "      <th>310700</th>\n",
       "      <td>2022-04-27</td>\n",
       "      <td>-0.003233</td>\n",
       "      <td>-0.023498</td>\n",
       "    </tr>\n",
       "    <tr>\n",
       "      <th>310701</th>\n",
       "      <td>2022-04-27</td>\n",
       "      <td>0.007323</td>\n",
       "      <td>0.007559</td>\n",
       "    </tr>\n",
       "    <tr>\n",
       "      <th>310702</th>\n",
       "      <td>2022-04-27</td>\n",
       "      <td>-0.011329</td>\n",
       "      <td>-0.006418</td>\n",
       "    </tr>\n",
       "    <tr>\n",
       "      <th>310703</th>\n",
       "      <td>2022-04-27</td>\n",
       "      <td>-0.003623</td>\n",
       "      <td>0.014513</td>\n",
       "    </tr>\n",
       "  </tbody>\n",
       "</table>\n",
       "<p>46376 rows × 3 columns</p>\n",
       "</div>"
      ],
      "text/plain": [
       "             date     y_hat         Y\n",
       "264328 2021-06-16 -0.014018 -0.010859\n",
       "264329 2021-06-16  0.027639 -0.036569\n",
       "264330 2021-06-16 -0.021103 -0.005702\n",
       "264331 2021-06-16  0.013848 -0.017353\n",
       "264332 2021-06-16 -0.007365 -0.021563\n",
       "...           ...       ...       ...\n",
       "310699 2022-04-27 -0.011314  0.020271\n",
       "310700 2022-04-27 -0.003233 -0.023498\n",
       "310701 2022-04-27  0.007323  0.007559\n",
       "310702 2022-04-27 -0.011329 -0.006418\n",
       "310703 2022-04-27 -0.003623  0.014513\n",
       "\n",
       "[46376 rows x 3 columns]"
      ]
     },
     "execution_count": 38,
     "metadata": {},
     "output_type": "execute_result"
    }
   ],
   "source": [
    "y_hat_df # custom_fitenss"
   ]
  },
  {
   "cell_type": "markdown",
   "id": "809cca28-ef94-4a11-b5ba-7ec1451d5022",
   "metadata": {
    "tags": []
   },
   "source": [
    "# Spearman"
   ]
  },
  {
   "cell_type": "code",
   "execution_count": 39,
   "id": "e0508f44-a287-46e6-aa39-92350319ddff",
   "metadata": {
    "vscode": {
     "languageId": "python"
    }
   },
   "outputs": [],
   "source": [
    "def spear(x):\n",
    "    return x.corr(method='spearman').iloc[0, 1]"
   ]
  },
  {
   "cell_type": "code",
   "execution_count": 40,
   "id": "27b6497f-2958-4b37-b4e6-fdac26b315fb",
   "metadata": {
    "vscode": {
     "languageId": "python"
    }
   },
   "outputs": [
    {
     "name": "stderr",
     "output_type": "stream",
     "text": [
      "/tmp/ipykernel_15786/710519440.py:2: FutureWarning: The default value of numeric_only in DataFrame.corr is deprecated. In a future version, it will default to False. Select only valid columns or specify the value of numeric_only to silence this warning.\n",
      "  return x.corr(method='spearman').iloc[0, 1]\n"
     ]
    }
   ],
   "source": [
    "spearman = y_hat_df.groupby(\"date\").apply(lambda x: spear(x))"
   ]
  },
  {
   "cell_type": "code",
   "execution_count": 41,
   "id": "453e3f2b-3fd9-4db0-ba50-879ecc3ac083",
   "metadata": {
    "vscode": {
     "languageId": "python"
    }
   },
   "outputs": [
    {
     "data": {
      "text/plain": [
       "(0.005413994373631479, (46,))"
      ]
     },
     "execution_count": 41,
     "metadata": {},
     "output_type": "execute_result"
    }
   ],
   "source": [
    "spearman.mean(), spearman.shape # 46 values for 46 moons"
   ]
  },
  {
   "cell_type": "code",
   "execution_count": 42,
   "id": "331a4511-aa60-4cd5-b066-cf444c9831d0",
   "metadata": {
    "vscode": {
     "languageId": "python"
    }
   },
   "outputs": [
    {
     "data": {
      "image/png": "[encoded data removed]",
      "text/plain": [
       "<Figure size 432x288 with 1 Axes>"
      ]
     },
     "metadata": {
      "needs_background": "light"
     },
     "output_type": "display_data"
    }
   ],
   "source": [
    "spearman.plot()\n",
    "plt.axhline(y=spearman.mean(), color='r', linestyle='-')\n",
    "plt.show()"
   ]
  },
  {
   "cell_type": "code",
   "execution_count": 43,
   "id": "42047339-f003-4ced-bfcc-64355912a1b1",
   "metadata": {
    "vscode": {
     "languageId": "python"
    }
   },
   "outputs": [
    {
     "data": {
      "text/plain": [
       "<matplotlib.lines.Line2D at 0x7f43a493b130>"
      ]
     },
     "execution_count": 43,
     "metadata": {},
     "output_type": "execute_result"
    },
    {
     "data": {
      "image/png": "[encoded data removed]",
      "text/plain": [
       "<Figure size 432x288 with 1 Axes>"
      ]
     },
     "metadata": {
      "needs_background": "light"
     },
     "output_type": "display_data"
    }
   ],
   "source": [
    "spearman.hist(bins=30)\n",
    "plt.axvline(x=spearman.mean(), color='r', linestyle='-')"
   ]
  },
  {
   "cell_type": "markdown",
   "id": "c85b7dbe-1d0b-43bf-8391-c0c1124dda6c",
   "metadata": {},
   "source": [
    "# MSE"
   ]
  },
  {
   "cell_type": "code",
   "execution_count": 44,
   "id": "2bd36648-3109-4bfe-b50f-a31571bc5dfb",
   "metadata": {
    "vscode": {
     "languageId": "python"
    }
   },
   "outputs": [],
   "source": [
    "mse = y_hat_df.groupby('date').apply(lambda x: mean_squared_error(x.y_hat, x.Y))"
   ]
  },
  {
   "cell_type": "code",
   "execution_count": 45,
   "id": "96804420-818f-4e4e-8644-2b3d083d9449",
   "metadata": {
    "vscode": {
     "languageId": "python"
    }
   },
   "outputs": [
    {
     "data": {
      "image/png": "[encoded data removed]",
      "text/plain": [
       "<Figure size 432x288 with 1 Axes>"
      ]
     },
     "metadata": {
      "needs_background": "light"
     },
     "output_type": "display_data"
    }
   ],
   "source": [
    "mse.plot()\n",
    "plt.axhline(y=mse.mean(), color='r', linestyle='-')\n",
    "plt.show()"
   ]
  },
  {
   "cell_type": "code",
   "execution_count": 46,
   "id": "a6f15537-3767-43f4-8aab-8f827340832c",
   "metadata": {
    "vscode": {
     "languageId": "python"
    }
   },
   "outputs": [
    {
     "data": {
      "text/plain": [
       "<matplotlib.lines.Line2D at 0x7f43a40190a0>"
      ]
     },
     "execution_count": 46,
     "metadata": {},
     "output_type": "execute_result"
    },
    {
     "data": {
      "image/png": "[encoded data removed]",
      "text/plain": [
       "<Figure size 432x288 with 1 Axes>"
      ]
     },
     "metadata": {
      "needs_background": "light"
     },
     "output_type": "display_data"
    }
   ],
   "source": [
    "mse.hist(bins=30)\n",
    "plt.axvline(x=mse.mean(), color='r', linestyle='-')"
   ]
  },
  {
   "cell_type": "markdown",
   "id": "4a4c19fc-7397-4f21-948f-b7643040882a",
   "metadata": {},
   "source": [
    "# Orthogonalize output and show same results."
   ]
  },
  {
   "cell_type": "code",
   "execution_count": 47,
   "id": "b3ea32da-42a1-4e74-8dd6-5b9e74584ad2",
   "metadata": {
    "vscode": {
     "languageId": "python"
    }
   },
   "outputs": [],
   "source": [
    "B = B[X_df.date > moons[260]]"
   ]
  },
  {
   "cell_type": "code",
   "execution_count": 48,
   "id": "71f07e1b",
   "metadata": {
    "vscode": {
     "languageId": "python"
    }
   },
   "outputs": [
    {
     "data": {
      "text/html": [
       "<div>\n",
       "<style scoped>\n",
       "    .dataframe tbody tr th:only-of-type {\n",
       "        vertical-align: middle;\n",
       "    }\n",
       "\n",
       "    .dataframe tbody tr th {\n",
       "        vertical-align: top;\n",
       "    }\n",
       "\n",
       "    .dataframe thead th {\n",
       "        text-align: right;\n",
       "    }\n",
       "</style>\n",
       "<table border=\"1\" class=\"dataframe\">\n",
       "  <thead>\n",
       "    <tr style=\"text-align: right;\">\n",
       "      <th></th>\n",
       "      <th>date</th>\n",
       "      <th>USFASTD_1DREVRSL</th>\n",
       "      <th>USFASTD_AERODEF</th>\n",
       "      <th>USFASTD_AIRLINES</th>\n",
       "      <th>USFASTD_ALUMSTEL</th>\n",
       "      <th>USFASTD_APPAREL</th>\n",
       "      <th>USFASTD_AUTO</th>\n",
       "      <th>USFASTD_BANKS</th>\n",
       "      <th>USFASTD_BETA</th>\n",
       "      <th>USFASTD_BEVTOB</th>\n",
       "      <th>...</th>\n",
       "      <th>USFASTD_SOFTWARE</th>\n",
       "      <th>USFASTD_SPLTYRET</th>\n",
       "      <th>USFASTD_SPTYCHEM</th>\n",
       "      <th>USFASTD_SPTYSTOR</th>\n",
       "      <th>USFASTD_STREVRSL</th>\n",
       "      <th>USFASTD_TELECOM</th>\n",
       "      <th>USFASTD_TRADECO</th>\n",
       "      <th>USFASTD_TRANSPRT</th>\n",
       "      <th>USFASTD_VALUE</th>\n",
       "      <th>USFASTD_WIRELESS</th>\n",
       "    </tr>\n",
       "  </thead>\n",
       "  <tbody>\n",
       "    <tr>\n",
       "      <th>264328</th>\n",
       "      <td>2021-06-16</td>\n",
       "      <td>0.596</td>\n",
       "      <td>0.852</td>\n",
       "      <td>0.0</td>\n",
       "      <td>0.0</td>\n",
       "      <td>0.0</td>\n",
       "      <td>0.0</td>\n",
       "      <td>0.000</td>\n",
       "      <td>1.101</td>\n",
       "      <td>0.0</td>\n",
       "      <td>...</td>\n",
       "      <td>0.0</td>\n",
       "      <td>0.0</td>\n",
       "      <td>0.000</td>\n",
       "      <td>0.0</td>\n",
       "      <td>0.372</td>\n",
       "      <td>0.0</td>\n",
       "      <td>0.000</td>\n",
       "      <td>0.148</td>\n",
       "      <td>-1.258</td>\n",
       "      <td>0.0</td>\n",
       "    </tr>\n",
       "    <tr>\n",
       "      <th>264329</th>\n",
       "      <td>2021-06-16</td>\n",
       "      <td>-0.934</td>\n",
       "      <td>0.000</td>\n",
       "      <td>0.0</td>\n",
       "      <td>0.0</td>\n",
       "      <td>0.0</td>\n",
       "      <td>0.0</td>\n",
       "      <td>0.000</td>\n",
       "      <td>-0.048</td>\n",
       "      <td>0.0</td>\n",
       "      <td>...</td>\n",
       "      <td>0.0</td>\n",
       "      <td>0.0</td>\n",
       "      <td>0.000</td>\n",
       "      <td>0.0</td>\n",
       "      <td>-1.351</td>\n",
       "      <td>0.0</td>\n",
       "      <td>0.000</td>\n",
       "      <td>0.000</td>\n",
       "      <td>2.165</td>\n",
       "      <td>0.0</td>\n",
       "    </tr>\n",
       "    <tr>\n",
       "      <th>264330</th>\n",
       "      <td>2021-06-16</td>\n",
       "      <td>-0.119</td>\n",
       "      <td>0.000</td>\n",
       "      <td>0.0</td>\n",
       "      <td>0.0</td>\n",
       "      <td>0.0</td>\n",
       "      <td>0.0</td>\n",
       "      <td>0.000</td>\n",
       "      <td>-0.378</td>\n",
       "      <td>0.0</td>\n",
       "      <td>...</td>\n",
       "      <td>0.0</td>\n",
       "      <td>0.0</td>\n",
       "      <td>0.448</td>\n",
       "      <td>0.0</td>\n",
       "      <td>0.285</td>\n",
       "      <td>0.0</td>\n",
       "      <td>0.096</td>\n",
       "      <td>0.000</td>\n",
       "      <td>0.607</td>\n",
       "      <td>0.0</td>\n",
       "    </tr>\n",
       "    <tr>\n",
       "      <th>264331</th>\n",
       "      <td>2021-06-16</td>\n",
       "      <td>-0.519</td>\n",
       "      <td>0.000</td>\n",
       "      <td>0.0</td>\n",
       "      <td>0.0</td>\n",
       "      <td>0.0</td>\n",
       "      <td>0.0</td>\n",
       "      <td>0.000</td>\n",
       "      <td>0.662</td>\n",
       "      <td>0.0</td>\n",
       "      <td>...</td>\n",
       "      <td>0.0</td>\n",
       "      <td>0.0</td>\n",
       "      <td>0.000</td>\n",
       "      <td>0.0</td>\n",
       "      <td>-0.508</td>\n",
       "      <td>0.0</td>\n",
       "      <td>0.000</td>\n",
       "      <td>0.000</td>\n",
       "      <td>-0.261</td>\n",
       "      <td>0.0</td>\n",
       "    </tr>\n",
       "    <tr>\n",
       "      <th>264332</th>\n",
       "      <td>2021-06-16</td>\n",
       "      <td>0.504</td>\n",
       "      <td>0.000</td>\n",
       "      <td>0.0</td>\n",
       "      <td>0.0</td>\n",
       "      <td>0.0</td>\n",
       "      <td>0.0</td>\n",
       "      <td>0.012</td>\n",
       "      <td>1.319</td>\n",
       "      <td>0.0</td>\n",
       "      <td>...</td>\n",
       "      <td>0.0</td>\n",
       "      <td>0.0</td>\n",
       "      <td>0.000</td>\n",
       "      <td>0.0</td>\n",
       "      <td>-0.176</td>\n",
       "      <td>0.0</td>\n",
       "      <td>0.000</td>\n",
       "      <td>0.000</td>\n",
       "      <td>1.321</td>\n",
       "      <td>0.0</td>\n",
       "    </tr>\n",
       "    <tr>\n",
       "      <th>...</th>\n",
       "      <td>...</td>\n",
       "      <td>...</td>\n",
       "      <td>...</td>\n",
       "      <td>...</td>\n",
       "      <td>...</td>\n",
       "      <td>...</td>\n",
       "      <td>...</td>\n",
       "      <td>...</td>\n",
       "      <td>...</td>\n",
       "      <td>...</td>\n",
       "      <td>...</td>\n",
       "      <td>...</td>\n",
       "      <td>...</td>\n",
       "      <td>...</td>\n",
       "      <td>...</td>\n",
       "      <td>...</td>\n",
       "      <td>...</td>\n",
       "      <td>...</td>\n",
       "      <td>...</td>\n",
       "      <td>...</td>\n",
       "      <td>...</td>\n",
       "    </tr>\n",
       "    <tr>\n",
       "      <th>310699</th>\n",
       "      <td>2022-04-27</td>\n",
       "      <td>-1.975</td>\n",
       "      <td>0.000</td>\n",
       "      <td>0.0</td>\n",
       "      <td>0.0</td>\n",
       "      <td>0.0</td>\n",
       "      <td>0.0</td>\n",
       "      <td>0.000</td>\n",
       "      <td>0.064</td>\n",
       "      <td>0.0</td>\n",
       "      <td>...</td>\n",
       "      <td>0.0</td>\n",
       "      <td>0.0</td>\n",
       "      <td>0.000</td>\n",
       "      <td>0.0</td>\n",
       "      <td>0.211</td>\n",
       "      <td>0.0</td>\n",
       "      <td>0.000</td>\n",
       "      <td>0.000</td>\n",
       "      <td>1.448</td>\n",
       "      <td>0.0</td>\n",
       "    </tr>\n",
       "    <tr>\n",
       "      <th>310700</th>\n",
       "      <td>2022-04-27</td>\n",
       "      <td>-0.140</td>\n",
       "      <td>0.000</td>\n",
       "      <td>0.0</td>\n",
       "      <td>0.0</td>\n",
       "      <td>0.0</td>\n",
       "      <td>0.0</td>\n",
       "      <td>0.000</td>\n",
       "      <td>-1.518</td>\n",
       "      <td>0.0</td>\n",
       "      <td>...</td>\n",
       "      <td>0.0</td>\n",
       "      <td>0.0</td>\n",
       "      <td>0.028</td>\n",
       "      <td>0.0</td>\n",
       "      <td>0.239</td>\n",
       "      <td>0.0</td>\n",
       "      <td>0.000</td>\n",
       "      <td>0.000</td>\n",
       "      <td>-0.317</td>\n",
       "      <td>0.0</td>\n",
       "    </tr>\n",
       "    <tr>\n",
       "      <th>310701</th>\n",
       "      <td>2022-04-27</td>\n",
       "      <td>0.690</td>\n",
       "      <td>0.000</td>\n",
       "      <td>0.0</td>\n",
       "      <td>0.0</td>\n",
       "      <td>0.0</td>\n",
       "      <td>0.0</td>\n",
       "      <td>0.000</td>\n",
       "      <td>-1.714</td>\n",
       "      <td>0.0</td>\n",
       "      <td>...</td>\n",
       "      <td>0.0</td>\n",
       "      <td>0.0</td>\n",
       "      <td>0.000</td>\n",
       "      <td>0.0</td>\n",
       "      <td>0.130</td>\n",
       "      <td>0.0</td>\n",
       "      <td>0.000</td>\n",
       "      <td>0.000</td>\n",
       "      <td>0.800</td>\n",
       "      <td>0.0</td>\n",
       "    </tr>\n",
       "    <tr>\n",
       "      <th>310702</th>\n",
       "      <td>2022-04-27</td>\n",
       "      <td>0.246</td>\n",
       "      <td>0.000</td>\n",
       "      <td>0.0</td>\n",
       "      <td>0.0</td>\n",
       "      <td>0.0</td>\n",
       "      <td>0.0</td>\n",
       "      <td>0.000</td>\n",
       "      <td>-0.953</td>\n",
       "      <td>0.0</td>\n",
       "      <td>...</td>\n",
       "      <td>0.0</td>\n",
       "      <td>0.0</td>\n",
       "      <td>0.000</td>\n",
       "      <td>0.0</td>\n",
       "      <td>-0.777</td>\n",
       "      <td>0.0</td>\n",
       "      <td>0.000</td>\n",
       "      <td>0.000</td>\n",
       "      <td>-0.006</td>\n",
       "      <td>0.0</td>\n",
       "    </tr>\n",
       "    <tr>\n",
       "      <th>310703</th>\n",
       "      <td>2022-04-27</td>\n",
       "      <td>0.146</td>\n",
       "      <td>0.000</td>\n",
       "      <td>0.0</td>\n",
       "      <td>0.0</td>\n",
       "      <td>0.0</td>\n",
       "      <td>0.0</td>\n",
       "      <td>0.000</td>\n",
       "      <td>-0.459</td>\n",
       "      <td>0.0</td>\n",
       "      <td>...</td>\n",
       "      <td>0.0</td>\n",
       "      <td>0.0</td>\n",
       "      <td>0.893</td>\n",
       "      <td>0.0</td>\n",
       "      <td>-0.122</td>\n",
       "      <td>0.0</td>\n",
       "      <td>0.000</td>\n",
       "      <td>0.000</td>\n",
       "      <td>0.544</td>\n",
       "      <td>0.0</td>\n",
       "    </tr>\n",
       "  </tbody>\n",
       "</table>\n",
       "<p>46376 rows × 86 columns</p>\n",
       "</div>"
      ],
      "text/plain": [
       "             date  USFASTD_1DREVRSL  USFASTD_AERODEF  USFASTD_AIRLINES  \\\n",
       "264328 2021-06-16             0.596            0.852               0.0   \n",
       "264329 2021-06-16            -0.934            0.000               0.0   \n",
       "264330 2021-06-16            -0.119            0.000               0.0   \n",
       "264331 2021-06-16            -0.519            0.000               0.0   \n",
       "264332 2021-06-16             0.504            0.000               0.0   \n",
       "...           ...               ...              ...               ...   \n",
       "310699 2022-04-27            -1.975            0.000               0.0   \n",
       "310700 2022-04-27            -0.140            0.000               0.0   \n",
       "310701 2022-04-27             0.690            0.000               0.0   \n",
       "310702 2022-04-27             0.246            0.000               0.0   \n",
       "310703 2022-04-27             0.146            0.000               0.0   \n",
       "\n",
       "        USFASTD_ALUMSTEL  USFASTD_APPAREL  USFASTD_AUTO  USFASTD_BANKS  \\\n",
       "264328               0.0              0.0           0.0          0.000   \n",
       "264329               0.0              0.0           0.0          0.000   \n",
       "264330               0.0              0.0           0.0          0.000   \n",
       "264331               0.0              0.0           0.0          0.000   \n",
       "264332               0.0              0.0           0.0          0.012   \n",
       "...                  ...              ...           ...            ...   \n",
       "310699               0.0              0.0           0.0          0.000   \n",
       "310700               0.0              0.0           0.0          0.000   \n",
       "310701               0.0              0.0           0.0          0.000   \n",
       "310702               0.0              0.0           0.0          0.000   \n",
       "310703               0.0              0.0           0.0          0.000   \n",
       "\n",
       "        USFASTD_BETA  USFASTD_BEVTOB  ...  USFASTD_SOFTWARE  USFASTD_SPLTYRET  \\\n",
       "264328         1.101             0.0  ...               0.0               0.0   \n",
       "264329        -0.048             0.0  ...               0.0               0.0   \n",
       "264330        -0.378             0.0  ...               0.0               0.0   \n",
       "264331         0.662             0.0  ...               0.0               0.0   \n",
       "264332         1.319             0.0  ...               0.0               0.0   \n",
       "...              ...             ...  ...               ...               ...   \n",
       "310699         0.064             0.0  ...               0.0               0.0   \n",
       "310700        -1.518             0.0  ...               0.0               0.0   \n",
       "310701        -1.714             0.0  ...               0.0               0.0   \n",
       "310702        -0.953             0.0  ...               0.0               0.0   \n",
       "310703        -0.459             0.0  ...               0.0               0.0   \n",
       "\n",
       "        USFASTD_SPTYCHEM  USFASTD_SPTYSTOR  USFASTD_STREVRSL  USFASTD_TELECOM  \\\n",
       "264328             0.000               0.0             0.372              0.0   \n",
       "264329             0.000               0.0            -1.351              0.0   \n",
       "264330             0.448               0.0             0.285              0.0   \n",
       "264331             0.000               0.0            -0.508              0.0   \n",
       "264332             0.000               0.0            -0.176              0.0   \n",
       "...                  ...               ...               ...              ...   \n",
       "310699             0.000               0.0             0.211              0.0   \n",
       "310700             0.028               0.0             0.239              0.0   \n",
       "310701             0.000               0.0             0.130              0.0   \n",
       "310702             0.000               0.0            -0.777              0.0   \n",
       "310703             0.893               0.0            -0.122              0.0   \n",
       "\n",
       "        USFASTD_TRADECO  USFASTD_TRANSPRT  USFASTD_VALUE  USFASTD_WIRELESS  \n",
       "264328            0.000             0.148         -1.258               0.0  \n",
       "264329            0.000             0.000          2.165               0.0  \n",
       "264330            0.096             0.000          0.607               0.0  \n",
       "264331            0.000             0.000         -0.261               0.0  \n",
       "264332            0.000             0.000          1.321               0.0  \n",
       "...                 ...               ...            ...               ...  \n",
       "310699            0.000             0.000          1.448               0.0  \n",
       "310700            0.000             0.000         -0.317               0.0  \n",
       "310701            0.000             0.000          0.800               0.0  \n",
       "310702            0.000             0.000         -0.006               0.0  \n",
       "310703            0.000             0.000          0.544               0.0  \n",
       "\n",
       "[46376 rows x 86 columns]"
      ]
     },
     "execution_count": 48,
     "metadata": {},
     "output_type": "execute_result"
    }
   ],
   "source": [
    "B"
   ]
  },
  {
   "cell_type": "code",
   "execution_count": 49,
   "id": "485c1453-969a-42ae-bdac-4f30a43c6557",
   "metadata": {
    "vscode": {
     "languageId": "python"
    }
   },
   "outputs": [],
   "source": [
    "y_hat_date = y_hat_df[['date', 'y_hat']] "
   ]
  },
  {
   "cell_type": "code",
   "execution_count": 50,
   "id": "c7b36bf9-c32b-4f45-a6dd-f927a7d0976b",
   "metadata": {
    "vscode": {
     "languageId": "python"
    }
   },
   "outputs": [],
   "source": [
    "import sys\n",
    "sys.path.insert(1, \"../feature-engineering/src\")\n",
    "from class_ import Data"
   ]
  },
  {
   "cell_type": "code",
   "execution_count": 51,
   "id": "eb6bda90-882d-4a2f-8e9c-382b24f12d0e",
   "metadata": {
    "vscode": {
     "languageId": "python"
    }
   },
   "outputs": [],
   "source": [
    "data = Data(f_matrix=y_hat_date, b_matrix=B)"
   ]
  },
  {
   "cell_type": "code",
   "execution_count": 52,
   "id": "ff8e9024-3cca-4ca2-bf79-9b6ec18597cf",
   "metadata": {
    "vscode": {
     "languageId": "python"
    }
   },
   "outputs": [
    {
     "data": {
      "application/vnd.jupyter.widget-view+json": {
       "model_id": "36f7bce22110473bb8b1404bdbf81783",
       "version_major": 2,
       "version_minor": 0
      },
      "text/plain": [
       "  0%|          | 0/46 [00:00<?, ?it/s]"
      ]
     },
     "metadata": {},
     "output_type": "display_data"
    },
    {
     "data": {
      "text/plain": [
       "0"
      ]
     },
     "execution_count": 52,
     "metadata": {},
     "output_type": "execute_result"
    }
   ],
   "source": [
    "data.orthogonalize()"
   ]
  },
  {
   "cell_type": "code",
   "execution_count": 53,
   "id": "37010d81-0b03-45bd-9c84-22b7e78ebdf7",
   "metadata": {
    "vscode": {
     "languageId": "python"
    }
   },
   "outputs": [
    {
     "data": {
      "text/html": [
       "<div>\n",
       "<style scoped>\n",
       "    .dataframe tbody tr th:only-of-type {\n",
       "        vertical-align: middle;\n",
       "    }\n",
       "\n",
       "    .dataframe tbody tr th {\n",
       "        vertical-align: top;\n",
       "    }\n",
       "\n",
       "    .dataframe thead th {\n",
       "        text-align: right;\n",
       "    }\n",
       "</style>\n",
       "<table border=\"1\" class=\"dataframe\">\n",
       "  <thead>\n",
       "    <tr style=\"text-align: right;\">\n",
       "      <th></th>\n",
       "      <th>date</th>\n",
       "      <th>y_hat</th>\n",
       "    </tr>\n",
       "  </thead>\n",
       "  <tbody>\n",
       "    <tr>\n",
       "      <th>264328</th>\n",
       "      <td>2021-06-16</td>\n",
       "      <td>-0.007689</td>\n",
       "    </tr>\n",
       "    <tr>\n",
       "      <th>264329</th>\n",
       "      <td>2021-06-16</td>\n",
       "      <td>0.029729</td>\n",
       "    </tr>\n",
       "    <tr>\n",
       "      <th>264330</th>\n",
       "      <td>2021-06-16</td>\n",
       "      <td>-0.018560</td>\n",
       "    </tr>\n",
       "    <tr>\n",
       "      <th>264331</th>\n",
       "      <td>2021-06-16</td>\n",
       "      <td>0.016714</td>\n",
       "    </tr>\n",
       "    <tr>\n",
       "      <th>264332</th>\n",
       "      <td>2021-06-16</td>\n",
       "      <td>-0.005404</td>\n",
       "    </tr>\n",
       "    <tr>\n",
       "      <th>...</th>\n",
       "      <td>...</td>\n",
       "      <td>...</td>\n",
       "    </tr>\n",
       "    <tr>\n",
       "      <th>310699</th>\n",
       "      <td>2022-04-27</td>\n",
       "      <td>-0.013270</td>\n",
       "    </tr>\n",
       "    <tr>\n",
       "      <th>310700</th>\n",
       "      <td>2022-04-27</td>\n",
       "      <td>-0.006608</td>\n",
       "    </tr>\n",
       "    <tr>\n",
       "      <th>310701</th>\n",
       "      <td>2022-04-27</td>\n",
       "      <td>0.009350</td>\n",
       "    </tr>\n",
       "    <tr>\n",
       "      <th>310702</th>\n",
       "      <td>2022-04-27</td>\n",
       "      <td>-0.004882</td>\n",
       "    </tr>\n",
       "    <tr>\n",
       "      <th>310703</th>\n",
       "      <td>2022-04-27</td>\n",
       "      <td>-0.006491</td>\n",
       "    </tr>\n",
       "  </tbody>\n",
       "</table>\n",
       "<p>46376 rows × 2 columns</p>\n",
       "</div>"
      ],
      "text/plain": [
       "             date     y_hat\n",
       "264328 2021-06-16 -0.007689\n",
       "264329 2021-06-16  0.029729\n",
       "264330 2021-06-16 -0.018560\n",
       "264331 2021-06-16  0.016714\n",
       "264332 2021-06-16 -0.005404\n",
       "...           ...       ...\n",
       "310699 2022-04-27 -0.013270\n",
       "310700 2022-04-27 -0.006608\n",
       "310701 2022-04-27  0.009350\n",
       "310702 2022-04-27 -0.004882\n",
       "310703 2022-04-27 -0.006491\n",
       "\n",
       "[46376 rows x 2 columns]"
      ]
     },
     "execution_count": 53,
     "metadata": {},
     "output_type": "execute_result"
    }
   ],
   "source": [
    "data.f_matrix"
   ]
  },
  {
   "cell_type": "code",
   "execution_count": 54,
   "id": "921ed32d-0e45-4a26-ac59-4baff8d96daf",
   "metadata": {
    "vscode": {
     "languageId": "python"
    }
   },
   "outputs": [],
   "source": [
    "y_hat_df.y_hat = data.f_matrix.y_hat"
   ]
  },
  {
   "cell_type": "code",
   "execution_count": 55,
   "id": "3811d708-3e47-4f25-ac08-2095637024a4",
   "metadata": {
    "vscode": {
     "languageId": "python"
    }
   },
   "outputs": [
    {
     "data": {
      "text/html": [
       "<div>\n",
       "<style scoped>\n",
       "    .dataframe tbody tr th:only-of-type {\n",
       "        vertical-align: middle;\n",
       "    }\n",
       "\n",
       "    .dataframe tbody tr th {\n",
       "        vertical-align: top;\n",
       "    }\n",
       "\n",
       "    .dataframe thead th {\n",
       "        text-align: right;\n",
       "    }\n",
       "</style>\n",
       "<table border=\"1\" class=\"dataframe\">\n",
       "  <thead>\n",
       "    <tr style=\"text-align: right;\">\n",
       "      <th></th>\n",
       "      <th>date</th>\n",
       "      <th>y_hat</th>\n",
       "      <th>Y</th>\n",
       "    </tr>\n",
       "  </thead>\n",
       "  <tbody>\n",
       "    <tr>\n",
       "      <th>264328</th>\n",
       "      <td>2021-06-16</td>\n",
       "      <td>-0.007689</td>\n",
       "      <td>-0.010859</td>\n",
       "    </tr>\n",
       "    <tr>\n",
       "      <th>264329</th>\n",
       "      <td>2021-06-16</td>\n",
       "      <td>0.029729</td>\n",
       "      <td>-0.036569</td>\n",
       "    </tr>\n",
       "    <tr>\n",
       "      <th>264330</th>\n",
       "      <td>2021-06-16</td>\n",
       "      <td>-0.018560</td>\n",
       "      <td>-0.005702</td>\n",
       "    </tr>\n",
       "    <tr>\n",
       "      <th>264331</th>\n",
       "      <td>2021-06-16</td>\n",
       "      <td>0.016714</td>\n",
       "      <td>-0.017353</td>\n",
       "    </tr>\n",
       "    <tr>\n",
       "      <th>264332</th>\n",
       "      <td>2021-06-16</td>\n",
       "      <td>-0.005404</td>\n",
       "      <td>-0.021563</td>\n",
       "    </tr>\n",
       "    <tr>\n",
       "      <th>...</th>\n",
       "      <td>...</td>\n",
       "      <td>...</td>\n",
       "      <td>...</td>\n",
       "    </tr>\n",
       "    <tr>\n",
       "      <th>310699</th>\n",
       "      <td>2022-04-27</td>\n",
       "      <td>-0.013270</td>\n",
       "      <td>0.020271</td>\n",
       "    </tr>\n",
       "    <tr>\n",
       "      <th>310700</th>\n",
       "      <td>2022-04-27</td>\n",
       "      <td>-0.006608</td>\n",
       "      <td>-0.023498</td>\n",
       "    </tr>\n",
       "    <tr>\n",
       "      <th>310701</th>\n",
       "      <td>2022-04-27</td>\n",
       "      <td>0.009350</td>\n",
       "      <td>0.007559</td>\n",
       "    </tr>\n",
       "    <tr>\n",
       "      <th>310702</th>\n",
       "      <td>2022-04-27</td>\n",
       "      <td>-0.004882</td>\n",
       "      <td>-0.006418</td>\n",
       "    </tr>\n",
       "    <tr>\n",
       "      <th>310703</th>\n",
       "      <td>2022-04-27</td>\n",
       "      <td>-0.006491</td>\n",
       "      <td>0.014513</td>\n",
       "    </tr>\n",
       "  </tbody>\n",
       "</table>\n",
       "<p>46376 rows × 3 columns</p>\n",
       "</div>"
      ],
      "text/plain": [
       "             date     y_hat         Y\n",
       "264328 2021-06-16 -0.007689 -0.010859\n",
       "264329 2021-06-16  0.029729 -0.036569\n",
       "264330 2021-06-16 -0.018560 -0.005702\n",
       "264331 2021-06-16  0.016714 -0.017353\n",
       "264332 2021-06-16 -0.005404 -0.021563\n",
       "...           ...       ...       ...\n",
       "310699 2022-04-27 -0.013270  0.020271\n",
       "310700 2022-04-27 -0.006608 -0.023498\n",
       "310701 2022-04-27  0.009350  0.007559\n",
       "310702 2022-04-27 -0.004882 -0.006418\n",
       "310703 2022-04-27 -0.006491  0.014513\n",
       "\n",
       "[46376 rows x 3 columns]"
      ]
     },
     "execution_count": 55,
     "metadata": {},
     "output_type": "execute_result"
    }
   ],
   "source": [
    "y_hat_df"
   ]
  },
  {
   "cell_type": "code",
   "execution_count": 56,
   "id": "39ec5e17-4d3d-42d1-a347-b04141d09508",
   "metadata": {
    "vscode": {
     "languageId": "python"
    }
   },
   "outputs": [
    {
     "data": {
      "image/png": "[encoded data removed]",
      "text/plain": [
       "<Figure size 432x288 with 1 Axes>"
      ]
     },
     "metadata": {
      "needs_background": "light"
     },
     "output_type": "display_data"
    }
   ],
   "source": [
    "slope, intercept, r_value, p_value, std_err = linregress(y_hat_df.Y,y_hat_df.y_hat)\n",
    "plt.scatter(y_hat_df.Y, y_hat_df.y_hat)\n",
    "plt.plot(y_hat_df.Y, slope * y_hat_df.Y + intercept,'r')\n",
    "plt.show()"
   ]
  },
  {
   "cell_type": "code",
   "execution_count": 304,
   "id": "bc99c607-03f0-49ec-943f-bd1f8c8110d8",
   "metadata": {
    "vscode": {
     "languageId": "python"
    }
   },
   "outputs": [
    {
     "name": "stderr",
     "output_type": "stream",
     "text": [
      "/tmp/ipykernel_15613/710519440.py:2: FutureWarning: The default value of numeric_only in DataFrame.corr is deprecated. In a future version, it will default to False. Select only valid columns or specify the value of numeric_only to silence this warning.\n",
      "  return x.corr(method='spearman').iloc[0, 1]\n"
     ]
    },
    {
     "data": {
      "image/png": "[encoded data removed]",
      "text/plain": [
       "<Figure size 432x288 with 1 Axes>"
      ]
     },
     "metadata": {
      "needs_background": "light"
     },
     "output_type": "display_data"
    }
   ],
   "source": [
    "spearman = y_hat_df.groupby(\"date\").apply(lambda x: spear(x))\n",
    "spearman.plot()\n",
    "plt.axhline(y=spearman.mean(), color='r', linestyle='-')\n",
    "plt.show()"
   ]
  },
  {
   "cell_type": "code",
   "execution_count": 305,
   "id": "eab418c6-6646-4b90-99ad-9cc836748d3a",
   "metadata": {
    "vscode": {
     "languageId": "python"
    }
   },
   "outputs": [
    {
     "data": {
      "text/plain": [
       "<matplotlib.lines.Line2D at 0x7f5bb4475670>"
      ]
     },
     "execution_count": 305,
     "metadata": {},
     "output_type": "execute_result"
    },
    {
     "data": {
      "image/png": "[encoded data removed]",
      "text/plain": [
       "<Figure size 432x288 with 1 Axes>"
      ]
     },
     "metadata": {
      "needs_background": "light"
     },
     "output_type": "display_data"
    }
   ],
   "source": [
    "spearman.hist(bins=30)\n",
    "plt.axvline(x=spearman.mean(), color='r', linestyle='-')"
   ]
  },
  {
   "cell_type": "code",
   "execution_count": 306,
   "id": "e7545c48-c5c0-4788-a5d8-4f40ac483067",
   "metadata": {
    "vscode": {
     "languageId": "python"
    }
   },
   "outputs": [
    {
     "data": {
      "image/png": "[encoded data removed]",
      "text/plain": [
       "<Figure size 432x288 with 1 Axes>"
      ]
     },
     "metadata": {
      "needs_background": "light"
     },
     "output_type": "display_data"
    }
   ],
   "source": [
    "mse = y_hat_df.groupby('date').apply(lambda x: mean_squared_error(x.y_hat, x.Y))\n",
    "mse.plot()\n",
    "plt.axhline(y=mse.mean(), color='r', linestyle='-')\n",
    "plt.show()"
   ]
  },
  {
   "cell_type": "code",
   "execution_count": 307,
   "id": "3427dd71-78f0-4453-b072-faa91fb12f58",
   "metadata": {
    "vscode": {
     "languageId": "python"
    }
   },
   "outputs": [
    {
     "data": {
      "text/plain": [
       "<matplotlib.lines.Line2D at 0x7f5bb44708b0>"
      ]
     },
     "execution_count": 307,
     "metadata": {},
     "output_type": "execute_result"
    },
    {
     "data": {
      "image/png": "[encoded data removed]",
      "text/plain": [
       "<Figure size 432x288 with 1 Axes>"
      ]
     },
     "metadata": {
      "needs_background": "light"
     },
     "output_type": "display_data"
    }
   ],
   "source": [
    "mse.hist(bins=30)\n",
    "plt.axvline(x=mse.mean(), color='r', linestyle='-')"
   ]
  },
  {
   "cell_type": "code",
   "execution_count": null,
   "id": "d6238be2-1ed5-493d-854e-1645b7435528",
   "metadata": {
    "vscode": {
     "languageId": "python"
    }
   },
   "outputs": [],
   "source": []
  }
 ],
 "metadata": {
  "kernelspec": {
   "display_name": "Python 3 (ipykernel)",
   "language": "python",
   "name": "python3"
  },
  "language_info": {
   "codemirror_mode": {
    "name": "ipython",
    "version": 3
   },
   "file_extension": ".py",
   "mimetype": "text/x-python",
   "name": "python",
   "nbconvert_exporter": "python",
   "pygments_lexer": "ipython3",
   "version": "3.9.6"
  },
  "vscode": {
   "interpreter": {
    "hash": "f43bc9b1800d20f4ed852f33e6bc7bf3b06623dd9099929dff0fb68cebae8d73"
   }
  }
 },
 "nbformat": 4,
 "nbformat_minor": 5
}
